{
  "cells": [
    {
      "cell_type": "markdown",
      "metadata": {
        "id": "view-in-github",
        "colab_type": "text"
      },
      "source": [
        "<a href=\"https://colab.research.google.com/github/ZoeMcFife/5AHITM/blob/main/INSY/colab/%232024-09-26%23/1-python-numpy-tutorial.ipynb\" target=\"_parent\"><img src=\"https://colab.research.google.com/assets/colab-badge.svg\" alt=\"Open In Colab\"/></a>"
      ]
    },
    {
      "cell_type": "markdown",
      "metadata": {
        "id": "Ymo4hRf382Lm"
      },
      "source": [
        "Python Crash Course\n",
        "===================\n",
        "\n",
        "**This is based on the course of [Fraida Fund](https://colab.research.google.com/github/ffund/ml-notebooks/blob/master/notebooks/1-colab-tour.ipynb) for  NYU Tandon School of Engineering**\n",
        "\n",
        "[![Open In Colab](https://colab.research.google.com/assets/colab-badge.svg)](https://colab.research.google.com/github/sz-hon/ml-notebooks/blob/master/notebooks/1-python-numpy-tutorial.ipynb)"
      ],
      "id": "Ymo4hRf382Lm"
    },
    {
      "cell_type": "markdown",
      "metadata": {
        "id": "7Msp823582Lp"
      },
      "source": [
        "**Attribution**:\n",
        "\n",
        "-   Parts of this notebook are adapted from a [tutorial from CS231N at Stanford University](https://cs231n.github.io/python-numpy-tutorial/), which is shared under the [MIT license]((https://opensource.org/licenses/MIT)).\n",
        "-   Parts of this notebook are adapted from Jake VanderPlas’s [Whirlwind Tour of Python](https://colab.research.google.com/github/jakevdp/WhirlwindTourOfPython/blob/master/Index.ipynb), which is shared under the [Creative Commons CC0 Public Domain Dedication license](https://github.com/jakevdp/WhirlwindTourOfPython/blob/master/LICENSE).\n",
        "-   The visualizations in this notebook are from [A Visual Intro to NumPy](http://jalammar.github.io/visual-numpy/) by Jay Alammar, which is licensed under a Creative Commons Attribution-NonCommercial-ShareAlike 4.0 International License.\n",
        "-   Parts of this notebook (and some images) about `numpy` broadcasting are adapted from Sebastian Raschka’s [STATS451](https://github.com/rasbt/stat451-machine-learning-fs20) materials."
      ],
      "id": "7Msp823582Lp"
    },
    {
      "cell_type": "markdown",
      "metadata": {
        "id": "iK-5HzD482Lq"
      },
      "source": [
        "Introduction\n",
        "------------"
      ],
      "id": "iK-5HzD482Lq"
    },
    {
      "cell_type": "markdown",
      "metadata": {
        "id": "IaT-7IwS82Lr"
      },
      "source": [
        "Python is a great general-purpose programming language on its own, but with the help of a few popular *libraries* (`numpy`, `pandas`, `matplotlib`) it becomes a powerful environment for scientific computing."
      ],
      "id": "IaT-7IwS82Lr"
    },
    {
      "cell_type": "markdown",
      "metadata": {
        "id": "A6-UfrT982Ls"
      },
      "source": [
        "This tutorial is an introduction to Python and the `numpy` library for those who are already familiar with programming in another language.\n",
        "\n",
        "In this tutorial, we will cover:\n",
        "\n",
        "-   Basic Python: Basic data types, Containers (Lists, Dictionaries,, Tuples), Control Flow Statements, Errors and Exceptions, Functions, Classes\n",
        "-   `numpy`: Arrays, Array indexing, Datatypes, Array math, Broadcasting\n",
        "-   `matplotlib`: Basic Visualization, Subplots, Image Visualization"
      ],
      "id": "A6-UfrT982Ls"
    },
    {
      "cell_type": "markdown",
      "metadata": {
        "id": "sa53uoK882Lt"
      },
      "source": [
        "This tutorial is designed to run as a Python notebook on Colab. We’ll take a closer look at Colab and its features in a separate tutorial, but for now, here is what you need to know:\n",
        "\n",
        "-   When you see a “cell” with Python code in it, move your mouse over the margin on the left side of the cell. A \\> button will appear - click on that button to execute the code in the cell.\n",
        "-   The output of the code will appear underneath the cell.\n",
        "-   You can edit the code in the cell and press the \\> button again to execute the modified code.\n",
        "\n",
        "As you work through this tutorial, look at the code in each cell, and try to predict its output before you run it! Then, run the cell and check your understanding. You can also try to modify the code and observe the effect of your changes."
      ],
      "id": "sa53uoK882Lt"
    },
    {
      "cell_type": "markdown",
      "metadata": {
        "id": "FuuTJuD582Lu"
      },
      "source": [
        "A Brief Note on Python Versions\n",
        "-------------------------------\n",
        "\n",
        "As of Janurary 1, 2020, Python has [officially dropped support](https://www.python.org/doc/sunset-python-2/) for `python2`. We’ll be using Python 3 for this course."
      ],
      "id": "FuuTJuD582Lu"
    },
    {
      "cell_type": "markdown",
      "metadata": {
        "id": "DuGpCk_H82Lv"
      },
      "source": [
        "Basics of Python\n",
        "----------------"
      ],
      "id": "DuGpCk_H82Lv"
    },
    {
      "cell_type": "markdown",
      "metadata": {
        "id": "YPkIPgXf82Lv"
      },
      "source": [
        "Python is a high-level, dynamically typed multiparadigm programming language. Python code is often said to be almost like pseudocode, since it allows you to express very powerful ideas in very few lines of code while being very readable. As an example, here is an implementation of the classic quicksort algorithm in Python:"
      ],
      "id": "YPkIPgXf82Lv"
    },
    {
      "cell_type": "code",
      "execution_count": null,
      "metadata": {
        "id": "xv0OKGDm82Lx"
      },
      "outputs": [],
      "source": [
        "def quicksort(arr):\n",
        "    if len(arr) <= 1:\n",
        "        return arr\n",
        "    pivot = arr[len(arr) // 2]\n",
        "    left = [x for x in arr if x < pivot]\n",
        "    middle = [x for x in arr if x == pivot]\n",
        "    right = [x for x in arr if x > pivot]\n",
        "    return quicksort(left) + middle + quicksort(right)\n",
        "\n",
        "print(quicksort([3,6,8,10,1,2,1]))"
      ],
      "id": "xv0OKGDm82Lx"
    },
    {
      "cell_type": "markdown",
      "metadata": {
        "id": "ShICQocu82Ly"
      },
      "source": [
        "### Basic data types"
      ],
      "id": "ShICQocu82Ly"
    },
    {
      "cell_type": "markdown",
      "metadata": {
        "id": "yB07g37982Lz"
      },
      "source": [
        "#### Numbers"
      ],
      "id": "yB07g37982Lz"
    },
    {
      "cell_type": "markdown",
      "metadata": {
        "id": "dn4_QV5u82Lz"
      },
      "source": [
        "Integers and floats work as you would expect from other languages:"
      ],
      "id": "dn4_QV5u82Lz"
    },
    {
      "cell_type": "code",
      "execution_count": null,
      "metadata": {
        "id": "8g_hvXYb82L0"
      },
      "outputs": [],
      "source": [
        "x = 3\n",
        "print(x, type(x))"
      ],
      "id": "8g_hvXYb82L0"
    },
    {
      "cell_type": "markdown",
      "metadata": {
        "id": "EObm3sTn82L1"
      },
      "source": [
        "By the way: note that you did not have to declare the variable `x` or specify its type before you assigned a value to it. In Python, you can create a variable just by assigning something to it."
      ],
      "id": "EObm3sTn82L1"
    },
    {
      "cell_type": "code",
      "execution_count": null,
      "metadata": {
        "id": "Jg40elkD82L1"
      },
      "outputs": [],
      "source": [
        "print(x + 1)   # Addition\n",
        "print(x - 1)   # Subtraction\n",
        "print(x * 2)   # Multiplication\n",
        "print(x ** 2)  # Exponentiation"
      ],
      "id": "Jg40elkD82L1"
    },
    {
      "cell_type": "markdown",
      "metadata": {
        "id": "8W4BIYMh82L2"
      },
      "source": [
        "Notice that in the cell above, there is a comment at the end of each line. Comments in Python are indicated by a pound sign (`#`), and anything on the line following the pound sign is ignored. You can have inline comments that follow a statement on the same line, like the ones above, or a comment on its own line."
      ],
      "id": "8W4BIYMh82L2"
    },
    {
      "cell_type": "code",
      "execution_count": null,
      "metadata": {
        "id": "hhB6sgvl82L2"
      },
      "outputs": [],
      "source": [
        "x += 1\n",
        "print(x)\n",
        "x *= 2\n",
        "print(x)"
      ],
      "id": "hhB6sgvl82L2"
    },
    {
      "cell_type": "code",
      "execution_count": null,
      "metadata": {
        "id": "czsay9YE82L2"
      },
      "outputs": [],
      "source": [
        "y = 2.5\n",
        "print(type(y))\n",
        "print(y, y + 1, y * 2, y ** 2)"
      ],
      "id": "czsay9YE82L2"
    },
    {
      "cell_type": "markdown",
      "metadata": {
        "id": "ePjb8czF82L4"
      },
      "source": [
        "Note that unlike many languages, Python does not have unary increment (x++) or decrement (x--) operators.\n",
        "\n",
        "Python also has built-in types for long integers and complex numbers; you can find all of the details in the [documentation](https://docs.python.org/3.7/library/stdtypes.html#numeric-types-int-float-long-complex)."
      ],
      "id": "ePjb8czF82L4"
    },
    {
      "cell_type": "markdown",
      "metadata": {
        "id": "mQU4jTWF82L4"
      },
      "source": [
        "#### Booleans"
      ],
      "id": "mQU4jTWF82L4"
    },
    {
      "cell_type": "markdown",
      "metadata": {
        "id": "vm3dB4qK82L4"
      },
      "source": [
        "Python implements all of the usual operators for Boolean logic, but uses English words rather than symbols (`&&`, `||`, etc.):"
      ],
      "id": "vm3dB4qK82L4"
    },
    {
      "cell_type": "code",
      "execution_count": null,
      "metadata": {
        "id": "qDAs2Erv82L4"
      },
      "outputs": [],
      "source": [
        "t, f = True, False\n",
        "print(type(t))"
      ],
      "id": "qDAs2Erv82L4"
    },
    {
      "cell_type": "markdown",
      "metadata": {
        "id": "FEo2k1hM82L4"
      },
      "source": [
        "Now let's look at the operations:"
      ],
      "id": "FEo2k1hM82L4"
    },
    {
      "cell_type": "code",
      "execution_count": null,
      "metadata": {
        "id": "1mX6tHvr82L5"
      },
      "outputs": [],
      "source": [
        "print(t and f) # Logical AND;\n",
        "print(t or f)  # Logical OR;\n",
        "print(not t)   # Logical NOT;\n",
        "print(t != f)  # Logical XOR;"
      ],
      "id": "1mX6tHvr82L5"
    },
    {
      "cell_type": "markdown",
      "metadata": {
        "id": "684KAaJH82L5"
      },
      "source": [
        "#### Strings"
      ],
      "id": "684KAaJH82L5"
    },
    {
      "cell_type": "code",
      "execution_count": null,
      "metadata": {
        "id": "DQh24unt82L6"
      },
      "outputs": [],
      "source": [
        "hello = 'hello'   # String literals can use single quotes\n",
        "world = \"world\"   # or double quotes; it does not matter\n",
        "print(hello, len(hello))"
      ],
      "id": "DQh24unt82L6"
    },
    {
      "cell_type": "code",
      "execution_count": null,
      "metadata": {
        "id": "T-Hf29IM82L7"
      },
      "outputs": [],
      "source": [
        "hw = hello + ' ' + world  # String concatenation\n",
        "print(hw)"
      ],
      "id": "T-Hf29IM82L7"
    },
    {
      "cell_type": "code",
      "execution_count": null,
      "metadata": {
        "id": "oqZspdgr82L7"
      },
      "outputs": [],
      "source": [
        "hw12 = '{} {} {}'.format(hello, world, 12)  # string formatting\n",
        "print(hw12)"
      ],
      "id": "oqZspdgr82L7"
    },
    {
      "cell_type": "markdown",
      "metadata": {
        "id": "1BMcfhwO82L8"
      },
      "source": [
        "String objects have a bunch of useful methods; for example:"
      ],
      "id": "1BMcfhwO82L8"
    },
    {
      "cell_type": "code",
      "execution_count": null,
      "metadata": {
        "id": "dWIPMRmS82L9"
      },
      "outputs": [],
      "source": [
        "s = \"hello\"\n",
        "print(s.capitalize())  # Capitalize a string\n",
        "print(s.upper())       # Convert a string to uppercase; prints \"HELLO\"\n",
        "print(s.rjust(7))      # Right-justify a string, padding with spaces\n",
        "print(s.center(7))     # Center a string, padding with spaces\n",
        "print(s.replace('l', '(ell)'))  # Replace all instances of one substring with another\n",
        "print('  world '.strip())  # Strip leading and trailing whitespace"
      ],
      "id": "dWIPMRmS82L9"
    },
    {
      "cell_type": "markdown",
      "metadata": {
        "id": "hfqnETaF82L9"
      },
      "source": [
        "You can find a list of all string methods in the [documentation](https://docs.python.org/3.7/library/stdtypes.html#string-methods)."
      ],
      "id": "hfqnETaF82L9"
    },
    {
      "cell_type": "markdown",
      "metadata": {
        "id": "YvECPS0D82L9"
      },
      "source": [
        "### Containers"
      ],
      "id": "YvECPS0D82L9"
    },
    {
      "cell_type": "markdown",
      "metadata": {
        "id": "bOLqsRiv82L-"
      },
      "source": [
        "Python includes several built-in container types: lists, dictionaries, sets, and tuples."
      ],
      "id": "bOLqsRiv82L-"
    },
    {
      "cell_type": "markdown",
      "metadata": {
        "id": "gFxgKJyt82L-"
      },
      "source": [
        "#### Lists"
      ],
      "id": "gFxgKJyt82L-"
    },
    {
      "cell_type": "markdown",
      "metadata": {
        "id": "SrJ6UR9S82L_"
      },
      "source": [
        "A list is the Python equivalent of an array, but is resizeable and can contain elements of different types:"
      ],
      "id": "SrJ6UR9S82L_"
    },
    {
      "cell_type": "code",
      "execution_count": null,
      "metadata": {
        "id": "WwcWbhFV82L_"
      },
      "outputs": [],
      "source": [
        "xs = [3, 1, 2]   # Create a list\n",
        "print(xs, xs[2])\n",
        "print(xs[-1])     # Negative indices count from the end of the list; prints \"2\""
      ],
      "id": "WwcWbhFV82L_"
    },
    {
      "cell_type": "code",
      "execution_count": null,
      "metadata": {
        "id": "KwSv93SP82L_"
      },
      "outputs": [],
      "source": [
        "xs[2] = 'foo'    # Lists can contain elements of different types\n",
        "print(xs)"
      ],
      "id": "KwSv93SP82L_"
    },
    {
      "cell_type": "code",
      "execution_count": null,
      "metadata": {
        "id": "LBuSka9p82L_"
      },
      "outputs": [],
      "source": [
        "xs.append('bar') # Add a new element to the end of the list\n",
        "print(xs)"
      ],
      "id": "LBuSka9p82L_"
    },
    {
      "cell_type": "code",
      "execution_count": null,
      "metadata": {
        "id": "HScJCLLz82MA"
      },
      "outputs": [],
      "source": [
        "x = xs.pop()     # Remove and return the last element of the list\n",
        "print(x, xs)"
      ],
      "id": "HScJCLLz82MA"
    },
    {
      "cell_type": "markdown",
      "metadata": {
        "id": "95f1tx-M82MA"
      },
      "source": [
        "As usual, you can find all the gory details about lists in the [documentation](https://docs.python.org/3.7/tutorial/datastructures.html#more-on-lists)."
      ],
      "id": "95f1tx-M82MA"
    },
    {
      "cell_type": "markdown",
      "metadata": {
        "id": "aVaAfErw82MA"
      },
      "source": [
        "#### Slicing"
      ],
      "id": "aVaAfErw82MA"
    },
    {
      "cell_type": "markdown",
      "metadata": {
        "id": "Cv6q2KHW82MB"
      },
      "source": [
        "In addition to accessing list elements one at a time, Python provides concise syntax to access sublists; this is known as slicing:"
      ],
      "id": "Cv6q2KHW82MB"
    },
    {
      "cell_type": "code",
      "execution_count": null,
      "metadata": {
        "id": "Cp-Hovqv82MB"
      },
      "outputs": [],
      "source": [
        "nums = list(range(5))    # range is a built-in function that creates a list of integers\n",
        "print(nums)         # Prints \"[0, 1, 2, 3, 4]\"\n",
        "print(nums[2:4])    # Get a slice from index 2 to 4 (exclusive); prints \"[2, 3]\"\n",
        "print(nums[2:])     # Get a slice from index 2 to the end; prints \"[2, 3, 4]\"\n",
        "print(nums[:2])     # Get a slice from the start to index 2 (exclusive); prints \"[0, 1]\"\n",
        "print(nums[:])      # Get a slice of the whole list; prints [\"0, 1, 2, 3, 4]\"\n",
        "print(nums[:-1])    # Slice indices can be negative; prints [\"0, 1, 2, 3]\"\n",
        "nums[2:4] = [8, 9] # Assign a new sublist to a slice\n",
        "print(nums)         # Prints \"[0, 1, 8, 9, 4]\""
      ],
      "id": "Cp-Hovqv82MB"
    },
    {
      "cell_type": "markdown",
      "metadata": {
        "id": "9m7ek8uA82MC"
      },
      "source": [
        "#### Dictionaries"
      ],
      "id": "9m7ek8uA82MC"
    },
    {
      "cell_type": "markdown",
      "metadata": {
        "id": "pOrnCVvS82MC"
      },
      "source": [
        "A dictionary stores (key, value) pairs, similar to a `Map` in Java or an object in Javascript. You can use it like this:"
      ],
      "id": "pOrnCVvS82MC"
    },
    {
      "cell_type": "code",
      "execution_count": null,
      "metadata": {
        "id": "FyHDyT1J82MC"
      },
      "outputs": [],
      "source": [
        "d = {'cat': 'cute', 'dog': 'furry'}  # Create a new dictionary with some data\n",
        "print(d['cat'])       # Get an entry from a dictionary; prints \"cute\"\n",
        "print('cat' in d)     # Check if a dictionary has a given key; prints \"True\""
      ],
      "id": "FyHDyT1J82MC"
    },
    {
      "cell_type": "code",
      "execution_count": null,
      "metadata": {
        "id": "abk04RfY82MC"
      },
      "outputs": [],
      "source": [
        "d['fish'] = 'wet'    # Set an entry in a dictionary\n",
        "print(d['fish'])      # Prints \"wet\""
      ],
      "id": "abk04RfY82MC"
    },
    {
      "cell_type": "code",
      "execution_count": null,
      "metadata": {
        "id": "BrHiz3Qu82MD"
      },
      "outputs": [],
      "source": [
        "# note: this cell will raise an error\n",
        "print(d['monkey'])  # KeyError: 'monkey' not a key of d"
      ],
      "id": "BrHiz3Qu82MD"
    },
    {
      "cell_type": "code",
      "execution_count": null,
      "metadata": {
        "id": "AUom0Ktd82MD"
      },
      "outputs": [],
      "source": [
        "print(d.get('monkey', 'N/A'))  # Get an element with a default; prints \"N/A\"\n",
        "print(d.get('fish', 'N/A'))    # Get an element with a default; prints \"wet\""
      ],
      "id": "AUom0Ktd82MD"
    },
    {
      "cell_type": "code",
      "execution_count": null,
      "metadata": {
        "id": "48VnfWY382MD"
      },
      "outputs": [],
      "source": [
        "del d['fish']        # Remove an element from a dictionary\n",
        "print(d.get('fish', 'N/A')) # \"fish\" is no longer a key; prints \"N/A\""
      ],
      "id": "48VnfWY382MD"
    },
    {
      "cell_type": "markdown",
      "metadata": {
        "id": "CqxBbquP82MD"
      },
      "source": [
        "You can find all you need to know about dictionaries in the [documentation](https://docs.python.org/2/library/stdtypes.html#dict)."
      ],
      "id": "CqxBbquP82MD"
    },
    {
      "cell_type": "markdown",
      "metadata": {
        "id": "6qiDyK9t82MD"
      },
      "source": [
        "#### Tuples"
      ],
      "id": "6qiDyK9t82MD"
    },
    {
      "cell_type": "markdown",
      "metadata": {
        "id": "oyzzF1mJ82MD"
      },
      "source": [
        "A tuple is an (immutable) ordered list of values. A tuple is in many ways similar to a list; one of the most important differences is that tuples can be used as keys in dictionaries and as elements of sets, while lists cannot. Here is a trivial example:"
      ],
      "id": "oyzzF1mJ82MD"
    },
    {
      "cell_type": "code",
      "execution_count": null,
      "metadata": {
        "id": "ExT1PR2F82ME"
      },
      "outputs": [],
      "source": [
        "d = {(x, x + 1): x for x in range(10)}  # Create a dictionary with tuple keys\n",
        "t = (5, 6)       # Create a tuple\n",
        "print(type(t))\n",
        "print(d[t])\n",
        "\n",
        "print(d[(1, 2)])"
      ],
      "id": "ExT1PR2F82ME"
    },
    {
      "cell_type": "code",
      "execution_count": null,
      "metadata": {
        "id": "Du9T3GQA82ME"
      },
      "outputs": [],
      "source": [
        "d[0] = 100 # you can change a value in the dictionary...\n",
        "print(d)"
      ],
      "id": "Du9T3GQA82ME"
    },
    {
      "cell_type": "code",
      "execution_count": null,
      "metadata": {
        "id": "2XZy2KJA82ME"
      },
      "outputs": [],
      "source": [
        "t[0] = 1 # ...but not a value in the tuple\n",
        "# this cell raises an error! 'tuple' object does not support item assignment"
      ],
      "id": "2XZy2KJA82ME"
    },
    {
      "cell_type": "markdown",
      "metadata": {
        "id": "0txQrnwo82MF"
      },
      "source": [
        "### Control Flow Statements"
      ],
      "id": "0txQrnwo82MF"
    },
    {
      "cell_type": "markdown",
      "metadata": {
        "id": "qrZS1j1682MF"
      },
      "source": [
        "#### If-Else\n",
        "\n",
        "Conditional statements, often referred to as *if-then* statements, allow the programmer to execute certain pieces of code depending on some Boolean condition.\n",
        "\n",
        "A basic example of a Python conditional statement is this:"
      ],
      "id": "qrZS1j1682MF"
    },
    {
      "cell_type": "code",
      "execution_count": null,
      "metadata": {
        "id": "lmaWs1UB82MF"
      },
      "outputs": [],
      "source": [
        "\n",
        "x = -15\n",
        "\n",
        "if x == 0:\n",
        "    print(x, \"is zero\")\n",
        "elif x > 0:\n",
        "    print(x, \"is positive\")\n",
        "elif x < 0:\n",
        "    print(x, \"is negative\")\n",
        "else:\n",
        "    print(x, \"is unlike anything I've ever seen...\")"
      ],
      "id": "lmaWs1UB82MF"
    },
    {
      "cell_type": "markdown",
      "metadata": {
        "id": "CIBMoL2k82MF"
      },
      "source": [
        "Note especially the use of colons (`:`) and whitespace to denote separate blocks of code.\n",
        "\n",
        "A *block* of code is a set of statements that should be treated as a unit. In C, for example, code blocks are denoted by curly braces:\n",
        "\n",
        "``` c\n",
        "// C code\n",
        "for(int i=0; i<100; i++)\n",
        "   {\n",
        "      // curly braces indicate code block\n",
        "      total += i;\n",
        "   }\n",
        "```\n",
        "\n",
        "In Python, code blocks are denoted by *indentation*:\n",
        "\n",
        "``` python\n",
        "for i in range(100):\n",
        "    # indentation indicates code block\n",
        "    total += i\n",
        "```\n",
        "\n",
        "where all statements that should be evaluated within the “block” are at the same level of indentation.\n",
        "\n",
        "Indented code blocks are always preceded by a colon (`:`) on the previous line."
      ],
      "id": "CIBMoL2k82MF"
    },
    {
      "cell_type": "markdown",
      "metadata": {
        "id": "kEY6zJrW82MG"
      },
      "source": [
        "#### For\n",
        "\n",
        "Loops in Python are a way to repeatedly execute some code statement. So, for example, if we’d like to print each of the items in a list, we can use a `for` loop:"
      ],
      "id": "kEY6zJrW82MG"
    },
    {
      "cell_type": "code",
      "execution_count": null,
      "metadata": {
        "id": "9_RzVmTl82MG"
      },
      "outputs": [],
      "source": [
        "for N in [2, 3, 5, 7]:\n",
        "    print(N, end=' ') # print all on same line"
      ],
      "id": "9_RzVmTl82MG"
    },
    {
      "cell_type": "markdown",
      "metadata": {
        "id": "hJunzAZr82MG"
      },
      "source": [
        "Notice the simplicity of the `for` loop: we specify the variable we want to use, the sequence we want to loop over, and use the “`in`” operator to link them together in an intuitive and readable way. More precisely, the object to the right of the “`in`” can be any Python *iterator*.\n",
        "\n",
        "For example, one of the most commonly-used iterators in Python is the `range` object, which generates a sequence of numbers:"
      ],
      "id": "hJunzAZr82MG"
    },
    {
      "cell_type": "code",
      "execution_count": null,
      "metadata": {
        "id": "-MAf2k6s82MH"
      },
      "outputs": [],
      "source": [
        "for i in range(10):\n",
        "    print(i, end=' ')"
      ],
      "id": "-MAf2k6s82MH"
    },
    {
      "cell_type": "markdown",
      "metadata": {
        "id": "MW-bPkD182MH"
      },
      "source": [
        "Note that the range starts at zero by default, and that by convention the top of the range is not included in the output."
      ],
      "id": "MW-bPkD182MH"
    },
    {
      "cell_type": "markdown",
      "metadata": {
        "id": "5Vbkgk3282MH"
      },
      "source": [
        "We can loop over any list, no matter what type of object is stored in it."
      ],
      "id": "5Vbkgk3282MH"
    },
    {
      "cell_type": "code",
      "execution_count": null,
      "metadata": {
        "id": "jLF0lBL182MH"
      },
      "outputs": [],
      "source": [
        "animals = ['cat', 'dog', 'monkey']\n",
        "for animal in animals:\n",
        "    print(animal)"
      ],
      "id": "jLF0lBL182MH"
    },
    {
      "cell_type": "markdown",
      "metadata": {
        "id": "51uWBrbq82MH"
      },
      "source": [
        "If you want access to the index of each element within the body of a loop, use the built-in `enumerate` function:"
      ],
      "id": "51uWBrbq82MH"
    },
    {
      "cell_type": "code",
      "execution_count": null,
      "metadata": {
        "id": "LsM_PRyf82MI"
      },
      "outputs": [],
      "source": [
        "animals = ['cat', 'dog', 'monkey']\n",
        "for idx, animal in enumerate(animals):\n",
        "    print('#{}: {}'.format(idx + 1, animal))"
      ],
      "id": "LsM_PRyf82MI"
    },
    {
      "cell_type": "markdown",
      "metadata": {
        "id": "72WLdZGZ82MI"
      },
      "source": [
        "It is easy to iterate over the keys in a dictionary:"
      ],
      "id": "72WLdZGZ82MI"
    },
    {
      "cell_type": "code",
      "execution_count": null,
      "metadata": {
        "id": "cB6Gya8H82MI"
      },
      "outputs": [],
      "source": [
        "d = {'person': 2, 'cat': 4, 'spider': 8}\n",
        "for animal, legs in d.items():\n",
        "    print('A {} has {} legs'.format(animal, legs))"
      ],
      "id": "cB6Gya8H82MI"
    },
    {
      "cell_type": "markdown",
      "metadata": {
        "id": "l6VMgYgw82MI"
      },
      "source": [
        "#### While\n",
        "\n",
        "The other type of loop in Python is a `while` loop, which iterates until some condition is met:"
      ],
      "id": "l6VMgYgw82MI"
    },
    {
      "cell_type": "code",
      "execution_count": null,
      "metadata": {
        "id": "SxZzaT-T82MJ"
      },
      "outputs": [],
      "source": [
        "i = 0\n",
        "while i < 10:\n",
        "    print(i, end=' ')\n",
        "    i += 1"
      ],
      "id": "SxZzaT-T82MJ"
    },
    {
      "cell_type": "markdown",
      "metadata": {
        "id": "_doEv4Cf82MJ"
      },
      "source": [
        "#### List comprehensions"
      ],
      "id": "_doEv4Cf82MJ"
    },
    {
      "cell_type": "markdown",
      "metadata": {
        "id": "H-zh9xbV82MJ"
      },
      "source": [
        "When programming, frequently we want to transform one type of data into another. As a simple example, consider the following code that computes square numbers:"
      ],
      "id": "H-zh9xbV82MJ"
    },
    {
      "cell_type": "code",
      "execution_count": null,
      "metadata": {
        "id": "ERoXqVyu82MJ"
      },
      "outputs": [],
      "source": [
        "nums = [0, 1, 2, 3, 4]\n",
        "squares = []\n",
        "for x in nums:\n",
        "    squares.append(x ** 2)\n",
        "print(squares)"
      ],
      "id": "ERoXqVyu82MJ"
    },
    {
      "cell_type": "markdown",
      "metadata": {
        "id": "4kM5tbVI82MK"
      },
      "source": [
        "You can make this code simpler using a list comprehension:"
      ],
      "id": "4kM5tbVI82MK"
    },
    {
      "cell_type": "code",
      "execution_count": null,
      "metadata": {
        "id": "2WwNoM_v82MK"
      },
      "outputs": [],
      "source": [
        "nums = [0, 1, 2, 3, 4]\n",
        "squares = [x ** 2 for x in nums]\n",
        "print(squares)"
      ],
      "id": "2WwNoM_v82MK"
    },
    {
      "cell_type": "markdown",
      "metadata": {
        "id": "rcQsiTbt82ML"
      },
      "source": [
        "List comprehensions can also contain conditions:"
      ],
      "id": "rcQsiTbt82ML"
    },
    {
      "cell_type": "code",
      "execution_count": null,
      "metadata": {
        "id": "v5eB6l-Z82MM"
      },
      "outputs": [],
      "source": [
        "nums = [0, 1, 2, 3, 4]\n",
        "even_squares = [x ** 2 for x in nums if x % 2 == 0]\n",
        "print(even_squares)"
      ],
      "id": "v5eB6l-Z82MM"
    },
    {
      "cell_type": "markdown",
      "metadata": {
        "id": "VZE2lyk882MM"
      },
      "source": [
        "Dictionary comprehensions are similar to list comprehensions, but allow you to easily construct dictionaries. For example:"
      ],
      "id": "VZE2lyk882MM"
    },
    {
      "cell_type": "code",
      "execution_count": null,
      "metadata": {
        "id": "7CuTGdtu82MN"
      },
      "outputs": [],
      "source": [
        "nums = [0, 1, 2, 3, 4]\n",
        "even_num_to_square = {x: x ** 2 for x in nums if x % 2 == 0}\n",
        "print(even_num_to_square)"
      ],
      "id": "7CuTGdtu82MN"
    },
    {
      "cell_type": "markdown",
      "metadata": {
        "id": "d5jXy8UL82MN"
      },
      "source": [
        "### Errors and Exceptions"
      ],
      "id": "d5jXy8UL82MN"
    },
    {
      "cell_type": "markdown",
      "metadata": {
        "id": "8YofQ7no82MN"
      },
      "source": [
        "When you are working with Python, you are likely to come across errors. When an error occurs, Python tries to explain to you what went wrong, but it takes some experience to interpret the error messages."
      ],
      "id": "8YofQ7no82MN"
    },
    {
      "cell_type": "markdown",
      "metadata": {
        "id": "wj2Z2Nm282MO"
      },
      "source": [
        "The code in the following cell will raise a `SyntaxError` because it tries to use a variable name that begins with a number, which is not allowed in Python.\n",
        "\n",
        "Run the code, and look for three key “ingredients” in the error message that is printed to the output:\n",
        "\n",
        "-   the type of error. In this case, it will be a `SyntaxError`. This type of error is raised by the *parser*, which checks to see if the code is valid before passing it to the *runtime* to execute the code.\n",
        "-   an explanation of the error, if available. In this case, the explanation is “invalid syntax”.\n",
        "-   details about where the error was detected. At what line of code, and what point in the line, did the error occur?"
      ],
      "id": "wj2Z2Nm282MO"
    },
    {
      "cell_type": "code",
      "execution_count": null,
      "metadata": {
        "id": "lJSf8fJV82MO"
      },
      "outputs": [],
      "source": [
        "1st_number = 1"
      ],
      "id": "lJSf8fJV82MO"
    },
    {
      "cell_type": "markdown",
      "metadata": {
        "id": "Pchrjtcg82MO"
      },
      "source": [
        "Here are some more examples. Run the following cells, one at a time. Each will trigger an error message. Try to parse the error message by looking for the three “ingredients”.\n",
        "\n",
        "Look up each error type in [the documentation](https://docs.python.org/3/library/exceptions.html). Under what conditions is this error raised?"
      ],
      "id": "Pchrjtcg82MO"
    },
    {
      "cell_type": "code",
      "execution_count": null,
      "metadata": {
        "id": "SVVOUl2882MO"
      },
      "outputs": [],
      "source": [
        "x=0\n",
        "x++"
      ],
      "id": "SVVOUl2882MO"
    },
    {
      "cell_type": "code",
      "execution_count": null,
      "metadata": {
        "id": "t3cQUzc582MO"
      },
      "outputs": [],
      "source": [
        "x=0\n",
        " x=x+1"
      ],
      "id": "t3cQUzc582MO"
    },
    {
      "cell_type": "code",
      "execution_count": null,
      "metadata": {
        "id": "C0QNwHjq82MP"
      },
      "outputs": [],
      "source": [
        "print('Hello'"
      ],
      "id": "C0QNwHjq82MP"
    },
    {
      "cell_type": "code",
      "execution_count": null,
      "metadata": {
        "id": "bXXNkh3882MP"
      },
      "outputs": [],
      "source": [
        "1 + 'asdf'"
      ],
      "id": "bXXNkh3882MP"
    },
    {
      "cell_type": "code",
      "execution_count": null,
      "metadata": {
        "id": "plB4N3tD82MP"
      },
      "outputs": [],
      "source": [
        "import NoSuchLibrary"
      ],
      "id": "plB4N3tD82MP"
    },
    {
      "cell_type": "code",
      "execution_count": null,
      "metadata": {
        "id": "EQPMUd6o82MQ"
      },
      "outputs": [],
      "source": [
        "print(xyz)"
      ],
      "id": "EQPMUd6o82MQ"
    },
    {
      "cell_type": "code",
      "execution_count": null,
      "metadata": {
        "id": "7XEhcJS982MQ"
      },
      "outputs": [],
      "source": [
        "x=0\n",
        "5/x"
      ],
      "id": "7XEhcJS982MQ"
    },
    {
      "cell_type": "markdown",
      "metadata": {
        "id": "KRPdYXed82MR"
      },
      "source": [
        "### Functions"
      ],
      "id": "KRPdYXed82MR"
    },
    {
      "cell_type": "markdown",
      "metadata": {
        "id": "1HG3uL0K82MR"
      },
      "source": [
        "Python functions are defined using the `def` keyword. For example:"
      ],
      "id": "1HG3uL0K82MR"
    },
    {
      "cell_type": "code",
      "execution_count": null,
      "metadata": {
        "id": "6V_XQvIk82MS"
      },
      "outputs": [],
      "source": [
        "def sign(x):\n",
        "    if x > 0:\n",
        "        return 'positive'\n",
        "    elif x < 0:\n",
        "        return 'negative'\n",
        "    else:\n",
        "        return 'zero'\n",
        "\n",
        "for x in [-1, 0, 1]:\n",
        "    print(sign(x))"
      ],
      "id": "6V_XQvIk82MS"
    },
    {
      "cell_type": "markdown",
      "metadata": {
        "id": "XsQfKR0f82MU"
      },
      "source": [
        "We will often define functions to take optional keyword arguments, like this:"
      ],
      "id": "XsQfKR0f82MU"
    },
    {
      "cell_type": "code",
      "execution_count": null,
      "metadata": {
        "id": "rMAJsYgW82MU"
      },
      "outputs": [],
      "source": [
        "def hello(name, loud=False):\n",
        "    if loud:\n",
        "        print('HELLO, {}'.format(name.upper()))\n",
        "    else:\n",
        "        print('Hello, {}!'.format(name))\n",
        "\n",
        "hello('Bob')\n",
        "hello('Fred', loud=True)"
      ],
      "id": "rMAJsYgW82MU"
    },
    {
      "cell_type": "markdown",
      "metadata": {
        "id": "F8JV9_wd82MV"
      },
      "source": [
        "### Classes"
      ],
      "id": "F8JV9_wd82MV"
    },
    {
      "cell_type": "markdown",
      "metadata": {
        "id": "j6Y8JwOx82MW"
      },
      "source": [
        "The syntax for defining classes in Python is straightforward:"
      ],
      "id": "j6Y8JwOx82MW"
    },
    {
      "cell_type": "code",
      "execution_count": null,
      "metadata": {
        "id": "xX43E8ZA82MW"
      },
      "outputs": [],
      "source": [
        "class Greeter:\n",
        "\n",
        "    # Constructor\n",
        "    def __init__(self, name):\n",
        "        self.name = name  # Create an instance variable\n",
        "\n",
        "    # Instance method\n",
        "    def greet(self, loud=False):\n",
        "        if loud:\n",
        "          print('HELLO, {}'.format(self.name.upper()))\n",
        "        else:\n",
        "          print('Hello, {}!'.format(self.name))\n",
        "\n",
        "g = Greeter('Fred')  # Construct an instance of the Greeter class\n",
        "g.greet()            # Call an instance method; prints \"Hello, Fred\"\n",
        "g.greet(loud=True)   # Call an instance method; prints \"HELLO, FRED!\""
      ],
      "id": "xX43E8ZA82MW"
    },
    {
      "cell_type": "markdown",
      "metadata": {
        "id": "3SAr7sls82MW"
      },
      "source": [
        "Numpy\n",
        "-----"
      ],
      "id": "3SAr7sls82MW"
    },
    {
      "cell_type": "markdown",
      "metadata": {
        "id": "5scdbxfH82MW"
      },
      "source": [
        "Numpy is the core library for scientific computing in Python. It provides a high-performance multidimensional array object, and tools for working with these arrays. If you are already familiar with MATLAB, you might find this [tutorial](http://wiki.scipy.org/NumPy_for_Matlab_Users) useful to get started with Numpy."
      ],
      "id": "5scdbxfH82MW"
    },
    {
      "cell_type": "markdown",
      "metadata": {
        "id": "eWKWTS8582MW"
      },
      "source": [
        "To use Numpy, we first need to import the `numpy` package. By convention, we import it using the alias `np`. Then, when we want to use modules or functions in this library, we preface them with `np.`"
      ],
      "id": "eWKWTS8582MW"
    },
    {
      "cell_type": "code",
      "execution_count": null,
      "metadata": {
        "id": "1u3HC_H482MX"
      },
      "outputs": [],
      "source": [
        "import numpy as np"
      ],
      "id": "1u3HC_H482MX"
    },
    {
      "cell_type": "markdown",
      "metadata": {
        "id": "wXFaVDe782MX"
      },
      "source": [
        "### Arrays and array construction"
      ],
      "id": "wXFaVDe782MX"
    },
    {
      "cell_type": "markdown",
      "metadata": {
        "id": "wEUK6XLy82MX"
      },
      "source": [
        "A numpy array is a grid of values, all of the same type, and is indexed by a tuple of nonnegative integers. The number of dimensions is the rank of the array; the shape of an array is a tuple of integers giving the size of the array along each dimension."
      ],
      "id": "wEUK6XLy82MX"
    },
    {
      "cell_type": "markdown",
      "metadata": {
        "id": "JhC7eoPv82MY"
      },
      "source": [
        "We can create a `numpy` array by passing a Python list to `np.array()`."
      ],
      "id": "JhC7eoPv82MY"
    },
    {
      "cell_type": "code",
      "execution_count": null,
      "metadata": {
        "id": "AtQbbG3k82MY"
      },
      "outputs": [],
      "source": [
        "a = np.array([1, 2, 3])  # Create a rank 1 array"
      ],
      "id": "AtQbbG3k82MY"
    },
    {
      "cell_type": "markdown",
      "metadata": {
        "id": "5Sq3PgHL82MY"
      },
      "source": [
        "This creates the array we can see on the right here:\n",
        "\n",
        "![](http://jalammar.github.io/images/numpy/create-numpy-array-1.png)"
      ],
      "id": "5Sq3PgHL82MY"
    },
    {
      "cell_type": "code",
      "execution_count": null,
      "metadata": {
        "id": "p6qG2fEw82MZ"
      },
      "outputs": [],
      "source": [
        "print(type(a), a.shape, a[0], a[1], a[2])\n",
        "a[0] = 5                 # Change an element of the array\n",
        "print(a)"
      ],
      "id": "p6qG2fEw82MZ"
    },
    {
      "cell_type": "markdown",
      "metadata": {
        "id": "ezvE15_e82MZ"
      },
      "source": [
        "To create a `numpy` array with more dimensions, we can pass nested lists, like this:\n",
        "\n",
        "![](http://jalammar.github.io/images/numpy/numpy-array-create-2d.png)\n",
        "\n",
        "![](http://jalammar.github.io/images/numpy/numpy-3d-array.png)"
      ],
      "id": "ezvE15_e82MZ"
    },
    {
      "cell_type": "code",
      "execution_count": null,
      "metadata": {
        "id": "TViSDRfC82MZ"
      },
      "outputs": [],
      "source": [
        "b = np.array([[1,2],[3,4]])   # Create a rank 2 array\n",
        "print(b)"
      ],
      "id": "TViSDRfC82MZ"
    },
    {
      "cell_type": "code",
      "execution_count": null,
      "metadata": {
        "id": "l_8xuWeh82Ma"
      },
      "outputs": [],
      "source": [
        "print(b.shape)"
      ],
      "id": "l_8xuWeh82Ma"
    },
    {
      "cell_type": "markdown",
      "metadata": {
        "id": "JhiZaX_p82Ma"
      },
      "source": [
        "There are often cases when we want numpy to initialize the values of the array for us. numpy provides methods like `ones()`, `zeros()`, and `random.random()` for these cases. We just pass them the number of elements we want it to generate:\n",
        "\n",
        "![](http://jalammar.github.io/images/numpy/create-numpy-array-ones-zeros-random.png)"
      ],
      "id": "JhiZaX_p82Ma"
    },
    {
      "cell_type": "markdown",
      "metadata": {
        "id": "Xyw5F1wo82Ma"
      },
      "source": [
        "We can also use these methods to produce multi-dimensional arrays, as long as we pass them a tuple describing the dimensions of the matrix we want to create:\n",
        "\n",
        "![](http://jalammar.github.io/images/numpy/numpy-matrix-ones-zeros-random.png)\n",
        "\n",
        "![](http://jalammar.github.io/images/numpy/numpy-3d-array-creation.png)"
      ],
      "id": "Xyw5F1wo82Ma"
    },
    {
      "cell_type": "markdown",
      "metadata": {
        "id": "a5hMVvIP82Ma"
      },
      "source": [
        "Sometimes, we need an array of a specific shape with “placeholder” values that we plan to fill in with the result of a computation. The `zeros` or `ones` functions are handy for this:"
      ],
      "id": "a5hMVvIP82Ma"
    },
    {
      "cell_type": "code",
      "execution_count": null,
      "metadata": {
        "id": "Kzlhw7gU82Ma"
      },
      "outputs": [],
      "source": [
        "a = np.zeros((2,2))  # Create an array of all zeros\n",
        "print(a)"
      ],
      "id": "Kzlhw7gU82Ma"
    },
    {
      "cell_type": "code",
      "execution_count": null,
      "metadata": {
        "id": "ga0-HcO_82Mb"
      },
      "outputs": [],
      "source": [
        "b = np.ones((1,2))   # Create an array of all ones\n",
        "print(b)"
      ],
      "id": "ga0-HcO_82Mb"
    },
    {
      "cell_type": "code",
      "execution_count": null,
      "metadata": {
        "id": "UQNGSFc482Mb"
      },
      "outputs": [],
      "source": [
        "c = np.full((2,2), 7) # Create a constant array\n",
        "print(c)"
      ],
      "id": "UQNGSFc482Mb"
    },
    {
      "cell_type": "code",
      "execution_count": null,
      "metadata": {
        "id": "xLCGD7PG82Mc"
      },
      "outputs": [],
      "source": [
        "d = np.eye(2)        # Create a 2x2 identity matrix\n",
        "print(d)"
      ],
      "id": "xLCGD7PG82Mc"
    },
    {
      "cell_type": "code",
      "execution_count": null,
      "metadata": {
        "id": "YCoM2cDO82Mc"
      },
      "outputs": [],
      "source": [
        "e = np.random.random((2,2)) # Create an array filled with random values\n",
        "print(e)"
      ],
      "id": "YCoM2cDO82Mc"
    },
    {
      "cell_type": "markdown",
      "metadata": {
        "id": "enG1tLUM82Mc"
      },
      "source": [
        "Lastly, I want to mention two very useful functions for creating sequences of numbers within a specified range, namely, arange and linspace. NumPy’s arange function follows the same syntax as Python’s range objects: If two arguments are provided, the first argument represents the start value and the second value defines the stop value of a half-open interval:"
      ],
      "id": "enG1tLUM82Mc"
    },
    {
      "cell_type": "markdown",
      "metadata": {
        "id": "8SnSnWoJ82Md"
      },
      "source": [
        "Numpy also has two useful functions for creating sequences of numbers: `arange` and `linspace`.\n",
        "\n",
        "The `arange` function accepts three arguments, which define the start value, stop value of a half-open interval, and step size. (The default step size, if not explicitly specified, is 1; the default start value, if not explicitly specified, is 0.)\n",
        "\n",
        "The `linspace` function is similar, but we can specify the number of values instead of the step size, and it will create a sequence of evenly spaced values."
      ],
      "id": "8SnSnWoJ82Md"
    },
    {
      "cell_type": "code",
      "execution_count": null,
      "metadata": {
        "id": "vz6inshs82Md"
      },
      "outputs": [],
      "source": [
        "f = np.arange(10,50,5)   # Create an array of values starting at 10 in increments of 5\n",
        "print(f)"
      ],
      "id": "vz6inshs82Md"
    },
    {
      "cell_type": "markdown",
      "metadata": {
        "id": "LiWR1s-s82Md"
      },
      "source": [
        "Note this ends on 45, not 50 (does not include the top end of the interval)."
      ],
      "id": "LiWR1s-s82Md"
    },
    {
      "cell_type": "code",
      "execution_count": null,
      "metadata": {
        "id": "kz96f3K-82Me"
      },
      "outputs": [],
      "source": [
        "g = np.linspace(0., 1., num=5)\n",
        "print(g)"
      ],
      "id": "kz96f3K-82Me"
    },
    {
      "cell_type": "markdown",
      "metadata": {
        "id": "sNj8ZSrg82Mf"
      },
      "source": [
        "Sometimes, we may want to construct an array from existing arrays by “stacking” the existing arrays, either vertically or horizontally. We can use `vstack()` (or `row_stack`) and `hstack()` (or `column_stack`), respectively."
      ],
      "id": "sNj8ZSrg82Mf"
    },
    {
      "cell_type": "code",
      "execution_count": null,
      "metadata": {
        "id": "1bfXGUFk82Mf"
      },
      "outputs": [],
      "source": [
        "a = np.array([1, 2, 3])\n",
        "b = np.array([4, 5, 6])\n",
        "np.vstack((a,b))"
      ],
      "id": "1bfXGUFk82Mf"
    },
    {
      "cell_type": "code",
      "execution_count": null,
      "metadata": {
        "id": "iH2anRIw82Mf"
      },
      "outputs": [],
      "source": [
        "a = np.array([[7], [8], [9]])\n",
        "b = np.array([[4], [5], [6]])\n",
        "np.hstack((a,b))"
      ],
      "id": "iH2anRIw82Mf"
    },
    {
      "cell_type": "markdown",
      "metadata": {
        "id": "0xkV9P0v82Mf"
      },
      "source": [
        "### Array indexing"
      ],
      "id": "0xkV9P0v82Mf"
    },
    {
      "cell_type": "markdown",
      "metadata": {
        "id": "Fd_E0QJc82Mg"
      },
      "source": [
        "Numpy offers several ways to index into arrays."
      ],
      "id": "Fd_E0QJc82Mg"
    },
    {
      "cell_type": "markdown",
      "metadata": {
        "id": "hqETpYHb82Mg"
      },
      "source": [
        "We can index and slice numpy arrays in all the ways we can slice Python lists:\n",
        "\n",
        "![](http://jalammar.github.io/images/numpy/numpy-array-slice.png)\n",
        "\n",
        "And you can index and slice numpy arrays in multiple dimensions. If slicing an array with more than one dimension, you should specify a slice for each dimension:\n",
        "\n",
        "![](http://jalammar.github.io/images/numpy/numpy-matrix-indexing.png)"
      ],
      "id": "hqETpYHb82Mg"
    },
    {
      "cell_type": "code",
      "execution_count": null,
      "metadata": {
        "id": "CpMyr6rW82Mg"
      },
      "outputs": [],
      "source": [
        "# Create the following rank 2 array with shape (3, 4)\n",
        "# [[ 1  2  3  4]\n",
        "#  [ 5  6  7  8]\n",
        "#  [ 9 10 11 12]]\n",
        "a = np.array([[1,2,3,4], [5,6,7,8], [9,10,11,12]])\n",
        "\n",
        "# Use slicing to pull out the subarray consisting of the first 2 rows\n",
        "# and columns 1 and 2; b is the following array of shape (2, 2):\n",
        "# [[2 3]\n",
        "#  [6 7]]\n",
        "b = a[:2, 1:3]\n",
        "print(b)"
      ],
      "id": "CpMyr6rW82Mg"
    },
    {
      "cell_type": "markdown",
      "metadata": {
        "id": "7tvXJCIj82Mh"
      },
      "source": [
        "A slice of an array is a view into the same data, so modifying it will modify the original array."
      ],
      "id": "7tvXJCIj82Mh"
    },
    {
      "cell_type": "code",
      "execution_count": null,
      "metadata": {
        "id": "NDa_Fqc-82Mh"
      },
      "outputs": [],
      "source": [
        "print(a[0, 1])\n",
        "b[0, 0] = 77    # b[0, 0] is the same piece of data as a[0, 1]\n",
        "print(a[0, 1])"
      ],
      "id": "NDa_Fqc-82Mh"
    },
    {
      "cell_type": "markdown",
      "metadata": {
        "id": "FgFXWK3I82Mh"
      },
      "source": [
        "You can also mix integer indexing with slice indexing. However, doing so will yield an array of lower rank than the original array. Note that this is quite different from the way that MATLAB handles array slicing:"
      ],
      "id": "FgFXWK3I82Mh"
    },
    {
      "cell_type": "code",
      "execution_count": null,
      "metadata": {
        "id": "RBZFHDKM82Mh"
      },
      "outputs": [],
      "source": [
        "# Create the following rank 2 array with shape (3, 4)\n",
        "a = np.array([[1,2,3,4], [5,6,7,8], [9,10,11,12]])\n",
        "print(a)"
      ],
      "id": "RBZFHDKM82Mh"
    },
    {
      "cell_type": "markdown",
      "metadata": {
        "id": "2HSKohfv82Mh"
      },
      "source": [
        "Two ways of accessing the data in the middle row of the array. Mixing integer indexing with slices yields an array of lower rank, while using only slices yields an array of the same rank as the original array:"
      ],
      "id": "2HSKohfv82Mh"
    },
    {
      "cell_type": "code",
      "execution_count": null,
      "metadata": {
        "id": "n6muPVOX82Mh"
      },
      "outputs": [],
      "source": [
        "row_r1 = a[1, :]    # Rank 1 view of the second row of a\n",
        "row_r2 = a[1:2, :]  # Rank 2 view of the second row of a\n",
        "row_r3 = a[[1], :]  # Rank 2 view of the second row of a\n",
        "print(row_r1, row_r1.shape)\n",
        "print(row_r2, row_r2.shape)\n",
        "print(row_r3, row_r3.shape)"
      ],
      "id": "n6muPVOX82Mh"
    },
    {
      "cell_type": "code",
      "execution_count": null,
      "metadata": {
        "id": "DpBKJJdN82Mi"
      },
      "outputs": [],
      "source": [
        "# We can make the same distinction when accessing columns of an array:\n",
        "col_r1 = a[:, 1]\n",
        "col_r2 = a[:, 1:2]\n",
        "print(col_r1, col_r1.shape)\n",
        "print()\n",
        "print(col_r2, col_r2.shape)"
      ],
      "id": "DpBKJJdN82Mi"
    },
    {
      "cell_type": "markdown",
      "metadata": {
        "id": "OZzupPrv82Mi"
      },
      "source": [
        "Integer array indexing: When you index into numpy arrays using slicing, the resulting array view will always be a subarray of the original array. In contrast, integer array indexing allows you to construct arbitrary arrays using the data from another array. Here is an example:"
      ],
      "id": "OZzupPrv82Mi"
    },
    {
      "cell_type": "code",
      "execution_count": null,
      "metadata": {
        "id": "sjef3oJM82Mi"
      },
      "outputs": [],
      "source": [
        "a = np.array([[1,2], [3, 4], [5, 6]])\n",
        "\n",
        "# An example of integer array indexing.\n",
        "# The returned array will have shape (3,) and\n",
        "print(a[[0, 1, 2], [0, 1, 0]])\n",
        "\n",
        "# The above example of integer array indexing is equivalent to this:\n",
        "print(np.array([a[0, 0], a[1, 1], a[2, 0]]))"
      ],
      "id": "sjef3oJM82Mi"
    },
    {
      "cell_type": "code",
      "execution_count": null,
      "metadata": {
        "id": "fSgv-Od182Mi"
      },
      "outputs": [],
      "source": [
        "# When using integer array indexing, you can reuse the same\n",
        "# element from the source array:\n",
        "print(a[[0, 0], [1, 1]])\n",
        "\n",
        "# Equivalent to the previous integer array indexing example\n",
        "print(np.array([a[0, 1], a[0, 1]]))"
      ],
      "id": "fSgv-Od182Mi"
    },
    {
      "cell_type": "markdown",
      "metadata": {
        "id": "cbruvTaW82Mj"
      },
      "source": [
        "One useful trick with integer array indexing is selecting or mutating one element from each row of a matrix:"
      ],
      "id": "cbruvTaW82Mj"
    },
    {
      "cell_type": "code",
      "execution_count": null,
      "metadata": {
        "id": "cMt4mlz682Mj"
      },
      "outputs": [],
      "source": [
        "# Create a new array from which we will select elements\n",
        "a = np.array([[1,2,3], [4,5,6], [7,8,9], [10, 11, 12]])\n",
        "print(a)"
      ],
      "id": "cMt4mlz682Mj"
    },
    {
      "cell_type": "code",
      "execution_count": null,
      "metadata": {
        "id": "_wZqpsB982Mj"
      },
      "outputs": [],
      "source": [
        "# Create an array of indices\n",
        "b = np.array([0, 2, 0, 1])\n",
        "\n",
        "# Select one element from each row of a using the indices in b\n",
        "print(a[np.arange(4), b])  # Prints \"[ 1  6  7 11]\""
      ],
      "id": "_wZqpsB982Mj"
    },
    {
      "cell_type": "code",
      "execution_count": null,
      "metadata": {
        "id": "AtWlzUIX82Mj"
      },
      "outputs": [],
      "source": [
        "# Mutate one element from each row of a using the indices in b\n",
        "a[np.arange(4), b] += 10\n",
        "print(a)"
      ],
      "id": "AtWlzUIX82Mj"
    },
    {
      "cell_type": "markdown",
      "metadata": {
        "id": "uGLLfpj482Mk"
      },
      "source": [
        "Boolean array indexing: Boolean array indexing lets you pick out arbitrary elements of an array. Frequently this type of indexing is used to select the elements of an array that satisfy some condition. Here is an example:"
      ],
      "id": "uGLLfpj482Mk"
    },
    {
      "cell_type": "code",
      "execution_count": null,
      "metadata": {
        "id": "mJxdhbHp82Ml"
      },
      "outputs": [],
      "source": [
        "import numpy as np\n",
        "\n",
        "a = np.array([[1,2], [3, 4], [5, 6]])\n",
        "\n",
        "bool_idx = (a > 2)  # Find the elements of a that are bigger than 2;\n",
        "                    # this returns a numpy array of Booleans of the same\n",
        "                    # shape as a, where each slot of bool_idx tells\n",
        "                    # whether that element of a is > 2.\n",
        "\n",
        "print(bool_idx)"
      ],
      "id": "mJxdhbHp82Ml"
    },
    {
      "cell_type": "code",
      "execution_count": null,
      "metadata": {
        "id": "dI4k9oSK82Ml"
      },
      "outputs": [],
      "source": [
        "# We use boolean array indexing to construct a rank 1 array\n",
        "# consisting of the elements of a corresponding to the True values\n",
        "# of bool_idx\n",
        "print(a[bool_idx])\n",
        "\n",
        "# We can do all of the above in a single concise statement:\n",
        "print(a[a > 2])"
      ],
      "id": "dI4k9oSK82Ml"
    },
    {
      "cell_type": "markdown",
      "metadata": {
        "id": "fs018VWu82Ml"
      },
      "source": [
        "When working with numpy arrays, it’s often helpful to get the *indices* (not only the values) of array elements that meet certain conditions. There are a few numpy functions that you’ll definitely want to remember:\n",
        "\n",
        "-   [`argmax`](https://numpy.org/doc/stable/reference/generated/numpy.argmax.html) (get index of maximum element in array)\n",
        "-   [`argmin`](https://numpy.org/doc/stable/reference/generated/numpy.argmin.html) (get index of minimum element in array)\n",
        "-   [`argsort`](https://numpy.org/doc/stable/reference/generated/numpy.argsort.html) (get sorted list of indices, by element value, in ascending order)\n",
        "-   [`where`](https://numpy.org/doc/stable/reference/generated/numpy.where.html) (get indices of elements that meet some condition)"
      ],
      "id": "fs018VWu82Ml"
    },
    {
      "cell_type": "code",
      "execution_count": null,
      "metadata": {
        "id": "IAWg1LP082Mm"
      },
      "outputs": [],
      "source": [
        "a = np.array([1, 8, 9, -3, 2, 4, 7, 9])\n",
        "\n",
        "# Get the index of the maximum element in a\n",
        "print(np.argmax(a))\n",
        "\n",
        "# Get the index of the minimum element in a\n",
        "# (this array has two elements with the maximum value -\n",
        "# only one index is returned)\n",
        "print(np.argmin(a))\n",
        "\n",
        "# Get sorted list of indices\n",
        "print(np.argsort(a))\n",
        "\n",
        "# Get sorted list of indices in descending order\n",
        "# [::-1] is a special slicing index that returns the reversed list\n",
        "print(np.argsort(a)[::-1])\n",
        "\n",
        "# Get indices of elements that meet some condition\n",
        "# this returns a tuple, the list of indices is the first entry\n",
        "# so we use [0] to get it\n",
        "print(np.where(a > 5)[0])\n",
        "\n",
        "# Get indices of elements that meet some condition\n",
        "# this example shows how to get the index of *all* the max values\n",
        "print(np.where(a >= a[np.argmax(a)])[0])"
      ],
      "id": "IAWg1LP082Mm"
    },
    {
      "cell_type": "markdown",
      "metadata": {
        "id": "LG8bDX2W82Mm"
      },
      "source": [
        "For brevity we have left out a lot of details about numpy array indexing; if you want to know more you should read the documentation."
      ],
      "id": "LG8bDX2W82Mm"
    },
    {
      "cell_type": "markdown",
      "metadata": {
        "id": "s0o31-Tu82Mm"
      },
      "source": [
        "### Datatypes"
      ],
      "id": "s0o31-Tu82Mm"
    },
    {
      "cell_type": "markdown",
      "metadata": {
        "id": "URFRQjyS82Mm"
      },
      "source": [
        "Every numpy array is a grid of elements of the same type. Numpy provides a large set of numeric datatypes that you can use to construct arrays. Numpy tries to guess a datatype when you create an array, but functions that construct arrays usually also include an optional argument to explicitly specify the datatype. Here is an example:"
      ],
      "id": "URFRQjyS82Mm"
    },
    {
      "cell_type": "code",
      "execution_count": null,
      "metadata": {
        "id": "73qAaptP82Mn"
      },
      "outputs": [],
      "source": [
        "x = np.array([1, 2])  # Let numpy choose the datatype\n",
        "y = np.array([1.0, 2.0])  # Let numpy choose the datatype\n",
        "z = np.array([1, 2], dtype=np.int64)  # Force a particular datatype\n",
        "\n",
        "print(x.dtype, y.dtype, z.dtype)"
      ],
      "id": "73qAaptP82Mn"
    },
    {
      "cell_type": "markdown",
      "metadata": {
        "id": "yliEiQVm82Mn"
      },
      "source": [
        "You can read all about numpy datatypes in the [documentation](http://docs.scipy.org/doc/numpy/reference/arrays.dtypes.html)."
      ],
      "id": "yliEiQVm82Mn"
    },
    {
      "cell_type": "markdown",
      "metadata": {
        "id": "1SzY9wz582Mn"
      },
      "source": [
        "### Array math"
      ],
      "id": "1SzY9wz582Mn"
    },
    {
      "cell_type": "markdown",
      "metadata": {
        "id": "TV5338fO82Mn"
      },
      "source": [
        "What makes working with `numpy` so powerful and convenient is that it comes with many *vectorized* math functions for computation over elements of an array. These functions are highly optimized and are *very* fast - much, much faster than using an explicit `for` loop.\n",
        "\n",
        "For example, let’s create a large array of random values and then sum it both ways. We’ll use a `%%time` *cell magic* to time them."
      ],
      "id": "TV5338fO82Mn"
    },
    {
      "cell_type": "code",
      "execution_count": null,
      "metadata": {
        "id": "YgOYHC7x82Mo"
      },
      "outputs": [],
      "source": [
        "a = np.random.random(100000000)"
      ],
      "id": "YgOYHC7x82Mo"
    },
    {
      "cell_type": "code",
      "execution_count": null,
      "metadata": {
        "id": "Hxbbzx8Q82Mo"
      },
      "outputs": [],
      "source": [
        "%%time\n",
        "x = np.sum(a)"
      ],
      "id": "Hxbbzx8Q82Mo"
    },
    {
      "cell_type": "code",
      "execution_count": null,
      "metadata": {
        "id": "nZVHGLRZ82Mp"
      },
      "outputs": [],
      "source": [
        "%%time\n",
        "x = 0\n",
        "for element in a:\n",
        "  x = x + element"
      ],
      "id": "nZVHGLRZ82Mp"
    },
    {
      "cell_type": "markdown",
      "metadata": {
        "id": "U6nSjQCW82Mp"
      },
      "source": [
        "Look at the “Wall Time” in the output - note how much faster the vectorized version of the operation is! This type of fast computation is a major enabler of machine learning, which requires a *lot* of computation.\n",
        "\n",
        "Whenever possible, we will try to use these vectorized operations."
      ],
      "id": "U6nSjQCW82Mp"
    },
    {
      "cell_type": "markdown",
      "metadata": {
        "id": "TGv6chx782Mp"
      },
      "source": [
        "Some mathematic functions are available both as operator overloads and as functions in the numpy module."
      ],
      "id": "TGv6chx782Mp"
    },
    {
      "cell_type": "markdown",
      "metadata": {
        "id": "JudLMFQU82Mr"
      },
      "source": [
        "For example, you can perform an elementwise sum on two arrays using either the + operator or the `add()` function.\n",
        "\n",
        "![](http://jalammar.github.io/images/numpy/numpy-arrays-adding-1.png)\n",
        "\n",
        "![](http://jalammar.github.io/images/numpy/numpy-matrix-arithmetic.png)"
      ],
      "id": "JudLMFQU82Mr"
    },
    {
      "cell_type": "code",
      "execution_count": null,
      "metadata": {
        "id": "iXYGqGCz82Mr"
      },
      "outputs": [],
      "source": [
        "x = np.array([[1,2],[3,4]], dtype=np.float64)\n",
        "y = np.array([[5,6],[7,8]], dtype=np.float64)\n",
        "\n",
        "# Elementwise sum; both produce the array\n",
        "print(x + y)\n",
        "print(np.add(x, y))"
      ],
      "id": "iXYGqGCz82Mr"
    },
    {
      "cell_type": "markdown",
      "metadata": {
        "id": "j5kNEe8K82Mr"
      },
      "source": [
        "And this works for other operations as well, not only addition:\n",
        "\n",
        "![](http://jalammar.github.io/images/numpy/numpy-array-subtract-multiply-divide.png)"
      ],
      "id": "j5kNEe8K82Mr"
    },
    {
      "cell_type": "code",
      "execution_count": null,
      "metadata": {
        "id": "63AhOu9P82Mr"
      },
      "outputs": [],
      "source": [
        "# Elementwise difference; both produce the array\n",
        "print(x - y)\n",
        "print(np.subtract(x, y))"
      ],
      "id": "63AhOu9P82Mr"
    },
    {
      "cell_type": "code",
      "execution_count": null,
      "metadata": {
        "id": "hpFpbXwa82Ms"
      },
      "outputs": [],
      "source": [
        "# Elementwise product; both produce the array\n",
        "print(x * y)\n",
        "print(np.multiply(x, y))"
      ],
      "id": "hpFpbXwa82Ms"
    },
    {
      "cell_type": "code",
      "execution_count": null,
      "metadata": {
        "id": "Qv_qI2IZ82Ms"
      },
      "outputs": [],
      "source": [
        "# Elementwise division; both produce the array\n",
        "# [[ 0.2         0.33333333]\n",
        "#  [ 0.42857143  0.5       ]]\n",
        "print(x / y)\n",
        "print(np.divide(x, y))"
      ],
      "id": "Qv_qI2IZ82Ms"
    },
    {
      "cell_type": "code",
      "execution_count": null,
      "metadata": {
        "id": "TA1qpeDV82Ms"
      },
      "outputs": [],
      "source": [
        "# Elementwise square root; produces the array\n",
        "# [[ 1.          1.41421356]\n",
        "#  [ 1.73205081  2.        ]]\n",
        "print(np.sqrt(x))"
      ],
      "id": "TA1qpeDV82Ms"
    },
    {
      "cell_type": "markdown",
      "metadata": {
        "id": "2WrxvCEX82Mt"
      },
      "source": [
        "Note that unlike MATLAB, `*` is elementwise multiplication, not matrix multiplication. We instead use the `dot()` function to compute inner products of vectors, to multiply a vector by a matrix, and to multiply matrices. `dot()` is available both as a function in the numpy module and as an instance method of array objects:\n",
        "\n",
        "![](http://jalammar.github.io/images/numpy/numpy-matrix-dot-product-1.png)"
      ],
      "id": "2WrxvCEX82Mt"
    },
    {
      "cell_type": "code",
      "execution_count": null,
      "metadata": {
        "id": "wueQ5Mk_82Mt"
      },
      "outputs": [],
      "source": [
        "x = np.array([[1,2],[3,4]])\n",
        "y = np.array([[5,6],[7,8]])\n",
        "\n",
        "v = np.array([9,10])\n",
        "w = np.array([11, 12])\n",
        "\n",
        "# Inner product of vectors; both produce 219\n",
        "print(v.dot(w))\n",
        "print(np.dot(v, w))"
      ],
      "id": "wueQ5Mk_82Mt"
    },
    {
      "cell_type": "markdown",
      "metadata": {
        "id": "XvjLeEVK82Mw"
      },
      "source": [
        "You can also use the `@` operator which is equivalent to numpy's `dot` operator."
      ],
      "id": "XvjLeEVK82Mw"
    },
    {
      "cell_type": "code",
      "execution_count": null,
      "metadata": {
        "id": "7Z_Gibj382Mx"
      },
      "outputs": [],
      "source": [
        "print(v @ w)"
      ],
      "id": "7Z_Gibj382Mx"
    },
    {
      "cell_type": "code",
      "execution_count": null,
      "metadata": {
        "id": "TFLhf92g82My"
      },
      "outputs": [],
      "source": [
        "# Matrix / vector product; both produce the rank 1 array [29 67]\n",
        "print(x.dot(v))\n",
        "print(np.dot(x, v))\n",
        "print(x @ v)"
      ],
      "id": "TFLhf92g82My"
    },
    {
      "cell_type": "code",
      "execution_count": null,
      "metadata": {
        "id": "6cCFse4v82My"
      },
      "outputs": [],
      "source": [
        "# Matrix / matrix product; both produce the rank 2 array\n",
        "# [[19 22]\n",
        "#  [43 50]]\n",
        "print(x.dot(y))\n",
        "print(np.dot(x, y))\n",
        "print(x @ y)"
      ],
      "id": "6cCFse4v82My"
    },
    {
      "cell_type": "markdown",
      "metadata": {
        "id": "-fGW_Ruv82Mz"
      },
      "source": [
        "Besides for the functions that overload operators, Numpy also provides many useful functions for performing computations on arrays, such as `min()`, `max()`, `sum()`, and others:\n",
        "\n",
        "![](http://jalammar.github.io/images/numpy/numpy-matrix-aggregation-1.png)"
      ],
      "id": "-fGW_Ruv82Mz"
    },
    {
      "cell_type": "code",
      "execution_count": null,
      "metadata": {
        "id": "T6C_5Ccc82Mz"
      },
      "outputs": [],
      "source": [
        "x = np.array([[1, 2], [3, 4], [5, 6]])\n",
        "\n",
        "print(np.max(x))  # Compute sum of all elements; prints \"21\"\n",
        "print(np.min(x))  # Compute sum of all elements; prints \"21\"\n",
        "print(np.sum(x))  # Compute sum of all elements; prints \"21\""
      ],
      "id": "T6C_5Ccc82Mz"
    },
    {
      "cell_type": "markdown",
      "metadata": {
        "id": "8MWyRqMj82Mz"
      },
      "source": [
        "Not only can we aggregate all the values in a matrix using these functions, but we can also aggregate across the rows or columns by using the `axis` parameter:\n",
        "\n",
        "![](http://jalammar.github.io/images/numpy/numpy-matrix-aggregation-4.png)"
      ],
      "id": "8MWyRqMj82Mz"
    },
    {
      "cell_type": "code",
      "execution_count": null,
      "metadata": {
        "id": "DOJmFvj882M0"
      },
      "outputs": [],
      "source": [
        "x = np.array([[1, 2], [5, 3], [4, 6]])\n",
        "\n",
        "print(np.max(x, axis=0))  # Compute max of each column; prints \"[5 6]\"\n",
        "print(np.max(x, axis=1))  # Compute max of each row; prints \"[2 5 6]\""
      ],
      "id": "DOJmFvj882M0"
    },
    {
      "cell_type": "markdown",
      "metadata": {
        "id": "2814NPlL82M0"
      },
      "source": [
        "You can find the full list of mathematical functions provided by numpy in the [documentation](http://docs.scipy.org/doc/numpy/reference/routines.math.html)."
      ],
      "id": "2814NPlL82M0"
    },
    {
      "cell_type": "markdown",
      "metadata": {
        "id": "PCe11xvO82M0"
      },
      "source": [
        "Apart from computing mathematical functions using arrays, we frequently need to reshape or otherwise manipulate data in arrays. The simplest example of this type of operation is transposing a matrix; to transpose a matrix, simply use the T attribute of an array object.\n",
        "\n",
        "![](http://jalammar.github.io/images/numpy/numpy-transpose.png)"
      ],
      "id": "PCe11xvO82M0"
    },
    {
      "cell_type": "code",
      "execution_count": null,
      "metadata": {
        "id": "fFkThfn182M1"
      },
      "outputs": [],
      "source": [
        "x = np.array([[1, 2], [3, 4], [5, 6]])\n",
        "\n",
        "print(x)\n",
        "print(\"transpose\\n\", x.T)"
      ],
      "id": "fFkThfn182M1"
    },
    {
      "cell_type": "code",
      "execution_count": null,
      "metadata": {
        "id": "62oshjBZ82M1"
      },
      "outputs": [],
      "source": [
        "v = np.array([[1,2,3]])\n",
        "print(v )\n",
        "print(\"transpose\\n\", v.T)"
      ],
      "id": "62oshjBZ82M1"
    },
    {
      "cell_type": "markdown",
      "metadata": {
        "id": "fTSuB0Oc82M1"
      },
      "source": [
        "In more advanced use case, you may find yourself needing to change the dimensions of a certain matrix. This is often the case in machine learning applications where a certain model expects a certain shape for the inputs that is different from your dataset. numpy's `reshape()` method is useful in these cases.\n",
        "\n",
        "![](http://jalammar.github.io/images/numpy/numpy-reshape.png)"
      ],
      "id": "fTSuB0Oc82M1"
    },
    {
      "cell_type": "markdown",
      "metadata": {
        "id": "JVLvaA8b82M3"
      },
      "source": [
        "A common task in this class will be to convert a 1D array to a 2D array, and vice versa. We can use `reshape()` for this."
      ],
      "id": "JVLvaA8b82M3"
    },
    {
      "cell_type": "markdown",
      "metadata": {
        "id": "yxUm2VEj82M3"
      },
      "source": [
        "For example, suppose we had this 2D array, but we need to pass it to a function that expects a 1D array."
      ],
      "id": "yxUm2VEj82M3"
    },
    {
      "cell_type": "code",
      "execution_count": null,
      "metadata": {
        "id": "jiHWgROD82M3"
      },
      "outputs": [],
      "source": [
        "w = np.array([[1],[2],[3]])\n",
        "print(w)\n",
        "w.shape"
      ],
      "id": "jiHWgROD82M3"
    },
    {
      "cell_type": "markdown",
      "metadata": {
        "id": "MkhjVWr182M4"
      },
      "source": [
        "We can remove the “unnecessary” extra dimension with"
      ],
      "id": "MkhjVWr182M4"
    },
    {
      "cell_type": "code",
      "execution_count": null,
      "metadata": {
        "id": "Ls9rCOdk82M4"
      },
      "outputs": [],
      "source": [
        "y = w.reshape(-1,)\n",
        "print(y)\n",
        "y.shape"
      ],
      "id": "Ls9rCOdk82M4"
    },
    {
      "cell_type": "markdown",
      "metadata": {
        "id": "OvT57oa-82M4"
      },
      "source": [
        "Note that we can pass -1 as one dimension and numpy will infer the correct size based on our matrix size!\n",
        "\n",
        "There’s also a `squeeze()` function that removes *all* of the “unnecessary” dimensions (dimensions that have size 1) from an array:"
      ],
      "id": "OvT57oa-82M4"
    },
    {
      "cell_type": "code",
      "execution_count": null,
      "metadata": {
        "id": "aaxG6r2s82M4"
      },
      "outputs": [],
      "source": [
        "z = w.squeeze()\n",
        "print(z)\n",
        "z.shape"
      ],
      "id": "aaxG6r2s82M4"
    },
    {
      "cell_type": "markdown",
      "metadata": {
        "id": "FC3ko9oW82M4"
      },
      "source": [
        "To go from a 1D to 2D array, we can just add in another dimension of size 1:"
      ],
      "id": "FC3ko9oW82M4"
    },
    {
      "cell_type": "code",
      "execution_count": null,
      "metadata": {
        "id": "k9AequVe82M5"
      },
      "outputs": [],
      "source": [
        "y.reshape((-1,1))"
      ],
      "id": "k9AequVe82M5"
    },
    {
      "cell_type": "markdown",
      "metadata": {
        "id": "XgEdcxEv82M5"
      },
      "source": [
        "### Broadcasting"
      ],
      "id": "XgEdcxEv82M5"
    },
    {
      "cell_type": "markdown",
      "metadata": {
        "id": "T7DAnGKi82M5"
      },
      "source": [
        "Broadcasting is a powerful mechanism that allows numpy to work with arrays of different shapes when performing arithmetic operations."
      ],
      "id": "T7DAnGKi82M5"
    },
    {
      "cell_type": "markdown",
      "metadata": {
        "id": "Kv_oTU9g82M5"
      },
      "source": [
        "For example: basic linear algebra, we can only add (and perform similar element-wise operations) two matrics that have the *same* dimension. In numpy, if we want to add two matrics that have different dimensions, numpy will implicitly “extend” the dimension of one matrix to match the other so that we can perform the operation.\n",
        "\n",
        "So these operations will work, instead of returning an error:\n",
        "\n",
        "![](https://sebastianraschka.com/images/blog/2020/numpy-intro/broadcasting-1.png)\n",
        "\n",
        "![](https://sebastianraschka.com/images/blog/2020/numpy-intro/broadcasting-2.png)"
      ],
      "id": "Kv_oTU9g82M5"
    },
    {
      "cell_type": "markdown",
      "metadata": {
        "id": "bb_TuSX_82M5"
      },
      "source": [
        "Broadcasting two arrays together follows these rules:\n",
        "\n",
        "**Rule 1**: If the two arrays differ in their number of dimensions, the shape of the one with fewer dimensions is padded with ones on its leading (left) side.\n",
        "\n",
        "For example, in the following cell, `a` will be implicitly extended to shape (1,3):"
      ],
      "id": "bb_TuSX_82M5"
    },
    {
      "cell_type": "code",
      "execution_count": null,
      "metadata": {
        "id": "0x1-RSx-82M5"
      },
      "outputs": [],
      "source": [
        "a = np.array([1,2,3])         # has shape (3,): one dimension\n",
        "b = np.array([[4], [5], [6]]) # has shape (3,1): two dimensions\n",
        "c = a + b                     # will have shape (3,3) (two dimensions)"
      ],
      "id": "0x1-RSx-82M5"
    },
    {
      "cell_type": "markdown",
      "metadata": {
        "id": "UnjjRykn82M6"
      },
      "source": [
        "**Rule 2**: If the shape of the two arrays does not match in any dimension, the array with shape equal to 1 in that dimension is stretched to match the other shape.\n",
        "\n",
        "For example, in the following cell `a` will be implicitly extended to shape (3,2):"
      ],
      "id": "UnjjRykn82M6"
    },
    {
      "cell_type": "code",
      "execution_count": null,
      "metadata": {
        "id": "WLBmE_Id82M6"
      },
      "outputs": [],
      "source": [
        "a = np.array([[1],[2],[3]])         # has shape (3,1)\n",
        "b = np.array([[4,5], [6,7], [8,9]]) # has shape (3,2)\n",
        "c = a + b                           # will have shape (3,2)"
      ],
      "id": "WLBmE_Id82M6"
    },
    {
      "cell_type": "markdown",
      "metadata": {
        "id": "62oVQyCK82M6"
      },
      "source": [
        "**Rule 3**: If in any dimension the sizes disagree and neither is equal to 1, an error is raised:"
      ],
      "id": "62oVQyCK82M6"
    },
    {
      "cell_type": "code",
      "execution_count": null,
      "metadata": {
        "id": "Pn3OFpT_82M6"
      },
      "outputs": [],
      "source": [
        "a = np.array([[1],[2],[3],[4]])      # has shape (4,1)\n",
        "b = np.array([[4,5], [6,7], [8,9]])  # has shape (3,2)\n",
        "c = a + b                            # ValueError: operands could not be broadcast"
      ],
      "id": "Pn3OFpT_82M6"
    },
    {
      "cell_type": "markdown",
      "metadata": {
        "id": "zTRfinGe82M6"
      },
      "source": [
        "For more detail, you can read the explanation from the [documentation](http://docs.scipy.org/doc/numpy/user/basics.broadcasting.html)."
      ],
      "id": "zTRfinGe82M6"
    },
    {
      "cell_type": "markdown",
      "metadata": {
        "id": "kakxX8pK82M7"
      },
      "source": [
        "Functions that support broadcasting are known as universal functions. You can find the list of all universal functions in the [documentation](http://docs.scipy.org/doc/numpy/reference/ufuncs.html#available-ufuncs)."
      ],
      "id": "kakxX8pK82M7"
    },
    {
      "cell_type": "markdown",
      "metadata": {
        "id": "-f8QKMp_82M7"
      },
      "source": [
        "Here are a few visual examples involving broadcasting.\n",
        "\n",
        "![](http://jalammar.github.io/images/numpy/numpy-array-broadcast.png)\n",
        "\n",
        "Note that these arrays are compatible in each dimension if they have either the same size in that dimension, or if one array has size 1 in that dimension.\n",
        "\n",
        "![](http://jalammar.github.io/images/numpy/numpy-matrix-broadcast.png)"
      ],
      "id": "-f8QKMp_82M7"
    },
    {
      "cell_type": "markdown",
      "metadata": {
        "id": "sbyuqt0V82M7"
      },
      "source": [
        "And here are some more practical applications:"
      ],
      "id": "sbyuqt0V82M7"
    },
    {
      "cell_type": "code",
      "execution_count": null,
      "metadata": {
        "id": "mG-aGWwV82M8"
      },
      "outputs": [],
      "source": [
        "# Compute outer product of vectors\n",
        "v = np.array([1,2,3])  # v has shape (3,)\n",
        "w = np.array([4,5])    # w has shape (2,)\n",
        "# To compute an outer product, we first reshape v to be a column\n",
        "# vector of shape (3, 1); we can then broadcast it against w to yield\n",
        "# an output of shape (3, 2), which is the outer product of v and w:\n",
        "\n",
        "print(np.reshape(v, (3, 1)) * w)"
      ],
      "id": "mG-aGWwV82M8"
    },
    {
      "cell_type": "code",
      "execution_count": null,
      "metadata": {
        "id": "yrg6jvRS82M8"
      },
      "outputs": [],
      "source": [
        "# Add a vector to each row of a matrix\n",
        "x = np.array([[1,2,3], [4,5,6]])\n",
        "# x has shape (2, 3) and v has shape (3,) so they broadcast to (2, 3),\n",
        "# giving the following matrix:\n",
        "\n",
        "print(x + v)"
      ],
      "id": "yrg6jvRS82M8"
    },
    {
      "cell_type": "code",
      "execution_count": null,
      "metadata": {
        "id": "jKZ5TjNW82M9"
      },
      "outputs": [],
      "source": [
        "# Add a vector to each column of a matrix\n",
        "# x has shape (2, 3) and w has shape (2,).\n",
        "# If we transpose x then it has shape (3, 2) and can be broadcast\n",
        "# against w to yield a result of shape (3, 2); transposing this result\n",
        "# yields the final result of shape (2, 3) which is the matrix x with\n",
        "# the vector w added to each column. Gives the following matrix:\n",
        "\n",
        "print((x.T + w).T)"
      ],
      "id": "jKZ5TjNW82M9"
    },
    {
      "cell_type": "code",
      "execution_count": null,
      "metadata": {
        "id": "kYo9LR-w82M-"
      },
      "outputs": [],
      "source": [
        "# Another solution is to reshape w to be a row vector of shape (2, 1);\n",
        "# we can then broadcast it directly against x to produce the same\n",
        "# output.\n",
        "print(x + np.reshape(w, (2, 1)))"
      ],
      "id": "kYo9LR-w82M-"
    },
    {
      "cell_type": "code",
      "execution_count": null,
      "metadata": {
        "id": "8Dtfi3Jq82M_"
      },
      "outputs": [],
      "source": [
        "# Multiply a matrix by a constant:\n",
        "# x has shape (2, 3). Numpy treats scalars as arrays of shape ();\n",
        "# these can be broadcast together to shape (2, 3), producing the\n",
        "# following array:\n",
        "print(x * 2)"
      ],
      "id": "8Dtfi3Jq82M_"
    },
    {
      "cell_type": "markdown",
      "metadata": {
        "id": "Xx0uwdqy82NA"
      },
      "source": [
        "Broadcasting typically makes your code more concise and faster, so you should strive to use it where possible."
      ],
      "id": "Xx0uwdqy82NA"
    },
    {
      "cell_type": "markdown",
      "metadata": {
        "id": "54ZMvcZK82NA"
      },
      "source": [
        "This brief overview has touched on many of the important things that you need to know about numpy, but is far from complete. Check out the [numpy reference](http://docs.scipy.org/doc/numpy/reference/) to find out much more about numpy."
      ],
      "id": "54ZMvcZK82NA"
    },
    {
      "cell_type": "markdown",
      "metadata": {
        "id": "IOUsNyDM82NA"
      },
      "source": [
        "Matplotlib\n",
        "----------"
      ],
      "id": "IOUsNyDM82NA"
    },
    {
      "cell_type": "markdown",
      "metadata": {
        "id": "hPH5Q5Gg82NA"
      },
      "source": [
        "Matplotlib is a plotting library. In this section we give a brief introduction to the `matplotlib.pyplot` module, which provides a plotting system similar to that of MATLAB.\n",
        "\n",
        "By convention, we typically import this module using the `plt` alias:"
      ],
      "id": "hPH5Q5Gg82NA"
    },
    {
      "cell_type": "code",
      "execution_count": null,
      "metadata": {
        "id": "2KcYoTdE82NB"
      },
      "outputs": [],
      "source": [
        "import matplotlib.pyplot as plt"
      ],
      "id": "2KcYoTdE82NB"
    },
    {
      "cell_type": "markdown",
      "metadata": {
        "id": "WdFqW_UW82NB"
      },
      "source": [
        "### Plotting"
      ],
      "id": "WdFqW_UW82NB"
    },
    {
      "cell_type": "markdown",
      "metadata": {
        "id": "7Y1gpZkM82NC"
      },
      "source": [
        "The most important function in `matplotlib` is `plot`, which allows you to plot 2D data as a line plot. Here is a simple example:"
      ],
      "id": "7Y1gpZkM82NC"
    },
    {
      "cell_type": "code",
      "execution_count": null,
      "metadata": {
        "id": "6NCK_Erd82NC"
      },
      "outputs": [],
      "source": [
        "# Compute the x and y coordinates for points on a sine curve\n",
        "x = np.arange(0, 3 * np.pi, 0.1)\n",
        "y = np.sin(x)\n",
        "\n",
        "# Plot the points using matplotlib\n",
        "plt.plot(x, y)\n",
        "\n",
        "# Show the figure.\n",
        "plt.show()"
      ],
      "id": "6NCK_Erd82NC"
    },
    {
      "cell_type": "markdown",
      "metadata": {
        "id": "VUwCjSKm82NC"
      },
      "source": [
        "With just a little bit of extra work we can easily plot multiple lines at once, and add a title, legend, and axis labels:"
      ],
      "id": "VUwCjSKm82NC"
    },
    {
      "cell_type": "code",
      "execution_count": null,
      "metadata": {
        "id": "qs-B3NXj82NC"
      },
      "outputs": [],
      "source": [
        "y_sin = np.sin(x)\n",
        "y_cos = np.cos(x)\n",
        "\n",
        "# Plot the points using matplotlib\n",
        "plt.plot(x, y_sin, label='Sine')\n",
        "plt.plot(x, y_cos, label='Cosine')\n",
        "plt.legend() # uses the label arguments given above\n",
        "\n",
        "plt.xlabel('x axis label')\n",
        "plt.ylabel('y axis label')\n",
        "plt.title('Sine and Cosine')\n",
        "\n",
        "# Show the figure.\n",
        "plt.show()"
      ],
      "id": "qs-B3NXj82NC"
    },
    {
      "cell_type": "markdown",
      "metadata": {
        "id": "TZzLV3c982NC"
      },
      "source": [
        "Another useful, basic, plot is the `scatter` plot:"
      ],
      "id": "TZzLV3c982NC"
    },
    {
      "cell_type": "code",
      "execution_count": null,
      "metadata": {
        "id": "l1JG-0Gk82ND"
      },
      "outputs": [],
      "source": [
        "x = np.random.rand(50)\n",
        "y = np.random.rand(50)\n",
        "colors = np.random.randint(0, 2, 50)\n",
        "\n",
        "plt.scatter(x, y, c=colors)\n",
        "\n",
        "plt.show()"
      ],
      "id": "l1JG-0Gk82ND"
    },
    {
      "cell_type": "markdown",
      "metadata": {
        "id": "qXW6Yg2z82ND"
      },
      "source": [
        "When there is no logical connection between adjacent points (for example: if the horizontal axis is a categorical variable without a logical order), then you should *not* connect them (as in a line plot), since this implies a relationship that does not exist! Instead, you would use a scatter plot."
      ],
      "id": "qXW6Yg2z82ND"
    },
    {
      "cell_type": "markdown",
      "metadata": {
        "id": "DV5joBI682NE"
      },
      "source": [
        "### Subplots"
      ],
      "id": "DV5joBI682NE"
    },
    {
      "cell_type": "markdown",
      "metadata": {
        "id": "aaGkCEVq82NE"
      },
      "source": [
        "You can plot different things in the same figure using the `subplot` function. Here is an example:"
      ],
      "id": "aaGkCEVq82NE"
    },
    {
      "cell_type": "code",
      "execution_count": null,
      "metadata": {
        "id": "byLxe4SI82NE"
      },
      "outputs": [],
      "source": [
        "# Compute the x and y coordinates for points on sine and cosine curves\n",
        "x = np.arange(0, 3 * np.pi, 0.1)\n",
        "y_sin = np.sin(x)\n",
        "y_cos = np.cos(x)\n",
        "\n",
        "# Set up a subplot grid that has height 2 and width 1,\n",
        "# and set the first such subplot as active.\n",
        "plt.subplot(2, 1, 1)\n",
        "\n",
        "# Make the first plot\n",
        "plt.plot(x, y_sin)\n",
        "plt.title('Sine')\n",
        "\n",
        "# Set the second subplot as active, and make the second plot.\n",
        "plt.subplot(2, 1, 2)\n",
        "plt.plot(x, y_cos)\n",
        "plt.title('Cosine')\n",
        "\n",
        "# Adjust spacing between subplots\n",
        "plt.subplots_adjust(hspace = 0.4)\n",
        "\n",
        "# Show the figure.\n",
        "plt.show()"
      ],
      "id": "byLxe4SI82NE"
    },
    {
      "cell_type": "markdown",
      "metadata": {
        "id": "p4SO30mD82NE"
      },
      "source": [
        "You can read much more about the `subplot` function in the [documentation](http://matplotlib.org/api/pyplot_api.html#matplotlib.pyplot.subplot)."
      ],
      "id": "p4SO30mD82NE"
    },
    {
      "cell_type": "markdown",
      "metadata": {
        "id": "WI4JHi8F82NF"
      },
      "source": [
        "You can use the `imshow` function to display images from a file. Here is an example:"
      ],
      "id": "WI4JHi8F82NF"
    },
    {
      "cell_type": "code",
      "execution_count": null,
      "metadata": {
        "id": "MQmJydsY82NF"
      },
      "outputs": [],
      "source": [
        "from matplotlib.cbook import get_sample_data\n",
        "\n",
        "img_file = get_sample_data('grace_hopper.jpg')\n",
        "\n",
        "img = plt.imread(img_file)\n",
        "plt.imshow(img)\n",
        "plt.show()"
      ],
      "id": "MQmJydsY82NF"
    },
    {
      "cell_type": "markdown",
      "metadata": {
        "id": "SCYXW9yK82NF"
      },
      "source": [
        "The `matplotlib` library is very flexible, and you can create virtually any plot and modify its appearance in any way you might think of. If you don’t like the way your plot looks, fix it! Use the [documentation](http://matplotlib.org/api/pyplot_api.html) to learn more."
      ],
      "id": "SCYXW9yK82NF"
    }
  ],
  "metadata": {
    "language_info": {
      "name": "python"
    },
    "colab": {
      "provenance": [],
      "include_colab_link": true
    }
  },
  "nbformat": 4,
  "nbformat_minor": 5
}