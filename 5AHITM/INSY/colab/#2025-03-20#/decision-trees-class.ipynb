{
  "cells": [
    {
      "cell_type": "markdown",
      "metadata": {
        "id": "view-in-github",
        "colab_type": "text"
      },
      "source": [
        "<a href=\"https://colab.research.google.com/github/ZoeMcFife/5AHITM/blob/main/INSY/Colab/%232025-03-20%23/decision-trees-class.ipynb\" target=\"_parent\"><img src=\"https://colab.research.google.com/assets/colab-badge.svg\" alt=\"Open In Colab\"/></a>"
      ]
    },
    {
      "cell_type": "markdown",
      "metadata": {
        "id": "WKL_pVS7VXLL"
      },
      "source": [
        "Demo: Decision trees\n",
        "====================\n",
        "\n",
        "**This is based on the course of [Fraida Fund](https://colab.research.google.com/github/ffund/ml-notebooks/blob/master/notebooks/1-colab-tour.ipynb) for  NYU Tandon School of Engineering**"
      ]
    },
    {
      "cell_type": "markdown",
      "metadata": {
        "id": "hHxx5Q66VXLO"
      },
      "source": [
        "This is a simple demo notebook that demonstrates a decision tree classifier.\n",
        "\n",
        "**Attribution**: Parts of this notebook are slightly modified from [this tutorial from “Intro to Data Mining”](http://www.cse.msu.edu/~ptan/dmbook/tutorials/tutorial6/tutorial6.html)."
      ]
    },
    {
      "cell_type": "code",
      "execution_count": null,
      "metadata": {
        "id": "HS0_nBTsVXLQ"
      },
      "outputs": [],
      "source": [
        "import pandas as pd\n",
        "import numpy as np\n",
        "import matplotlib.pyplot as plt\n",
        "import seaborn as sns\n",
        "\n",
        "import sklearn\n",
        "from sklearn.tree import DecisionTreeClassifier\n",
        "from sklearn.ensemble import BaggingClassifier, RandomForestClassifier, AdaBoostClassifier"
      ]
    },
    {
      "cell_type": "code",
      "execution_count": null,
      "metadata": {
        "id": "LjZCU4TPVXLT"
      },
      "outputs": [],
      "source": [
        "df = pd.read_csv('http://www.cse.msu.edu/~ptan/dmbook/tutorials/tutorial6/vertebrate.csv')\n",
        "df"
      ]
    },
    {
      "cell_type": "markdown",
      "metadata": {
        "id": "9YTcx_BxVXLU"
      },
      "source": [
        "We’l make it a binary classification problem:"
      ]
    },
    {
      "cell_type": "code",
      "execution_count": null,
      "metadata": {
        "id": "wYM8r9fkVXLW"
      },
      "outputs": [],
      "source": [
        "df['Class'] = df['Class'].replace(['fishes','birds','amphibians','reptiles'],'non-mammals')\n",
        "df"
      ]
    },
    {
      "cell_type": "markdown",
      "metadata": {
        "id": "AruapwNXVXLY"
      },
      "source": [
        "Decision tree\n",
        "-------------"
      ]
    },
    {
      "cell_type": "code",
      "execution_count": null,
      "metadata": {
        "id": "Qb92pRnjVXLZ"
      },
      "outputs": [],
      "source": [
        "y = df['Class']\n",
        "X = df.drop(['Name','Class'],axis=1)\n",
        "\n",
        "clf_dt = DecisionTreeClassifier(criterion='entropy')\n",
        "clf_dt = clf_dt.fit(X, y)"
      ]
    },
    {
      "cell_type": "code",
      "execution_count": null,
      "metadata": {
        "id": "RZWJqclfVXLa"
      },
      "outputs": [],
      "source": [
        "plt.figure(figsize=(10,10))\n",
        "sklearn.tree.plot_tree(clf_dt,\n",
        "                    feature_names = df.columns.drop(['Name', 'Class']),\n",
        "                    class_names = [\"mammals\", \"non-mammals\"],\n",
        "                    filled=True, rounded=True);"
      ]
    },
    {
      "cell_type": "markdown",
      "metadata": {
        "id": "HkI53M1yVXLc"
      },
      "source": [
        "### Feature importance"
      ]
    },
    {
      "cell_type": "code",
      "execution_count": null,
      "metadata": {
        "id": "7MlhTUFrVXLf"
      },
      "outputs": [],
      "source": [
        "df_importance = pd.DataFrame({'feature': df.columns.drop(['Name', 'Class']),\n",
        "                              'importance': clf_dt.feature_importances_})\n",
        "df_importance"
      ]
    }
  ],
  "metadata": {
    "colab": {
      "toc_visible": true,
      "provenance": [],
      "include_colab_link": true
    },
    "kernelspec": {
      "display_name": "Python 3",
      "name": "python3"
    },
    "language_info": {
      "name": "python"
    }
  },
  "nbformat": 4,
  "nbformat_minor": 0
}