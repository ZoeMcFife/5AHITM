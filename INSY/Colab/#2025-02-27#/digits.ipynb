{
  "cells": [
    {
      "cell_type": "markdown",
      "metadata": {
        "id": "view-in-github",
        "colab_type": "text"
      },
      "source": [
        "<a href=\"https://colab.research.google.com/github/ZoeMcFife/5AHITM/blob/main/INSY/Colab/%232025-02-27%23/digits.ipynb\" target=\"_parent\"><img src=\"https://colab.research.google.com/assets/colab-badge.svg\" alt=\"Open In Colab\"/></a>"
      ]
    },
    {
      "cell_type": "markdown",
      "metadata": {
        "id": "bvRGBAKz_Vsx"
      },
      "source": [
        "Demo: Logistic regression for classification of handwritten digits\n",
        "==================================================================\n",
        "\n",
        "**This is based on the course of [*This is based on the course of [Fraida Fund](https://colab.research.google.com/github/ffund/ml-notebooks/blob/master/notebooks/1-colab-tour.ipynb) for  NYU Tandon School of Engineering*](https://colab.research.google.com/github/ffund/ml-notebooks/blob/master/notebooks/1-colab-tour.ipynb) for  NYU Tandon School of Engineering**"
      ]
    },
    {
      "cell_type": "markdown",
      "metadata": {
        "id": "--ORfC1Q_Vsz"
      },
      "source": [
        "In this demo, we will explore the use of logistic regression for classification of handwritten digits. In other words, given an image of a handwritten digit, we want to classify it as a 0, 1, 2, 3, ..."
      ]
    },
    {
      "cell_type": "code",
      "execution_count": 1,
      "metadata": {
        "id": "5h9HGr59_Vs0"
      },
      "outputs": [],
      "source": [
        "import numpy as np\n",
        "import pandas as pd\n",
        "import seaborn as sns\n",
        "import matplotlib.pyplot as plt\n",
        "from sklearn.datasets import fetch_openml\n",
        "from sklearn.model_selection import train_test_split\n",
        "from sklearn.linear_model import LogisticRegression\n",
        "from sklearn.metrics import accuracy_score\n",
        "\n",
        "from IPython.core.interactiveshell import InteractiveShell\n",
        "InteractiveShell.ast_node_interactivity = \"all\""
      ]
    },
    {
      "cell_type": "markdown",
      "metadata": {
        "id": "BE93q6oU_Vs1"
      },
      "source": [
        "### Load the digits dataset\n",
        "\n",
        "For this demo, we will use a dataset known as [MNIST](https://en.wikipedia.org/wiki/MNIST_database). It contains 70,000 samples of handwritten digits, size-normalized and centered in a fixed-size image. Each sample is represented as a 28x28 pixel array, so there are 784 features per samples.\n",
        "\n",
        "We will start by loading the dataset using the `fetch_openml` function. This function allows us to retrieve a dataset by name from [OpenML](https://www.openml.org/), a public repository for machine learning data and experiments."
      ]
    },
    {
      "cell_type": "code",
      "execution_count": 2,
      "metadata": {
        "id": "Mgr30TMV_Vs2"
      },
      "outputs": [],
      "source": [
        "X, y = fetch_openml('mnist_784', version=1, return_X_y=True, as_frame=False)"
      ]
    },
    {
      "cell_type": "markdown",
      "metadata": {
        "id": "YcbSBnvf_Vs3"
      },
      "source": [
        "We observe that the data has 784 features and we have 70,000 samples:"
      ]
    },
    {
      "cell_type": "code",
      "execution_count": 3,
      "metadata": {
        "id": "g3NB0v5s_Vs4",
        "outputId": "8d5ccc40-b6d4-4125-b4ac-f0aecd5aadab",
        "colab": {
          "base_uri": "https://localhost:8080/"
        }
      },
      "outputs": [
        {
          "output_type": "execute_result",
          "data": {
            "text/plain": [
              "(70000, 784)"
            ]
          },
          "metadata": {},
          "execution_count": 3
        }
      ],
      "source": [
        "X.shape"
      ]
    },
    {
      "cell_type": "markdown",
      "metadata": {
        "id": "PvbsXDev_Vs4"
      },
      "source": [
        "The target variables is a label for each digit: 0, 1, 2, 3, 4, 5, 6, 7, 8, 9. There are 6000-8000 samples for each class."
      ]
    },
    {
      "cell_type": "code",
      "execution_count": 4,
      "metadata": {
        "id": "618WQdaM_Vs5",
        "outputId": "67f07709-ed0f-4cd2-9bde-50abe0d15dc9",
        "colab": {
          "base_uri": "https://localhost:8080/"
        }
      },
      "outputs": [
        {
          "output_type": "execute_result",
          "data": {
            "text/plain": [
              "(70000,)"
            ]
          },
          "metadata": {},
          "execution_count": 4
        }
      ],
      "source": [
        "y.shape"
      ]
    },
    {
      "cell_type": "code",
      "execution_count": 5,
      "metadata": {
        "id": "RlrQAvYm_Vs7",
        "outputId": "8149adb1-d448-43b9-9b3b-3805bae93176",
        "colab": {
          "base_uri": "https://localhost:8080/"
        }
      },
      "outputs": [
        {
          "output_type": "stream",
          "name": "stdout",
          "text": [
            "['5' '0' '4' ... '4' '5' '6']\n"
          ]
        }
      ],
      "source": [
        "print(y)"
      ]
    },
    {
      "cell_type": "code",
      "execution_count": 6,
      "metadata": {
        "id": "oJQ07koN_Vs7",
        "outputId": "e3030915-0185-4f5c-daf1-2e22b9cf9ea8",
        "colab": {
          "base_uri": "https://localhost:8080/",
          "height": 398
        }
      },
      "outputs": [
        {
          "output_type": "execute_result",
          "data": {
            "text/plain": [
              "1    7877\n",
              "7    7293\n",
              "3    7141\n",
              "2    6990\n",
              "9    6958\n",
              "0    6903\n",
              "6    6876\n",
              "8    6825\n",
              "4    6824\n",
              "5    6313\n",
              "Name: count, dtype: int64"
            ],
            "text/html": [
              "<div>\n",
              "<style scoped>\n",
              "    .dataframe tbody tr th:only-of-type {\n",
              "        vertical-align: middle;\n",
              "    }\n",
              "\n",
              "    .dataframe tbody tr th {\n",
              "        vertical-align: top;\n",
              "    }\n",
              "\n",
              "    .dataframe thead th {\n",
              "        text-align: right;\n",
              "    }\n",
              "</style>\n",
              "<table border=\"1\" class=\"dataframe\">\n",
              "  <thead>\n",
              "    <tr style=\"text-align: right;\">\n",
              "      <th></th>\n",
              "      <th>count</th>\n",
              "    </tr>\n",
              "  </thead>\n",
              "  <tbody>\n",
              "    <tr>\n",
              "      <th>1</th>\n",
              "      <td>7877</td>\n",
              "    </tr>\n",
              "    <tr>\n",
              "      <th>7</th>\n",
              "      <td>7293</td>\n",
              "    </tr>\n",
              "    <tr>\n",
              "      <th>3</th>\n",
              "      <td>7141</td>\n",
              "    </tr>\n",
              "    <tr>\n",
              "      <th>2</th>\n",
              "      <td>6990</td>\n",
              "    </tr>\n",
              "    <tr>\n",
              "      <th>9</th>\n",
              "      <td>6958</td>\n",
              "    </tr>\n",
              "    <tr>\n",
              "      <th>0</th>\n",
              "      <td>6903</td>\n",
              "    </tr>\n",
              "    <tr>\n",
              "      <th>6</th>\n",
              "      <td>6876</td>\n",
              "    </tr>\n",
              "    <tr>\n",
              "      <th>8</th>\n",
              "      <td>6825</td>\n",
              "    </tr>\n",
              "    <tr>\n",
              "      <th>4</th>\n",
              "      <td>6824</td>\n",
              "    </tr>\n",
              "    <tr>\n",
              "      <th>5</th>\n",
              "      <td>6313</td>\n",
              "    </tr>\n",
              "  </tbody>\n",
              "</table>\n",
              "</div><br><label><b>dtype:</b> int64</label>"
            ]
          },
          "metadata": {},
          "execution_count": 6
        }
      ],
      "source": [
        "pd.Series(y).value_counts()"
      ]
    },
    {
      "cell_type": "code",
      "execution_count": 7,
      "metadata": {
        "id": "KcC2HCBf_Vs8"
      },
      "outputs": [],
      "source": [
        "classes = ['0', '1', '2','3', '4','5', '6', '7', '8', '9']\n",
        "nclasses = len(classes)"
      ]
    },
    {
      "cell_type": "markdown",
      "metadata": {
        "id": "H3X6PUVn_Vs8"
      },
      "source": [
        "Each “feature” represents a pixel in the image, and each pixel can take on any integer value from 0 to 255. A large value for a pixel means that there is writing in that part of the image."
      ]
    },
    {
      "cell_type": "markdown",
      "metadata": {
        "id": "0-dE9U_q_Vs9"
      },
      "source": [
        "We can see a few examples, by plotting the 784 features as a 28x28 grid. In these images, white pixels indicate high values in the feature matrix."
      ]
    },
    {
      "cell_type": "code",
      "execution_count": 8,
      "metadata": {
        "id": "aHRRx9R1_Vs9",
        "outputId": "cc5a36a9-e059-4b62-a00d-33e47b4d0bb2",
        "colab": {
          "base_uri": "https://localhost:8080/",
          "height": 498
        }
      },
      "outputs": [
        {
          "output_type": "display_data",
          "data": {
            "text/plain": [
              "<Figure size 2000x1100 with 50 Axes>"
            ],
            "image/png": "[encoded data removed]"
          },
          "metadata": {}
        }
      ],
      "source": [
        "samples_per_class = 5\n",
        "figure = plt.figure(figsize=(nclasses*2,(1+samples_per_class*2)));\n",
        "\n",
        "for idx_cls, cls in enumerate(classes):\n",
        "  idxs = np.flatnonzero(y == cls)\n",
        "  idxs = np.random.choice(idxs, samples_per_class, replace=False)\n",
        "  for i, idx in enumerate(idxs):\n",
        "    plt_idx = i * nclasses + idx_cls + 1\n",
        "    p = plt.subplot(samples_per_class, nclasses, plt_idx);\n",
        "    p = sns.heatmap(np.reshape(X[idx], (28,28)), cmap=plt.cm.gray,\n",
        "             xticklabels=False, yticklabels=False, cbar=False);\n",
        "    p = plt.axis('off');"
      ]
    },
    {
      "cell_type": "markdown",
      "metadata": {
        "id": "uZQOQdni_Vs-"
      },
      "source": [
        "### Prepare data\n",
        "\n",
        "Next, we will split our data into a test and training set.\n",
        "\n",
        "We can use `train_test_split` from `sklearn.model_selection` to split the data."
      ]
    },
    {
      "cell_type": "markdown",
      "metadata": {
        "id": "L_Y4FQSS_Vs-"
      },
      "source": [
        "Since the dataset is very large, it can take a long time to train a classifier on it. We just want to use it to demonstrate some useful concepts, so we will work with a smaller subset of the dataset. When we split the data using the `train_test_split` function, we will specify that we want 7,500 samples in the training set and 2,500 samples in the test set."
      ]
    },
    {
      "cell_type": "code",
      "execution_count": 9,
      "metadata": {
        "id": "rgKAXPdD_Vs_"
      },
      "outputs": [],
      "source": [
        "X_train, X_test, y_train, y_test = train_test_split(X, y, random_state=9,\n",
        "                                     train_size=7500, test_size=2500)"
      ]
    },
    {
      "cell_type": "markdown",
      "metadata": {
        "id": "7YNJ4KNr_Vs_"
      },
      "source": [
        "We’l also scale the data so that each feature takes on a value between 0 and 1."
      ]
    },
    {
      "cell_type": "code",
      "execution_count": 10,
      "metadata": {
        "id": "KnOR50eT_VtA"
      },
      "outputs": [],
      "source": [
        "X_train_scaled = X_train/255.0\n",
        "X_test_scaled = X_test/255.0"
      ]
    },
    {
      "cell_type": "markdown",
      "metadata": {
        "id": "KHgCEnjU_VtA"
      },
      "source": [
        "### Train a classifier using logistic regression\n",
        "\n",
        "Finally, we are ready to train a classifier. We will use `sklearn`'s [LogisticRegression](https://scikit-learn.org/stable/modules/generated/sklearn.linear_model.LogisticRegression.html).\n",
        "\n",
        "Unlike the linear regression, there is no closed form solution to the least squares parameter estimate in logistic regression. Therefore, we need to use a “solver” which finds a numerical solution. Several solvers are available for use with `sklearn`'s `LogisticRegression`, but they don’t all support all varieties of logistic regression.\n",
        "\n",
        "We will use the `saga` solver, which\n",
        "\n",
        "-   works well when there is a large number of samples,\n",
        "-   supports logistic regression with no regularization penalty, L1 penalty, L2 penalty, or ElasticNet (which uses both penalties),\n",
        "-   and also supports multinomial regression with multiple classes, using the softmax function.\n",
        "\n",
        "In addition to specifying which solver we want to use, we also specify a tolerance, which gives stopping criteria for the solver. A higher tolerance will finish faster, but may not find the optimal solution."
      ]
    },
    {
      "cell_type": "code",
      "execution_count": 13,
      "metadata": {
        "id": "y5X62MpI_VtB",
        "outputId": "62de2742-147e-41ae-d8f1-10ed80c493de",
        "colab": {
          "base_uri": "https://localhost:8080/"
        }
      },
      "outputs": [
        {
          "output_type": "stream",
          "name": "stderr",
          "text": [
            "/usr/local/lib/python3.11/dist-packages/sklearn/linear_model/_logistic.py:1247: FutureWarning: 'multi_class' was deprecated in version 1.5 and will be removed in 1.7. From then on, it will always use 'multinomial'. Leave it to its default value to avoid this warning.\n",
            "  warnings.warn(\n"
          ]
        }
      ],
      "source": [
        "clf = LogisticRegression(penalty='l1',\n",
        "                         tol=0.1, solver='saga',\n",
        "                         multi_class='multinomial').fit(X_train_scaled, y_train)"
      ]
    },
    {
      "cell_type": "markdown",
      "metadata": {
        "id": "O6hZmjeD_VtB"
      },
      "source": [
        "Once the classifier has been trained (fitted), we can get the coefficient values.\n",
        "\n",
        "We had 784 features - one for each pixel - so we will have 784 coefficients. Furthermore, we have 10 classes, so we will have a vector of 784 coefficients for each of the 10 classes.\n",
        "\n",
        "Therefore, our coefficient matrix has 10 rows and 784 columns:"
      ]
    },
    {
      "cell_type": "code",
      "execution_count": 14,
      "metadata": {
        "id": "Fenavkuj_VtC",
        "outputId": "d14e2d51-142a-48a3-fb42-fb221d53e98c",
        "colab": {
          "base_uri": "https://localhost:8080/"
        }
      },
      "outputs": [
        {
          "output_type": "execute_result",
          "data": {
            "text/plain": [
              "(10, 784)"
            ]
          },
          "metadata": {},
          "execution_count": 14
        }
      ],
      "source": [
        "clf.coef_.shape"
      ]
    },
    {
      "cell_type": "markdown",
      "metadata": {
        "id": "vEvTTbjp_VtC"
      },
      "source": [
        "### Interpret the coefficients of the logistic regression"
      ]
    },
    {
      "cell_type": "markdown",
      "metadata": {
        "id": "SNlVSztN_VtC"
      },
      "source": [
        "One benefit of logistic regression is its interpretability - we can use the coefficient values to understand what features (i.e. which pixels) are important in determining what class a sample belongs to."
      ]
    },
    {
      "cell_type": "markdown",
      "metadata": {
        "id": "LOculCAG_VtD"
      },
      "source": [
        "The following plot shows the coefficient vector for each class, with positive coefficients in blue and negative coefficients in red."
      ]
    },
    {
      "cell_type": "code",
      "execution_count": 15,
      "metadata": {
        "id": "-rCkVXTW_VtD",
        "outputId": "e2ee2059-b6d2-425a-a8cb-ae2a79103d28",
        "colab": {
          "base_uri": "https://localhost:8080/",
          "height": 109
        }
      },
      "outputs": [
        {
          "output_type": "display_data",
          "data": {
            "text/plain": [
              "<Figure size 2500x250 with 10 Axes>"
            ],
            "image/png": "[encoded data removed]"
          },
          "metadata": {}
        }
      ],
      "source": [
        "scale = np.max(np.abs(clf.coef_))\n",
        "\n",
        "p = plt.figure(figsize=(25, 2.5));\n",
        "\n",
        "for i in range(nclasses):\n",
        "    p = plt.subplot(1, nclasses, i + 1)\n",
        "    p = plt.imshow(clf.coef_[i].reshape(28, 28),\n",
        "                  cmap=plt.cm.RdBu, vmin=-scale, vmax=scale);\n",
        "    p = plt.axis('off')\n",
        "    p = plt.title('Class %i' % i);"
      ]
    },
    {
      "cell_type": "markdown",
      "metadata": {
        "id": "1PZIb8tw_VtD"
      },
      "source": [
        "We can see which pixels are positively associated with belonging to the class, and which pixels are negatively associated with belonging to the class.\n",
        "\n",
        "For example, consider Class 0. If a sample has large values in the pixels shown in blue (the 0 shape around the center of the image), the probability of that sample being a 0 digit increases. If the sample has large values in the pixels in the center of the image, the probability of the sample being a 0 digit decreases.\n",
        "\n",
        "Many pixels have coefficients whose magnitude are very small. These are shown in white, and they are not very important for this classification task."
      ]
    },
    {
      "cell_type": "markdown",
      "metadata": {
        "id": "A1v1JdA0_VtE"
      },
      "source": [
        "### Use a fitted logistic regression"
      ]
    },
    {
      "cell_type": "markdown",
      "metadata": {
        "id": "kHQoSfaU_VtE"
      },
      "source": [
        "Given the coefficient matrix, we can get the per-class probability for any sample."
      ]
    },
    {
      "cell_type": "markdown",
      "metadata": {
        "id": "MobST7Zy_VtE"
      },
      "source": [
        "We know that for logistic regression with the softmax function, the conditional probability of a sample belonging to class $k$ is given by:\n",
        "\n",
        "$$P(y=k | \\mathbf{x}) = \\frac{e^{z_k}}{\\sum_{\\ell=1}^K e^{z_\\ell}}$$\n",
        "\n",
        "where $z_{k} = w_k x$.\n",
        "\n",
        "($w_k$ is the weight vector for class $k$, and $x$ includes a 1s column so that the intercept can be included in the weight matrix.)"
      ]
    },
    {
      "cell_type": "markdown",
      "metadata": {
        "id": "IVO9S62__VtE"
      },
      "source": [
        "As an example, let’s look at a specific test sample:"
      ]
    },
    {
      "cell_type": "code",
      "execution_count": 16,
      "metadata": {
        "id": "5VUXlL3O_VtF"
      },
      "outputs": [],
      "source": [
        "sample_idx = 33"
      ]
    },
    {
      "cell_type": "code",
      "execution_count": 17,
      "metadata": {
        "id": "7RWwU4YO_VtF",
        "outputId": "15b725f5-5725-4c17-d208-4f40eca829dd",
        "colab": {
          "base_uri": "https://localhost:8080/",
          "height": 449
        }
      },
      "outputs": [
        {
          "output_type": "display_data",
          "data": {
            "text/plain": [
              "<Figure size 640x480 with 1 Axes>"
            ],
            "image/png": "[encoded data removed]"
          },
          "metadata": {}
        }
      ],
      "source": [
        "plt.imshow(X_test_scaled[sample_idx].reshape(28,28), cmap='gray');\n",
        "plt.title('Label: %s\\n' % y_test[sample_idx]);\n",
        "plt.axis('off');"
      ]
    },
    {
      "cell_type": "markdown",
      "metadata": {
        "id": "nOHcJm6-_VtF"
      },
      "source": [
        "We’l compute $z_k$ for each class $k$:"
      ]
    },
    {
      "cell_type": "code",
      "execution_count": 18,
      "metadata": {
        "id": "LqQQTKjy_VtG",
        "outputId": "d7f7547f-7e71-43d6-b568-616fa8c85b69",
        "colab": {
          "base_uri": "https://localhost:8080/"
        }
      },
      "outputs": [
        {
          "output_type": "execute_result",
          "data": {
            "text/plain": [
              "[-1.8778180757998388,\n",
              " -4.529122539415244,\n",
              " 2.395739603580333,\n",
              " 0.1059253588088232,\n",
              " 1.9241949013778443,\n",
              " -1.7314999362897805,\n",
              " -0.09346629606118503,\n",
              " 1.8406580818548257,\n",
              " -1.3363370584700012,\n",
              " 3.4144927145000654]"
            ]
          },
          "metadata": {},
          "execution_count": 18
        }
      ],
      "source": [
        "z = [ clf.intercept_[k] + np.dot(clf.coef_[k], X_test_scaled[sample_idx]) for k in range(10) ]\n",
        "z"
      ]
    },
    {
      "cell_type": "markdown",
      "metadata": {
        "id": "gAtij73T_VtG"
      },
      "source": [
        "Then, we can compute the conditional probability for each class, for this sample:"
      ]
    },
    {
      "cell_type": "code",
      "execution_count": 19,
      "metadata": {
        "id": "lhCNzDJ9_VtG",
        "outputId": "a0644cb0-d7cc-4ecc-df18-e756db7fc61e",
        "colab": {
          "base_uri": "https://localhost:8080/"
        }
      },
      "outputs": [
        {
          "output_type": "execute_result",
          "data": {
            "text/plain": [
              "array([2.67562865e-03, 1.88789979e-04, 1.92047366e-01, 1.94515702e-02,\n",
              "       1.19844772e-01, 3.09721246e-03, 1.59352899e-02, 1.10240078e-01,\n",
              "       4.59820210e-03, 5.31921090e-01])"
            ]
          },
          "metadata": {},
          "execution_count": 19
        }
      ],
      "source": [
        "exps = [np.exp(z[k]) for k in range(10)]\n",
        "exps_sum = np.sum(exps)\n",
        "probs = exps/exps_sum\n",
        "probs"
      ]
    },
    {
      "cell_type": "markdown",
      "metadata": {
        "id": "WflTVMYI_VtG"
      },
      "source": [
        "Here, the first entry is the probability of belonging to class 0 (i.e. having the label '0'), the second entry is the probability of belonging to class 1, etc."
      ]
    },
    {
      "cell_type": "code",
      "execution_count": 20,
      "metadata": {
        "id": "gikHYIZP_VtH",
        "outputId": "782a9a43-e7e6-4d68-d2d9-ce5a4f6e0175",
        "colab": {
          "base_uri": "https://localhost:8080/",
          "height": 449
        }
      },
      "outputs": [
        {
          "output_type": "display_data",
          "data": {
            "text/plain": [
              "<Figure size 640x480 with 1 Axes>"
            ],
            "image/png": "[encoded data removed]"
          },
          "metadata": {}
        }
      ],
      "source": [
        "sns.barplot(x=np.arange(0,10), y=probs);\n",
        "plt.ylabel(\"Probability\");\n",
        "plt.xlabel(\"Class\");"
      ]
    },
    {
      "cell_type": "markdown",
      "metadata": {
        "id": "36jPn3iU_VtH"
      },
      "source": [
        "In general, to get the predicted *label*, we can find the class with the highest probability:"
      ]
    },
    {
      "cell_type": "code",
      "execution_count": 21,
      "metadata": {
        "id": "1HjJ36Ld_VtH",
        "outputId": "8786c42c-2041-42f2-b59d-eb54308b0376",
        "colab": {
          "base_uri": "https://localhost:8080/",
          "height": 35
        }
      },
      "outputs": [
        {
          "output_type": "execute_result",
          "data": {
            "text/plain": [
              "'9'"
            ],
            "application/vnd.google.colaboratory.intrinsic+json": {
              "type": "string"
            }
          },
          "metadata": {},
          "execution_count": 21
        }
      ],
      "source": [
        "idx_cls = np.argmax(probs)\n",
        "classes[idx_cls]"
      ]
    },
    {
      "cell_type": "markdown",
      "metadata": {
        "id": "fjhwCXXw_VtN"
      },
      "source": [
        "*If* this matches the actual label for the first test sample, then our prediction is correct."
      ]
    },
    {
      "cell_type": "code",
      "execution_count": 22,
      "metadata": {
        "id": "fRXLLRhG_VtN",
        "outputId": "16253b6b-c47a-4115-8c92-3422e18fdecf",
        "colab": {
          "base_uri": "https://localhost:8080/",
          "height": 35
        }
      },
      "outputs": [
        {
          "output_type": "execute_result",
          "data": {
            "text/plain": [
              "'4'"
            ],
            "application/vnd.google.colaboratory.intrinsic+json": {
              "type": "string"
            }
          },
          "metadata": {},
          "execution_count": 22
        }
      ],
      "source": [
        "y_test[sample_idx]"
      ]
    },
    {
      "cell_type": "markdown",
      "metadata": {
        "id": "ZEzwMwlJ_VtN"
      },
      "source": [
        "The `LogisticRegression` implementation in `sklearn` includes functions to compute both the per-class probability, and the most likely label."
      ]
    },
    {
      "cell_type": "markdown",
      "metadata": {
        "id": "dT_yQ10-_VtO"
      },
      "source": [
        "We can use the `predict_proba` function on the logistic regression to get these probabilities. For each sample, it returns 10 probabilities - one for each of the ten classes (i.e. each value of $k$)."
      ]
    },
    {
      "cell_type": "code",
      "execution_count": 23,
      "metadata": {
        "id": "QeCY-Kdu_VtO"
      },
      "outputs": [],
      "source": [
        "y_pred_prob = clf.predict_proba(X_test_scaled)"
      ]
    },
    {
      "cell_type": "markdown",
      "metadata": {
        "id": "H_J_7d6r_VtO"
      },
      "source": [
        "Let’s look at our example test point, and compare to our own computations:"
      ]
    },
    {
      "cell_type": "code",
      "execution_count": 24,
      "metadata": {
        "id": "Scz9y86v_VtO",
        "outputId": "c5a40638-394e-412d-fae5-55d1db37f52f",
        "colab": {
          "base_uri": "https://localhost:8080/"
        }
      },
      "outputs": [
        {
          "output_type": "execute_result",
          "data": {
            "text/plain": [
              "array([2.67562865e-03, 1.88789979e-04, 1.92047366e-01, 1.94515702e-02,\n",
              "       1.19844772e-01, 3.09721246e-03, 1.59352899e-02, 1.10240078e-01,\n",
              "       4.59820210e-03, 5.31921090e-01])"
            ]
          },
          "metadata": {},
          "execution_count": 24
        }
      ],
      "source": [
        "y_pred_prob[sample_idx]"
      ]
    },
    {
      "cell_type": "markdown",
      "metadata": {
        "id": "cqSfPplZ_VtP"
      },
      "source": [
        "We use the `predict` function to predict a label for each sample in the test set. This will return the class label with the highest probability.\n",
        "\n",
        "For our test sample, the prediction is:"
      ]
    },
    {
      "cell_type": "code",
      "execution_count": 25,
      "metadata": {
        "id": "MO2heUsR_VtP"
      },
      "outputs": [],
      "source": [
        "y_pred = clf.predict(X_test_scaled)"
      ]
    },
    {
      "cell_type": "code",
      "execution_count": 26,
      "metadata": {
        "id": "OO7SB9un_VtP",
        "outputId": "da37661b-16bc-4c9d-a483-34c5e9950374",
        "colab": {
          "base_uri": "https://localhost:8080/",
          "height": 35
        }
      },
      "outputs": [
        {
          "output_type": "execute_result",
          "data": {
            "text/plain": [
              "'9'"
            ],
            "application/vnd.google.colaboratory.intrinsic+json": {
              "type": "string"
            }
          },
          "metadata": {},
          "execution_count": 26
        }
      ],
      "source": [
        "y_pred[sample_idx]"
      ]
    },
    {
      "cell_type": "markdown",
      "metadata": {
        "id": "ADwOsq6K_VtP"
      },
      "source": [
        "and the true value is:"
      ]
    },
    {
      "cell_type": "code",
      "execution_count": 27,
      "metadata": {
        "id": "1aPX05Pt_VtQ",
        "outputId": "9ad4d7f5-9c7f-427f-a40b-21a67dbb55c6",
        "colab": {
          "base_uri": "https://localhost:8080/",
          "height": 35
        }
      },
      "outputs": [
        {
          "output_type": "execute_result",
          "data": {
            "text/plain": [
              "'4'"
            ],
            "application/vnd.google.colaboratory.intrinsic+json": {
              "type": "string"
            }
          },
          "metadata": {},
          "execution_count": 27
        }
      ],
      "source": [
        "y_test[sample_idx]"
      ]
    },
    {
      "cell_type": "markdown",
      "metadata": {
        "id": "j_dzbshy_VtQ"
      },
      "source": [
        "### Evaluate classifier performance"
      ]
    },
    {
      "cell_type": "markdown",
      "metadata": {
        "id": "M3emmOK2_VtQ"
      },
      "source": [
        "The first important metric is the accuracy - what percent of predicted labels are the same as the true labels?"
      ]
    },
    {
      "cell_type": "markdown",
      "metadata": {
        "id": "vjSRsds9_VtR"
      },
      "source": [
        "There are a few ways to compute this value -"
      ]
    },
    {
      "cell_type": "code",
      "execution_count": 28,
      "metadata": {
        "id": "wJFRwdOI_VtR",
        "outputId": "85c431ac-d4aa-4c27-ca3d-169aa693578d",
        "colab": {
          "base_uri": "https://localhost:8080/"
        }
      },
      "outputs": [
        {
          "output_type": "stream",
          "name": "stdout",
          "text": [
            "0.9052\n"
          ]
        }
      ],
      "source": [
        "accuracy =  np.mean(y_test == y_pred)\n",
        "print(accuracy)"
      ]
    },
    {
      "cell_type": "code",
      "execution_count": 29,
      "metadata": {
        "id": "SLYG9xqD_VtR",
        "outputId": "12381cb2-2863-4de7-d057-dc77ac5b9cac",
        "colab": {
          "base_uri": "https://localhost:8080/"
        }
      },
      "outputs": [
        {
          "output_type": "stream",
          "name": "stdout",
          "text": [
            "0.9052\n"
          ]
        }
      ],
      "source": [
        "accuracy = accuracy_score(y_test, y_pred)\n",
        "print(accuracy)"
      ]
    },
    {
      "cell_type": "code",
      "execution_count": 30,
      "metadata": {
        "id": "Z8_b4CQK_VtR",
        "outputId": "035f7dc9-a8d4-464a-d45e-87ed8630ec41",
        "colab": {
          "base_uri": "https://localhost:8080/"
        }
      },
      "outputs": [
        {
          "output_type": "stream",
          "name": "stdout",
          "text": [
            "0.9052\n"
          ]
        }
      ],
      "source": [
        "accuracy = clf.score(X_test_scaled, y_test)\n",
        "print(accuracy)"
      ]
    },
    {
      "cell_type": "markdown",
      "metadata": {
        "id": "jtY_NYW3_VtR"
      },
      "source": [
        "What about other important metrics?\n",
        "\n",
        "For a binary classifier, we also care about\n",
        "\n",
        "-   The number of true positive (TP) outputs - samples from the positive class that are predicted as positive\n",
        "-   The number of true negative (TN) outputs - samples from the negative class that are predicted as negative\n",
        "-   The number of false positive (FP) outputs - samples from the negative class that are predicted as positive, and\n",
        "-   The number of false negative (FN) outputs - samples from the positive class that are predicted as negative."
      ]
    },
    {
      "cell_type": "markdown",
      "metadata": {
        "id": "g5NFBwYg_VtR"
      },
      "source": [
        "These are often presented together in a confusion matrix."
      ]
    },
    {
      "cell_type": "markdown",
      "metadata": {
        "id": "vg28bXwa_VtR"
      },
      "source": [
        "For a multi-class problem, we can extend the confusion matrix to have more rows and columns. The diagonal of the multi-class confusion matrix shows the number of correct classifications for each class, and other entries show instances where a sample from one class was mistakenly assigned a different class label."
      ]
    },
    {
      "cell_type": "markdown",
      "metadata": {
        "id": "1SqPi8xp_VtS"
      },
      "source": [
        "We can create a confusion matrix using the `pandas` library's `crosstab` function."
      ]
    },
    {
      "cell_type": "code",
      "execution_count": 31,
      "metadata": {
        "id": "cDSDGDDI_VtS",
        "outputId": "1db6af5d-7e7e-487f-940b-8e51fd5c242c",
        "colab": {
          "base_uri": "https://localhost:8080/",
          "height": 850
        }
      },
      "outputs": [
        {
          "output_type": "display_data",
          "data": {
            "text/plain": [
              "<Figure size 1000x1000 with 1 Axes>"
            ],
            "image/png": "[encoded data removed]"
          },
          "metadata": {}
        }
      ],
      "source": [
        "cm = pd.crosstab(y_test, y_pred,\n",
        "                               rownames=['Actual'], colnames=['Predicted'])\n",
        "p = plt.figure(figsize=(10,10));\n",
        "p = sns.heatmap(cm, annot=True, fmt=\"d\", cbar=False)"
      ]
    },
    {
      "cell_type": "markdown",
      "metadata": {
        "id": "XJV0MsAm_VtS"
      },
      "source": [
        "Here's a version that is slightly easier to interpret - we have normalized the confusion matrix by row, so that the entries on the diagonal show the accuracy per class."
      ]
    },
    {
      "cell_type": "code",
      "execution_count": 32,
      "metadata": {
        "id": "vmmAGLNb_VtS",
        "outputId": "a4f62192-028c-4b23-8afb-89a029a60a82",
        "colab": {
          "base_uri": "https://localhost:8080/",
          "height": 850
        }
      },
      "outputs": [
        {
          "output_type": "display_data",
          "data": {
            "text/plain": [
              "<Figure size 1000x1000 with 1 Axes>"
            ],
            "image/png": "[encoded data removed]"
          },
          "metadata": {}
        }
      ],
      "source": [
        "cm = pd.crosstab(y_test, y_pred,\n",
        "                               rownames=['Actual'], colnames=['Predicted'], normalize='index')\n",
        "p = plt.figure(figsize=(10,10));\n",
        "p = sns.heatmap(cm, annot=True, fmt=\".2f\", cbar=False)"
      ]
    },
    {
      "cell_type": "markdown",
      "metadata": {
        "id": "xq03d4mc_VtS"
      },
      "source": [
        "We can see that the digits 0, 1, 4 are easiest for the logistic regression to classify, while the digits 8, 5, 2, and 3 are more difficult (because the classification accuracy was less for these digits).\n",
        "\n",
        "We can also see which digits are easily confused with one another. For example, we can see that some 8s are misclassified as 1s, and some 5s are misclassified as 8s."
      ]
    },
    {
      "cell_type": "markdown",
      "metadata": {
        "id": "lgPFFtmx_VtT"
      },
      "source": [
        "### Try your own image"
      ]
    },
    {
      "cell_type": "markdown",
      "metadata": {
        "id": "hToOHg_B_VtT"
      },
      "source": [
        "On a plain white piece of paper, in a black or other dark-colored pen or pencil, write a digit of your choice from 0 to 9. Take a photo of your handwritten digit.\n",
        "\n",
        "Edit your photo (crop, rotate as needed), using a photo editor of your choice (I used Google Photos), so that your photo is approximately square, and includes only the digit and the white background. Leave a small margin around the edge of the writing, but not too much. Your edited photo should look similar to the MNIST images in the demo notebook.\n",
        "\n",
        "For example:\n",
        "\n",
        "<img src=\"https://i.ibb.co/RzLP8nm/20200710-115731.jpg\" alt=\"A handwritten '8'\" width=200/>"
      ]
    },
    {
      "cell_type": "markdown",
      "metadata": {
        "id": "mcK1eIYY_VtT"
      },
      "source": [
        "Run the following cell. Click “Choose files”, and upload the photo of your handwritten digit."
      ]
    },
    {
      "cell_type": "code",
      "execution_count": 33,
      "metadata": {
        "id": "UOVtX-17_VtT",
        "outputId": "40ae2e64-d63b-4bfd-c206-94cc43b8d21b",
        "colab": {
          "base_uri": "https://localhost:8080/",
          "height": 91
        }
      },
      "outputs": [
        {
          "output_type": "display_data",
          "data": {
            "text/plain": [
              "<IPython.core.display.HTML object>"
            ],
            "text/html": [
              "\n",
              "     <input type=\"file\" id=\"files-ec38ddc9-e8f9-4e07-8a81-0fb03460fe94\" name=\"files[]\" multiple disabled\n",
              "        style=\"border:none\" />\n",
              "     <output id=\"result-ec38ddc9-e8f9-4e07-8a81-0fb03460fe94\">\n",
              "      Upload widget is only available when the cell has been executed in the\n",
              "      current browser session. Please rerun this cell to enable.\n",
              "      </output>\n",
              "      <script>// Copyright 2017 Google LLC\n",
              "//\n",
              "// Licensed under the Apache License, Version 2.0 (the \"License\");\n",
              "// you may not use this file except in compliance with the License.\n",
              "// You may obtain a copy of the License at\n",
              "//\n",
              "//      http://www.apache.org/licenses/LICENSE-2.0\n",
              "//\n",
              "// Unless required by applicable law or agreed to in writing, software\n",
              "// distributed under the License is distributed on an \"AS IS\" BASIS,\n",
              "// WITHOUT WARRANTIES OR CONDITIONS OF ANY KIND, either express or implied.\n",
              "// See the License for the specific language governing permissions and\n",
              "// limitations under the License.\n",
              "\n",
              "/**\n",
              " * @fileoverview Helpers for google.colab Python module.\n",
              " */\n",
              "(function(scope) {\n",
              "function span(text, styleAttributes = {}) {\n",
              "  const element = document.createElement('span');\n",
              "  element.textContent = text;\n",
              "  for (const key of Object.keys(styleAttributes)) {\n",
              "    element.style[key] = styleAttributes[key];\n",
              "  }\n",
              "  return element;\n",
              "}\n",
              "\n",
              "// Max number of bytes which will be uploaded at a time.\n",
              "const MAX_PAYLOAD_SIZE = 100 * 1024;\n",
              "\n",
              "function _uploadFiles(inputId, outputId) {\n",
              "  const steps = uploadFilesStep(inputId, outputId);\n",
              "  const outputElement = document.getElementById(outputId);\n",
              "  // Cache steps on the outputElement to make it available for the next call\n",
              "  // to uploadFilesContinue from Python.\n",
              "  outputElement.steps = steps;\n",
              "\n",
              "  return _uploadFilesContinue(outputId);\n",
              "}\n",
              "\n",
              "// This is roughly an async generator (not supported in the browser yet),\n",
              "// where there are multiple asynchronous steps and the Python side is going\n",
              "// to poll for completion of each step.\n",
              "// This uses a Promise to block the python side on completion of each step,\n",
              "// then passes the result of the previous step as the input to the next step.\n",
              "function _uploadFilesContinue(outputId) {\n",
              "  const outputElement = document.getElementById(outputId);\n",
              "  const steps = outputElement.steps;\n",
              "\n",
              "  const next = steps.next(outputElement.lastPromiseValue);\n",
              "  return Promise.resolve(next.value.promise).then((value) => {\n",
              "    // Cache the last promise value to make it available to the next\n",
              "    // step of the generator.\n",
              "    outputElement.lastPromiseValue = value;\n",
              "    return next.value.response;\n",
              "  });\n",
              "}\n",
              "\n",
              "/**\n",
              " * Generator function which is called between each async step of the upload\n",
              " * process.\n",
              " * @param {string} inputId Element ID of the input file picker element.\n",
              " * @param {string} outputId Element ID of the output display.\n",
              " * @return {!Iterable<!Object>} Iterable of next steps.\n",
              " */\n",
              "function* uploadFilesStep(inputId, outputId) {\n",
              "  const inputElement = document.getElementById(inputId);\n",
              "  inputElement.disabled = false;\n",
              "\n",
              "  const outputElement = document.getElementById(outputId);\n",
              "  outputElement.innerHTML = '';\n",
              "\n",
              "  const pickedPromise = new Promise((resolve) => {\n",
              "    inputElement.addEventListener('change', (e) => {\n",
              "      resolve(e.target.files);\n",
              "    });\n",
              "  });\n",
              "\n",
              "  const cancel = document.createElement('button');\n",
              "  inputElement.parentElement.appendChild(cancel);\n",
              "  cancel.textContent = 'Cancel upload';\n",
              "  const cancelPromise = new Promise((resolve) => {\n",
              "    cancel.onclick = () => {\n",
              "      resolve(null);\n",
              "    };\n",
              "  });\n",
              "\n",
              "  // Wait for the user to pick the files.\n",
              "  const files = yield {\n",
              "    promise: Promise.race([pickedPromise, cancelPromise]),\n",
              "    response: {\n",
              "      action: 'starting',\n",
              "    }\n",
              "  };\n",
              "\n",
              "  cancel.remove();\n",
              "\n",
              "  // Disable the input element since further picks are not allowed.\n",
              "  inputElement.disabled = true;\n",
              "\n",
              "  if (!files) {\n",
              "    return {\n",
              "      response: {\n",
              "        action: 'complete',\n",
              "      }\n",
              "    };\n",
              "  }\n",
              "\n",
              "  for (const file of files) {\n",
              "    const li = document.createElement('li');\n",
              "    li.append(span(file.name, {fontWeight: 'bold'}));\n",
              "    li.append(span(\n",
              "        `(${file.type || 'n/a'}) - ${file.size} bytes, ` +\n",
              "        `last modified: ${\n",
              "            file.lastModifiedDate ? file.lastModifiedDate.toLocaleDateString() :\n",
              "                                    'n/a'} - `));\n",
              "    const percent = span('0% done');\n",
              "    li.appendChild(percent);\n",
              "\n",
              "    outputElement.appendChild(li);\n",
              "\n",
              "    const fileDataPromise = new Promise((resolve) => {\n",
              "      const reader = new FileReader();\n",
              "      reader.onload = (e) => {\n",
              "        resolve(e.target.result);\n",
              "      };\n",
              "      reader.readAsArrayBuffer(file);\n",
              "    });\n",
              "    // Wait for the data to be ready.\n",
              "    let fileData = yield {\n",
              "      promise: fileDataPromise,\n",
              "      response: {\n",
              "        action: 'continue',\n",
              "      }\n",
              "    };\n",
              "\n",
              "    // Use a chunked sending to avoid message size limits. See b/62115660.\n",
              "    let position = 0;\n",
              "    do {\n",
              "      const length = Math.min(fileData.byteLength - position, MAX_PAYLOAD_SIZE);\n",
              "      const chunk = new Uint8Array(fileData, position, length);\n",
              "      position += length;\n",
              "\n",
              "      const base64 = btoa(String.fromCharCode.apply(null, chunk));\n",
              "      yield {\n",
              "        response: {\n",
              "          action: 'append',\n",
              "          file: file.name,\n",
              "          data: base64,\n",
              "        },\n",
              "      };\n",
              "\n",
              "      let percentDone = fileData.byteLength === 0 ?\n",
              "          100 :\n",
              "          Math.round((position / fileData.byteLength) * 100);\n",
              "      percent.textContent = `${percentDone}% done`;\n",
              "\n",
              "    } while (position < fileData.byteLength);\n",
              "  }\n",
              "\n",
              "  // All done.\n",
              "  yield {\n",
              "    response: {\n",
              "      action: 'complete',\n",
              "    }\n",
              "  };\n",
              "}\n",
              "\n",
              "scope.google = scope.google || {};\n",
              "scope.google.colab = scope.google.colab || {};\n",
              "scope.google.colab._files = {\n",
              "  _uploadFiles,\n",
              "  _uploadFilesContinue,\n",
              "};\n",
              "})(self);\n",
              "</script> "
            ]
          },
          "metadata": {}
        },
        {
          "output_type": "stream",
          "name": "stdout",
          "text": [
            "Saving Screenshot 2025-03-06 072730.png to Screenshot 2025-03-06 072730.png\n",
            "User uploaded file \"Screenshot 2025-03-06 072730.png\" with length 3197 bytes\n"
          ]
        }
      ],
      "source": [
        "from google.colab import files\n",
        "\n",
        "uploaded = files.upload()\n",
        "\n",
        "for fn in uploaded.keys():\n",
        "  print('User uploaded file \"{name}\" with length {length} bytes'.format(\n",
        "      name=fn, length=len(uploaded[fn])))"
      ]
    },
    {
      "cell_type": "markdown",
      "metadata": {
        "id": "rdLSc0FZ_VtT"
      },
      "source": [
        "On the left side of the Colab window, you will see a small file folder icon, which allows you to explore the filesystem of your Colab workspace. If you click on this icon, you should see that your file has been uploaded to your Colab workspace. (You may need to use the “Refresh” button in the file browser in order to see the file.) Make a note of the file name."
      ]
    },
    {
      "cell_type": "markdown",
      "metadata": {
        "id": "8X2R7FSj_VtT"
      },
      "source": [
        "After uploading your image, run this cell, but *replace the filename* with the name of the file you have just uploaded to Colab. You shold see your image appear in the cell output."
      ]
    },
    {
      "cell_type": "code",
      "execution_count": 34,
      "metadata": {
        "id": "XBd2ve_2_VtU",
        "outputId": "01dabff9-d167-4e9d-db10-47e0d4a3a1c9",
        "colab": {
          "base_uri": "https://localhost:8080/",
          "height": 436
        }
      },
      "outputs": [
        {
          "output_type": "display_data",
          "data": {
            "text/plain": [
              "<Figure size 640x480 with 1 Axes>"
            ],
            "image/png": "[encoded data removed]"
          },
          "metadata": {}
        }
      ],
      "source": [
        "from PIL import Image\n",
        "\n",
        "filename = 'Screenshot 2025-03-06 072730.png'\n",
        "\n",
        "image = Image.open(filename)\n",
        "p = plt.imshow(np.asarray(image), cmap=plt.cm.gray,);\n",
        "p = plt.title('Shape: ' + str(np.asarray(image).shape))"
      ]
    },
    {
      "cell_type": "markdown",
      "metadata": {
        "id": "Ky_VOwwM_VtU"
      },
      "source": [
        "For example:\n",
        "\n",
        "<img src=\"https://i.ibb.co/jy2Qt6Z/image.png\" alt=\"A handwritten '8' after uploading to Colab\" width=200/>"
      ]
    },
    {
      "cell_type": "markdown",
      "metadata": {
        "id": "jgb4jDYj_VtU"
      },
      "source": [
        "The images in MNIST have been pre-processed - they are converted to grayscale, and centered in a 28x28 image by computing the center of mass of the pixels, and then translating and scaling the image so as to position this point at the center of the 28x28 field.\n",
        "\n",
        "You have already done some manual pre-processing, by cropping your image before uploading. But you may have noticed from the `shape` output that your image resolution is much larger than 28x28, and you probably had three color channels (red, green, and blue).\n",
        "\n",
        "Use the code in the following cells to pre-process your image into a 28x28 image with one color channel (grayscale). You may have to manually tune the contrast for best results, by changing the `pixel_filter` value. You will want the background to be as close to pure black as possible, without affecting the legibility of the handwritten digit.\n",
        "\n",
        "(We won’t bother with centering the image, but that would probably improve the prediction performance quite a lot!)"
      ]
    },
    {
      "cell_type": "code",
      "execution_count": 35,
      "metadata": {
        "id": "bFgSnrEm_VtU",
        "outputId": "444eb213-1050-47f8-f846-ad53f5983a07",
        "colab": {
          "base_uri": "https://localhost:8080/",
          "height": 436
        }
      },
      "outputs": [
        {
          "output_type": "display_data",
          "data": {
            "text/plain": [
              "<Figure size 640x480 with 1 Axes>"
            ],
            "image/png": "[encoded data removed]"
          },
          "metadata": {}
        }
      ],
      "source": [
        "# convert to grayscale image - 'L' format means each pixel is\n",
        "# represented by a single value from 0 to 255\n",
        "image_bw = image.convert('L')\n",
        "p = plt.imshow(np.asarray(image_bw), cmap=plt.cm.gray,);\n",
        "p = plt.title('Shape: ' + str(np.asarray(image_bw).shape))"
      ]
    },
    {
      "cell_type": "code",
      "execution_count": 36,
      "metadata": {
        "id": "CLlyhES__VtU",
        "outputId": "ba3c44be-1087-49e1-c84a-9a89baa201b8",
        "colab": {
          "base_uri": "https://localhost:8080/",
          "height": 193
        }
      },
      "outputs": [
        {
          "output_type": "error",
          "ename": "AttributeError",
          "evalue": "module 'PIL.Image' has no attribute 'ANTIALIAS'",
          "traceback": [
            "\u001b[0;31m---------------------------------------------------------------------------\u001b[0m",
            "\u001b[0;31mAttributeError\u001b[0m                            Traceback (most recent call last)",
            "\u001b[0;32m<ipython-input-36-11af37830eb5>\u001b[0m in \u001b[0;36m<cell line: 0>\u001b[0;34m()\u001b[0m\n\u001b[1;32m      1\u001b[0m \u001b[0;31m# resize image\u001b[0m\u001b[0;34m\u001b[0m\u001b[0;34m\u001b[0m\u001b[0m\n\u001b[0;32m----> 2\u001b[0;31m \u001b[0mimage_bw_resized\u001b[0m \u001b[0;34m=\u001b[0m \u001b[0mimage_bw\u001b[0m\u001b[0;34m.\u001b[0m\u001b[0mresize\u001b[0m\u001b[0;34m(\u001b[0m\u001b[0;34m(\u001b[0m\u001b[0;36m28\u001b[0m\u001b[0;34m,\u001b[0m\u001b[0;36m28\u001b[0m\u001b[0;34m)\u001b[0m\u001b[0;34m,\u001b[0m \u001b[0mImage\u001b[0m\u001b[0;34m.\u001b[0m\u001b[0mANTIALIAS\u001b[0m\u001b[0;34m)\u001b[0m\u001b[0;34m\u001b[0m\u001b[0;34m\u001b[0m\u001b[0m\n\u001b[0m\u001b[1;32m      3\u001b[0m \u001b[0mp\u001b[0m \u001b[0;34m=\u001b[0m \u001b[0mplt\u001b[0m\u001b[0;34m.\u001b[0m\u001b[0mimshow\u001b[0m\u001b[0;34m(\u001b[0m\u001b[0mnp\u001b[0m\u001b[0;34m.\u001b[0m\u001b[0masarray\u001b[0m\u001b[0;34m(\u001b[0m\u001b[0mimage_bw_resized\u001b[0m\u001b[0;34m)\u001b[0m\u001b[0;34m,\u001b[0m \u001b[0mcmap\u001b[0m\u001b[0;34m=\u001b[0m\u001b[0mplt\u001b[0m\u001b[0;34m.\u001b[0m\u001b[0mcm\u001b[0m\u001b[0;34m.\u001b[0m\u001b[0mgray\u001b[0m\u001b[0;34m,\u001b[0m\u001b[0;34m)\u001b[0m\u001b[0;34m;\u001b[0m\u001b[0;34m\u001b[0m\u001b[0;34m\u001b[0m\u001b[0m\n\u001b[1;32m      4\u001b[0m \u001b[0mp\u001b[0m \u001b[0;34m=\u001b[0m \u001b[0mplt\u001b[0m\u001b[0;34m.\u001b[0m\u001b[0mtitle\u001b[0m\u001b[0;34m(\u001b[0m\u001b[0;34m'Shape: '\u001b[0m \u001b[0;34m+\u001b[0m \u001b[0mstr\u001b[0m\u001b[0;34m(\u001b[0m\u001b[0mnp\u001b[0m\u001b[0;34m.\u001b[0m\u001b[0masarray\u001b[0m\u001b[0;34m(\u001b[0m\u001b[0mimage_bw_resized\u001b[0m\u001b[0;34m)\u001b[0m\u001b[0;34m.\u001b[0m\u001b[0mshape\u001b[0m\u001b[0;34m)\u001b[0m\u001b[0;34m)\u001b[0m\u001b[0;34m\u001b[0m\u001b[0;34m\u001b[0m\u001b[0m\n",
            "\u001b[0;31mAttributeError\u001b[0m: module 'PIL.Image' has no attribute 'ANTIALIAS'"
          ]
        }
      ],
      "source": [
        "# resize image\n",
        "image_bw_resized = image_bw.resize((28,28), Image.Resampling.LANCZOS)\n",
        "p = plt.imshow(np.asarray(image_bw_resized), cmap=plt.cm.gray,);\n",
        "p = plt.title('Shape: ' + str(np.asarray(image_bw_resized).shape))"
      ]
    },
    {
      "cell_type": "code",
      "execution_count": null,
      "metadata": {
        "id": "M5a5ZRs9_VtU"
      },
      "outputs": [],
      "source": [
        "# invert image, to match training data\n",
        "import PIL.ImageOps\n",
        "\n",
        "image_bw_resized_inverted = PIL.ImageOps.invert(image_bw_resized)\n",
        "p = plt.imshow(np.asarray(image_bw_resized_inverted), cmap=plt.cm.gray,);\n",
        "p = plt.title('Shape: ' + str(np.asarray(image_bw_resized_inverted).shape))"
      ]
    },
    {
      "cell_type": "code",
      "execution_count": null,
      "metadata": {
        "id": "dQ0M7BfC_VtV"
      },
      "outputs": [],
      "source": [
        "# adjust contrast and scale\n",
        "pixel_filter = 20 # value from 0 to 100 - may need to adjust this manually\n",
        "min_pixel = np.percentile(image_bw_resized_inverted, pixel_filter)\n",
        "image_bw_resized_inverted_scaled = np.clip(image_bw_resized_inverted-min_pixel, 0, 255)\n",
        "max_pixel = np.max(image_bw_resized_inverted_scaled)\n",
        "image_bw_resized_inverted_scaled = np.asarray(image_bw_resized_inverted_scaled)/max_pixel\n",
        "p = plt.imshow(np.asarray(image_bw_resized_inverted_scaled), cmap=plt.cm.gray,);\n",
        "p = plt.title('Shape: ' + str(np.asarray(image_bw_resized_inverted_scaled).shape))"
      ]
    },
    {
      "cell_type": "code",
      "execution_count": null,
      "metadata": {
        "id": "5tpRcOEx_VtV"
      },
      "outputs": [],
      "source": [
        "# finally, reshape to (1, 784) - 1 sample, 784 features\n",
        "test_sample = np.array(image_bw_resized_inverted_scaled).reshape(1,784)\n",
        "p = plt.imshow(np.reshape(test_sample, (28,28)), cmap=plt.cm.gray,);\n",
        "p = plt.title('Shape: ' + str(test_sample.shape))"
      ]
    },
    {
      "cell_type": "markdown",
      "metadata": {
        "id": "mWpfnR02_VtV"
      },
      "source": [
        "Make sure the `shape` of your test sample is `(1,784)` (one sample, 784 features)."
      ]
    },
    {
      "cell_type": "markdown",
      "metadata": {
        "id": "P3Yc1ItL_VtV"
      },
      "source": [
        "Run the following code to visualize your pre-processed image."
      ]
    },
    {
      "cell_type": "code",
      "execution_count": null,
      "metadata": {
        "id": "nN8C4IEf_VtV"
      },
      "outputs": [],
      "source": [
        "p = plt.imshow(np.reshape(test_sample, (28,28)), cmap=plt.cm.gray,);\n",
        "p = plt.title('Shape: ' + str(test_sample.shape))"
      ]
    },
    {
      "cell_type": "markdown",
      "metadata": {
        "id": "sSOwRceH_VtV"
      },
      "source": [
        "For example:\n",
        "\n",
        "<img src=\"https://i.ibb.co/0rD9Z75/image.png\" alt=\"A handwritten '8' after pre-processing\" width=200/>"
      ]
    },
    {
      "cell_type": "markdown",
      "metadata": {
        "id": "DSK_xftw_VtW"
      },
      "source": [
        "Now that you have processed your test image, let us see whether it is classified correctly by the logistic regression."
      ]
    },
    {
      "cell_type": "markdown",
      "metadata": {
        "id": "BwBO1pP4_VtW"
      },
      "source": [
        "Run the following cell. This will use your fitted logistic regression to predict conditional probabilities per class for this test sample, and plot them."
      ]
    },
    {
      "cell_type": "code",
      "execution_count": null,
      "metadata": {
        "id": "CTwesbgP_VtW"
      },
      "outputs": [],
      "source": [
        "test_probs = clf.predict_proba(test_sample)\n",
        "\n",
        "sns.barplot(x=np.arange(0,10), y=test_probs.squeeze());\n",
        "plt.ylabel(\"Probability\");\n",
        "plt.xlabel(\"Class\");"
      ]
    },
    {
      "cell_type": "markdown",
      "metadata": {
        "id": "paJZUmjN_VtW"
      },
      "source": [
        "For example:\n",
        "\n",
        "<img src=\"https://i.ibb.co/80TzWQv/image.png\" alt=\"Probabilities\" />"
      ]
    },
    {
      "cell_type": "markdown",
      "metadata": {
        "id": "i4Z5AKa7_VtW"
      },
      "source": [
        "Also run this cell, to show the predicted label for your test sample:"
      ]
    },
    {
      "cell_type": "code",
      "execution_count": null,
      "metadata": {
        "id": "KpJtA04u_VtX"
      },
      "outputs": [],
      "source": []
    },
    {
      "cell_type": "code",
      "execution_count": null,
      "metadata": {
        "id": "8J9ZaE-J_VtX"
      },
      "outputs": [],
      "source": [
        "test_pred = clf.predict(test_sample)\n",
        "print(\"Predicted class is: \", test_pred)"
      ]
    },
    {
      "cell_type": "markdown",
      "metadata": {
        "id": "spRWfrRg_VtX"
      },
      "source": [
        "Even if the fitted model correctly labeled your handwritten digit, it may have estimated a moderately high probability for some of the other labels. To understand why, it is useful to visualize\n",
        "\n",
        "$$\\langle w_k, x\\rangle$$\n",
        "\n",
        "for each class $k$.\n",
        "\n",
        "Add a cell with the following code, and run it. This will plot:\n",
        "\n",
        "-   on the top row, the coefficient vector for each class,\n",
        "-   on the bottom row, each pixel in your test image, multiplied by the associated coefficient for that class."
      ]
    },
    {
      "cell_type": "code",
      "execution_count": null,
      "metadata": {
        "id": "xrpu4X-7_VtX"
      },
      "outputs": [],
      "source": [
        "scale = np.max(np.abs(clf.coef_))\n",
        "\n",
        "p = plt.figure(figsize=(25, 5));\n",
        "\n",
        "for i in range(nclasses):\n",
        "    p = plt.subplot(2, nclasses, i + 1)\n",
        "    p = plt.imshow(clf.coef_[i].reshape(28, 28),\n",
        "                  cmap=plt.cm.RdBu, vmin=-scale, vmax=scale);\n",
        "    p = plt.title('Class %i' % i);\n",
        "    p = plt.axis('off')\n",
        "\n",
        "for i in range(nclasses):\n",
        "    p = plt.subplot(2, nclasses, nclasses + i + 1)\n",
        "    p = plt.imshow(test_sample.reshape(28, 28)*clf.coef_[i].reshape(28, 28),\n",
        "                  cmap=plt.cm.RdBu, vmin=-scale/2, vmax=scale/2);\n",
        "    # note: you can adjust the scaling factor if necessary,\n",
        "    # to make the visualization easier to understand\n",
        "    p = plt.axis('off')"
      ]
    },
    {
      "cell_type": "markdown",
      "metadata": {
        "id": "bxbFpPWS_VtX"
      },
      "source": [
        "For example:\n",
        "\n",
        "<img src=\"https://i.ibb.co/MGLkf0T/image.png\" alt=\"A handwritten '8' after pre-processing\"/>"
      ]
    },
    {
      "cell_type": "markdown",
      "metadata": {
        "id": "EzkO_E69_VtY"
      },
      "source": [
        "In the images in the bottom row,\n",
        "\n",
        "-   a blue pixel (and especially a dark blue pixel) means that your test image had writing in the part of the image that is positively associated with belonging to the class, and\n",
        "-   a red pixel (and especially a dark red pixel) means that your test image had writing in the part of the image that is negatively associated with belonging to the class."
      ]
    },
    {
      "cell_type": "markdown",
      "metadata": {
        "id": "yOdsqCqn_VtY"
      },
      "source": [
        "The image above should give you an idea of why your digit was classified correctly or incorrectly, and should help you understand when and why the model misclassifies some samples.\n",
        "\n",
        "-   if your image *was* classified correctly: draw a *slightly* modified version of the same digit, that you believe will be classified *incorrectly*. Run this second image through the steps above, and confirm your intuition.\n",
        "-   if your image *was not* classified correctly: draw a *slightly* modified version of the same digit, that you believe will be classified *correctly*. Run this second image through the steps above, and confirm your intuition.\n",
        "\n",
        "(Your second image should still be approximately square, include only the digit and the white background, and have a small margin around the edge of the writing, i.e. it should also “look like” the MNIST samples.)"
      ]
    },
    {
      "cell_type": "markdown",
      "metadata": {
        "id": "JksjX6sV_VtY"
      },
      "source": [
        "### Regularization"
      ]
    },
    {
      "cell_type": "markdown",
      "metadata": {
        "id": "ZGooWizr_VtZ"
      },
      "source": [
        "For the handwritten digit recognition task, many of the pixels (especially those near the outer border of the image) are not relevant. We can use L1 regularization to do feature selection, i.e. encourage a zero coefficient for features that are not relevant."
      ]
    },
    {
      "cell_type": "markdown",
      "metadata": {
        "id": "IWDPiv7x_VtZ"
      },
      "source": [
        "However, the classifier still fits a non-zero coefficient for those pixels. In the following images, any pixel with a zero coefficient is marked in black:"
      ]
    },
    {
      "cell_type": "code",
      "execution_count": null,
      "metadata": {
        "id": "VUfHDpID_VtZ"
      },
      "outputs": [],
      "source": [
        "zeros = np.ma.masked_where(clf.coef_ != 0, clf.coef_)\n",
        "\n",
        "scale = np.max(np.abs(clf.coef_))\n",
        "\n",
        "p = plt.figure(figsize=(25, 3));\n",
        "\n",
        "for i in range(nclasses):\n",
        "    p = plt.subplot(2, nclasses, i + 1)\n",
        "    p = plt.imshow(clf.coef_[i].reshape(28, 28),\n",
        "                  cmap=plt.cm.RdBu, vmin=-scale, vmax=scale);\n",
        "    p = plt.imshow((zeros[i]).reshape(28, 28),\n",
        "                  cmap=plt.cm.gray, vmin=0, vmax=1);\n",
        "    p = plt.title('Class %i' % i);\n",
        "    p = plt.axis('off')\n"
      ]
    },
    {
      "cell_type": "markdown",
      "metadata": {
        "id": "yRWvAQxJ_Vta"
      },
      "source": [
        "L1 regularization will encourage more zero coefficients. To fit a logistic regression with regularization, we specify the penalty and the regularization strength.\n",
        "\n",
        "The parameter `C` is actually the *inverse* of the regularization strength, so a small value means stronger regularization and more coefficients zeroed."
      ]
    },
    {
      "cell_type": "code",
      "execution_count": null,
      "metadata": {
        "id": "I64u68P2_Vta"
      },
      "outputs": [],
      "source": [
        "clf_l1 = LogisticRegression(penalty='l1', C=1,\n",
        "                      tol=0.1, solver='saga',\n",
        "                      multi_class='multinomial').fit(X_train_scaled, y_train)"
      ]
    },
    {
      "cell_type": "markdown",
      "metadata": {
        "id": "Hvk1C0R9_Vta"
      },
      "source": [
        "The coefficients for the regularized model are shown in the bottom row below.\n",
        "\n",
        "With the L1 penalty, many more coefficients are zeroed."
      ]
    },
    {
      "cell_type": "code",
      "execution_count": null,
      "metadata": {
        "id": "o-42aR2U_Vta"
      },
      "outputs": [],
      "source": [
        "\n",
        "zeros = np.ma.masked_where(clf.coef_ != 0, clf.coef_)\n",
        "zeros_l1 = np.ma.masked_where(clf_l1.coef_ != 0, clf.coef_)\n",
        "\n",
        "scale = np.max(np.abs(clf.coef_))\n",
        "\n",
        "p = plt.figure(figsize=(25, 5));\n",
        "\n",
        "for i in range(nclasses):\n",
        "    p = plt.subplot(2, nclasses, i + 1)\n",
        "    p = plt.imshow(clf.coef_[i].reshape(28, 28),\n",
        "                  cmap=plt.cm.RdBu, vmin=-scale, vmax=scale);\n",
        "    p = plt.imshow((zeros[i]).reshape(28, 28),\n",
        "                  cmap=plt.cm.gray, vmin=0, vmax=1);\n",
        "    p = plt.title('Class %i' % i);\n",
        "    p = plt.axis('off')\n",
        "\n",
        "for i in range(nclasses):\n",
        "    p = plt.subplot(2, nclasses, nclasses + i + 1)\n",
        "    p = plt.imshow(clf_l1.coef_[i].reshape(28, 28),\n",
        "                  cmap=plt.cm.RdBu, vmin=-scale, vmax=scale);\n",
        "    p = plt.imshow((zeros_l1[i]).reshape(28, 28),\n",
        "                  cmap=plt.cm.gray, vmin=0, vmax=1);\n",
        "    p = plt.title('Class %i' % i);\n",
        "    p = plt.axis('off')"
      ]
    },
    {
      "cell_type": "markdown",
      "metadata": {
        "id": "O7d3a5fc_Vta"
      },
      "source": [
        "Things to try:\n",
        "\n",
        "-   What happens if you increase C? decrease C?"
      ]
    }
  ],
  "nbformat": 4,
  "nbformat_minor": 0,
  "metadata": {
    "kernelspec": {
      "name": "python3",
      "display_name": "Python 3"
    },
    "colab": {
      "provenance": [],
      "include_colab_link": true
    }
  }
}