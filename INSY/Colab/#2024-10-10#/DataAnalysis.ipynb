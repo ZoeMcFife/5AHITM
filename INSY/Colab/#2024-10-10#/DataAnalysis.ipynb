{
  "cells": [
    {
      "cell_type": "markdown",
      "metadata": {
        "colab_type": "text",
        "id": "view-in-github"
      },
      "source": [
        "<a href=\"https://colab.research.google.com/github/ZoeMcFife/5AHITM/blob/main/INSY/Colab/%232024-10-10%23\" target=\"_parent\"><img src=\"https://colab.research.google.com/assets/colab-badge.svg\" alt=\"Open In Colab\"/></a>"
      ]
    },
    {
      "cell_type": "markdown",
      "id": "1291841e",
      "metadata": {
        "id": "1291841e"
      },
      "source": [
        "Exploratory data analysis\n",
        "=========================\n",
        "\n",
        "*This is based on the course of [Fraida Fund](https://colab.research.google.com/github/ffund/ml-notebooks/blob/master/notebooks/1-colab-tour.ipynb) for  NYU Tandon School of Engineering*"
      ]
    },
    {
      "cell_type": "markdown",
      "id": "Y7uNHRj0-pTl",
      "metadata": {
        "id": "Y7uNHRj0-pTl"
      },
      "source": [
        "In this notebook\n",
        "----------------\n",
        "\n",
        "In this notebook:\n",
        "\n",
        "-   We practice using `pandas` to read in and manipulate a data set. (We\n",
        "    won’t have a separate tutorial on `pandas` - we will learn basic\n",
        "    `pandas` techniques as we need them.)\n",
        "-   We learn a basic “recipe” for exploratory data analysis and apply it\n",
        "    to an example"
      ]
    },
    {
      "cell_type": "markdown",
      "id": "ap-ybDCb-pTl",
      "metadata": {
        "id": "ap-ybDCb-pTl"
      },
      "source": [
        "Introduction\n",
        "------------"
      ]
    },
    {
      "cell_type": "markdown",
      "id": "1qm9r957-pTm",
      "metadata": {
        "id": "1qm9r957-pTm"
      },
      "source": [
        "The first step in applying machine learning to a real problem is\n",
        "*finding* or *creating* an appropriate data set with which to train your\n",
        "model."
      ]
    },
    {
      "cell_type": "markdown",
      "id": "8P1L-eP--pTn",
      "metadata": {
        "id": "8P1L-eP--pTn"
      },
      "source": [
        "### What makes data “good”?\n",
        "\n",
        "What makes a good data set?\n",
        "\n",
        "-   **Size**: the more *samples* are in the data set, the more examples\n",
        "    your machine learning model will be able to learn from, and the\n",
        "    better it will do. Often, a simple machine learning model trained on\n",
        "    a large data set will outperform a “fancy” model on a small data\n",
        "    set.\n",
        "-   **Quality**: Are there *predictive* features in the data? Are no\n",
        "    values (or very few values) missing, noisy, or incorrect? Is the\n",
        "    scenario in which the data collected similar to the scenario in\n",
        "    which your model will be used? These are examples of questions that\n",
        "    we might ask to evaluate the quality of a data set."
      ]
    },
    {
      "cell_type": "markdown",
      "id": "xwJ9CaT5-pTn",
      "metadata": {
        "id": "xwJ9CaT5-pTn"
      },
      "source": [
        "One of the most important principles in machine learning is: **garbage\n",
        "in, garbage out**. If the data you use to train a machine learning model\n",
        "is problematic, or not well suited for the purpose, then even the best\n",
        "model will produce useless predictions."
      ]
    },
    {
      "cell_type": "markdown",
      "id": "APWGucRm-pTo",
      "metadata": {
        "id": "APWGucRm-pTo"
      },
      "source": [
        "### Purpose of exploratory data analysis\n",
        "\n",
        "Once we have identified one or more candidate data sets for a particular\n",
        "problem, we perform some *exploratory data analysis*. This process helps\n",
        "us\n",
        "\n",
        "-   detect and possibly correct mistakes in the data\n",
        "-   check our assumptions about the data\n",
        "-   identify potential relationships between features\n",
        "-   assess the direction and rough size of relationships between\n",
        "    features and the target variable\n",
        "\n",
        "Exploratory data analysis is important for understanding whether this\n",
        "data set is appropriate for the machine learning task at hand, and if\n",
        "any extra cleaning or processing steps are required before we use the\n",
        "data."
      ]
    },
    {
      "cell_type": "markdown",
      "id": "j1k72Ewo-pTo",
      "metadata": {
        "id": "j1k72Ewo-pTo"
      },
      "source": [
        "“Recipe” for exploratory data analysis\n",
        "--------------------------------------\n",
        "\n",
        "We will practice using a basic “recipe” for exploratory data analysis.\n",
        "\n",
        "1.  Set down *expectations* about the data\n",
        "2.  Load data and check that it is loaded correctly\n",
        "3.  Inspect the data to make sure it is consistent with your\n",
        "    expectations (“sanity checks”), and clean or filter the data if\n",
        "    needed\n",
        "4.  Explore relationships in the data to identify good candidate\n",
        "    features and target variables\n",
        "\n",
        "Every exploratory data analysis is different, as specific\n",
        "characteristics of the data may lead you to explore different things in\n",
        "depth. However, this “recipe” can be a helpful starting point."
      ]
    },
    {
      "cell_type": "markdown",
      "id": "NkyHnBOc-pTp",
      "metadata": {
        "id": "NkyHnBOc-pTp"
      },
      "source": [
        "Example: Brooklyn Bridge pedestrian data set\n",
        "--------------------------------------------"
      ]
    },
    {
      "cell_type": "markdown",
      "id": "HXpM7Cvh-pTp",
      "metadata": {
        "id": "HXpM7Cvh-pTp"
      },
      "source": [
        "The Brooklyn Bridge is a bridge that connects Brooklyn and Manhattan. It\n",
        "supports vehicles, pedestrians, and bikers.\n",
        "\n",
        "![](https://brooklyneagle.com/wp-content/uploads/2019/01/7-Brooklyn-Bridge-pedestrians-in-bike-lane-to-right-of-white-stripe-January-2019-photo-by-Lore-Croghan-600x397.jpg)"
      ]
    },
    {
      "cell_type": "markdown",
      "id": "jr-KyfTY-pTq",
      "metadata": {
        "id": "jr-KyfTY-pTq"
      },
      "source": [
        "Support you are developing a machine learning model to predict the\n",
        "volume of pedestrian traffic on the Brooklyn Bridge. There is a dataset\n",
        "available that you think may be useful as training data: [Brooklyn\n",
        "Bridge Automated Pedestrian Counts\n",
        "dataset](https://data.cityofnewyork.us/Transportation/Brooklyn-Bridge-Automated-Pedestrian-Counts-Demons/6fi9-q3ta),\n",
        "from the NYC Department of Transportation.\n",
        "\n",
        "We will practice applying the “recipe” for exploratory data analysis to\n",
        "this data.\n",
        "\n",
        "We will use the `pandas` library in Python, which includes many powerful\n",
        "utilities for managing data. You can refer to the [`pandas`\n",
        "reference](https://pandas.pydata.org/pandas-docs/stable/reference/index.html)\n",
        "for more details on the `pandas` functions used in this notebook."
      ]
    },
    {
      "cell_type": "markdown",
      "id": "49vHmKFV-pTq",
      "metadata": {
        "id": "49vHmKFV-pTq"
      },
      "source": [
        "### Set down *expectations* about the data\n",
        "\n",
        "The first step is to codify your expectations about the data *before*\n",
        "you look at it:\n",
        "\n",
        "-   Read about *methodology* and *data codebook*\n",
        "-   How many rows and columns are in the data?\n",
        "-   What does each variable mean? What units are data recorded in? What\n",
        "    is the expected range or typical value for each column?\n",
        "-   What variables do you think could be used as target variable? What\n",
        "    variables could be used as features from which to learn?\n",
        "-   How was data collected? Identify sampling issues, timeliness issues,\n",
        "    fairness issues, etc."
      ]
    },
    {
      "cell_type": "markdown",
      "id": "E0XRjdjf-pTq",
      "metadata": {
        "id": "E0XRjdjf-pTq"
      },
      "source": [
        "For the Brooklyn Bridge dataset, you can review the associated\n",
        "documentation on the NYC Data website:\n",
        "\n",
        "-   [NYC Data\n",
        "    Website](https://data.cityofnewyork.us/Transportation/Brooklyn-Bridge-Automated-Pedestrian-Counts-Demons/6fi9-q3ta)\n",
        "-   [Data\n",
        "    dictionary](https://data.cityofnewyork.us/api/views/6fi9-q3ta/files/845905ea-21d4-4ec7-958a-a1a09214513d?download=true&filename=Brooklyn_Bridge_Automated_Pedestrian_Counts_Demonstration_Project_data_dictionary.xlsx)"
      ]
    },
    {
      "cell_type": "markdown",
      "id": "y2Si8tq7-pTr",
      "metadata": {
        "id": "y2Si8tq7-pTr"
      },
      "source": [
        "### Load data and check that it is loaded correctly\n",
        "\n",
        "The next step is to load the data in preparation for our exploratory\n",
        "data analysis. Then, we’ll check that it is loaded correctly.\n",
        "\n",
        "Some examples of the things we’ll look for include:\n",
        "\n",
        "-   Does the `DataFrame` have the correct number of rows and columns\n",
        "    (consistent with our expectations from the first step)?\n",
        "-   Is the first row of “data” in the `DataFrame` real data, or is it\n",
        "    column labels that were misinterpreted as data? (Similarly, are the\n",
        "    column labels actually labels, or are they the first row of data?)\n",
        "-   Are the data types of every column consistent with our expectations?\n",
        "\n",
        "At this stage, we might also do some very basic manipulation of the data\n",
        "- for example, compute some fields that are derived directly from other\n",
        "fields. (For example, suppose you have a “distance” field in miles and\n",
        "you wanted to convert it to meters - you could do that here!)"
      ]
    },
    {
      "cell_type": "markdown",
      "id": "PrIp6SYL-pTr",
      "metadata": {
        "id": "PrIp6SYL-pTr"
      },
      "source": [
        "First, we will import some useful libraries:\n",
        "\n",
        "-   In Python - libraries add powerful functionality\n",
        "-   You can import an entire library (`import foo`) or part\n",
        "    (`from foo import bar`)\n",
        "-   You can define a nickname, which you will use to call functions of\n",
        "    these libraries (many libraries have “conventional” nicknames)\n",
        "\n",
        "`pandas` is a popular Python library for working with data. It is\n",
        "conventionally imported with the `pd` nickname."
      ]
    },
    {
      "cell_type": "code",
      "execution_count": 1,
      "id": "XrFqEsj3-pTr",
      "metadata": {
        "id": "XrFqEsj3-pTr"
      },
      "outputs": [],
      "source": [
        "import pandas as pd\n",
        "import matplotlib.pyplot as plt\n",
        "import seaborn as sns\n",
        "\n",
        "# set up notebook to show all outputs, not only last one\n",
        "from IPython.core.interactiveshell import InteractiveShell\n",
        "InteractiveShell.ast_node_interactivity = \"all\""
      ]
    },
    {
      "cell_type": "markdown",
      "id": "IE9SS-Lv-pTs",
      "metadata": {
        "id": "IE9SS-Lv-pTs"
      },
      "source": [
        "Now we are ready to read in our data!\n",
        "\n",
        "The main type of data structure in `pandas` is a `DataFrame`, which\n",
        "organizes data into a 2D table, like a spreadsheet. Unlike a `numpy`\n",
        "array, however, each column in a `DataFrame` can have different data\n",
        "types - for example, you can have a string column, an integer column,\n",
        "and a float column all in the same `DataFrame`.\n",
        "\n",
        "(The other major type of data in `pandas` is a `Series`, which is like a\n",
        "1D array- any individual row or column from a `DataFrame` will be a\n",
        "`Series`.)"
      ]
    },
    {
      "cell_type": "markdown",
      "id": "YFa0wBi4-pTs",
      "metadata": {
        "id": "YFa0wBi4-pTs"
      },
      "source": [
        "You *can* create a `DataFrame` or a `Series` “by hand” - for example,\n",
        "try\n",
        "\n",
        "``` python\n",
        "pd.Series([1,2,3,99])\n",
        "```\n",
        "\n",
        "or\n",
        "\n",
        "``` python\n",
        "pd.DataFrame({'fruit': ['apple', 'banana', 'kiwi'], 'cost': [0.55, 0.99, 1.24]})\n",
        "```"
      ]
    },
    {
      "cell_type": "markdown",
      "id": "qWxfaEqO-pTt",
      "metadata": {
        "id": "qWxfaEqO-pTt"
      },
      "source": [
        "But usually, we’ll read in data from a file.\n",
        "\n",
        "Our data for this Brooklyn Bridge example is in CSV format, so will use\n",
        "the `read_csv` function in `pandas` to read in our data. This function\n",
        "accepts a URL or a path to a file, and will return our data as a\n",
        "`DataFrame`.\n",
        "\n",
        "Function documentation: [pandas\n",
        "reference](https://pandas.pydata.org/pandas-docs/stable/reference/api/pandas.read_csv.html)\n",
        "\n",
        "``` python\n",
        "pandas.read_csv(filepath_or_buffer,\n",
        "    sep=',', header='infer',\n",
        "    names=None,\n",
        "    ...)\n",
        "```\n",
        "\n",
        "`read_csv` is for “flat” text files, where each data point is on another\n",
        "row, and the fields in a row are separated by some delimiter\n",
        "(e.g. comma). Other pandas functions exist for loading other kinds of\n",
        "data (read from database, Excel file, etc.)"
      ]
    },
    {
      "cell_type": "code",
      "execution_count": 2,
      "id": "WpLh8_-t-pTt",
      "metadata": {
        "id": "WpLh8_-t-pTt"
      },
      "outputs": [],
      "source": [
        "url = 'https://data.cityofnewyork.us/api/views/6fi9-q3ta/rows.csv?accessType=DOWNLOAD'\n",
        "df = pd.read_csv(url)"
      ]
    },
    {
      "cell_type": "markdown",
      "id": "g1SACvP5-pTt",
      "metadata": {
        "id": "g1SACvP5-pTt"
      },
      "source": [
        "We will want to verify that the data was loaded correctly. For *tabular*\n",
        "data, we can start by looking at the first few rows of data or the last\n",
        "few rows of data with the `head` and `tail` functions, respectively.\n",
        "(For data that is not tabular, such as image, text, or audio data, we\n",
        "would similarly start by looking at some samples.)"
      ]
    },
    {
      "cell_type": "code",
      "execution_count": 3,
      "id": "40u1AP6p-pTt",
      "metadata": {
        "id": "40u1AP6p-pTt"
      },
      "outputs": [
        {
          "data": {
            "text/html": [
              "<div>\n",
              "<style scoped>\n",
              "    .dataframe tbody tr th:only-of-type {\n",
              "        vertical-align: middle;\n",
              "    }\n",
              "\n",
              "    .dataframe tbody tr th {\n",
              "        vertical-align: top;\n",
              "    }\n",
              "\n",
              "    .dataframe thead th {\n",
              "        text-align: right;\n",
              "    }\n",
              "</style>\n",
              "<table border=\"1\" class=\"dataframe\">\n",
              "  <thead>\n",
              "    <tr style=\"text-align: right;\">\n",
              "      <th></th>\n",
              "      <th>hour_beginning</th>\n",
              "      <th>location</th>\n",
              "      <th>Pedestrians</th>\n",
              "      <th>Towards Manhattan</th>\n",
              "      <th>Towards Brooklyn</th>\n",
              "      <th>weather_summary</th>\n",
              "      <th>temperature</th>\n",
              "      <th>precipitation</th>\n",
              "      <th>lat</th>\n",
              "      <th>long</th>\n",
              "      <th>events</th>\n",
              "      <th>Location1</th>\n",
              "    </tr>\n",
              "  </thead>\n",
              "  <tbody>\n",
              "    <tr>\n",
              "      <th>0</th>\n",
              "      <td>04/30/2019 12:00:00 AM</td>\n",
              "      <td>Brooklyn Bridge</td>\n",
              "      <td>3</td>\n",
              "      <td>3</td>\n",
              "      <td>0</td>\n",
              "      <td>NaN</td>\n",
              "      <td>NaN</td>\n",
              "      <td>NaN</td>\n",
              "      <td>40.708164</td>\n",
              "      <td>-73.999509</td>\n",
              "      <td>NaN</td>\n",
              "      <td>(40.7081639691088, -73.9995087014816)</td>\n",
              "    </tr>\n",
              "    <tr>\n",
              "      <th>1</th>\n",
              "      <td>12/31/2019 10:00:00 PM</td>\n",
              "      <td>Brooklyn Bridge</td>\n",
              "      <td>10</td>\n",
              "      <td>9</td>\n",
              "      <td>1</td>\n",
              "      <td>cloudy</td>\n",
              "      <td>42.0</td>\n",
              "      <td>0.0005</td>\n",
              "      <td>40.708164</td>\n",
              "      <td>-73.999509</td>\n",
              "      <td>NaN</td>\n",
              "      <td>(40.7081639691088, -73.9995087014816)</td>\n",
              "    </tr>\n",
              "    <tr>\n",
              "      <th>2</th>\n",
              "      <td>12/31/2019 11:00:00 PM</td>\n",
              "      <td>Brooklyn Bridge</td>\n",
              "      <td>2</td>\n",
              "      <td>0</td>\n",
              "      <td>2</td>\n",
              "      <td>cloudy</td>\n",
              "      <td>42.0</td>\n",
              "      <td>0.0004</td>\n",
              "      <td>40.708164</td>\n",
              "      <td>-73.999509</td>\n",
              "      <td>NaN</td>\n",
              "      <td>(40.7081639691088, -73.9995087014816)</td>\n",
              "    </tr>\n",
              "    <tr>\n",
              "      <th>3</th>\n",
              "      <td>12/31/2019 09:00:00 PM</td>\n",
              "      <td>Brooklyn Bridge</td>\n",
              "      <td>12</td>\n",
              "      <td>0</td>\n",
              "      <td>12</td>\n",
              "      <td>cloudy</td>\n",
              "      <td>42.0</td>\n",
              "      <td>0.0036</td>\n",
              "      <td>40.708164</td>\n",
              "      <td>-73.999509</td>\n",
              "      <td>NaN</td>\n",
              "      <td>(40.7081639691088, -73.9995087014816)</td>\n",
              "    </tr>\n",
              "    <tr>\n",
              "      <th>4</th>\n",
              "      <td>04/01/2019 03:00:00 AM</td>\n",
              "      <td>Brooklyn Bridge</td>\n",
              "      <td>1</td>\n",
              "      <td>0</td>\n",
              "      <td>1</td>\n",
              "      <td>clear-night</td>\n",
              "      <td>36.0</td>\n",
              "      <td>0.0000</td>\n",
              "      <td>40.708164</td>\n",
              "      <td>-73.999509</td>\n",
              "      <td>NaN</td>\n",
              "      <td>(40.7081639691088, -73.9995087014816)</td>\n",
              "    </tr>\n",
              "  </tbody>\n",
              "</table>\n",
              "</div>"
            ],
            "text/plain": [
              "           hour_beginning         location  Pedestrians  Towards Manhattan  \\\n",
              "0  04/30/2019 12:00:00 AM  Brooklyn Bridge            3                  3   \n",
              "1  12/31/2019 10:00:00 PM  Brooklyn Bridge           10                  9   \n",
              "2  12/31/2019 11:00:00 PM  Brooklyn Bridge            2                  0   \n",
              "3  12/31/2019 09:00:00 PM  Brooklyn Bridge           12                  0   \n",
              "4  04/01/2019 03:00:00 AM  Brooklyn Bridge            1                  0   \n",
              "\n",
              "   Towards Brooklyn weather_summary  temperature  precipitation        lat  \\\n",
              "0                 0             NaN          NaN            NaN  40.708164   \n",
              "1                 1          cloudy         42.0         0.0005  40.708164   \n",
              "2                 2          cloudy         42.0         0.0004  40.708164   \n",
              "3                12          cloudy         42.0         0.0036  40.708164   \n",
              "4                 1     clear-night         36.0         0.0000  40.708164   \n",
              "\n",
              "        long events                              Location1  \n",
              "0 -73.999509    NaN  (40.7081639691088, -73.9995087014816)  \n",
              "1 -73.999509    NaN  (40.7081639691088, -73.9995087014816)  \n",
              "2 -73.999509    NaN  (40.7081639691088, -73.9995087014816)  \n",
              "3 -73.999509    NaN  (40.7081639691088, -73.9995087014816)  \n",
              "4 -73.999509    NaN  (40.7081639691088, -73.9995087014816)  "
            ]
          },
          "execution_count": 3,
          "metadata": {},
          "output_type": "execute_result"
        }
      ],
      "source": [
        "df.head()"
      ]
    },
    {
      "cell_type": "code",
      "execution_count": 4,
      "id": "nZwpLiaW-pTt",
      "metadata": {
        "id": "nZwpLiaW-pTt"
      },
      "outputs": [
        {
          "data": {
            "text/html": [
              "<div>\n",
              "<style scoped>\n",
              "    .dataframe tbody tr th:only-of-type {\n",
              "        vertical-align: middle;\n",
              "    }\n",
              "\n",
              "    .dataframe tbody tr th {\n",
              "        vertical-align: top;\n",
              "    }\n",
              "\n",
              "    .dataframe thead th {\n",
              "        text-align: right;\n",
              "    }\n",
              "</style>\n",
              "<table border=\"1\" class=\"dataframe\">\n",
              "  <thead>\n",
              "    <tr style=\"text-align: right;\">\n",
              "      <th></th>\n",
              "      <th>hour_beginning</th>\n",
              "      <th>location</th>\n",
              "      <th>Pedestrians</th>\n",
              "      <th>Towards Manhattan</th>\n",
              "      <th>Towards Brooklyn</th>\n",
              "      <th>weather_summary</th>\n",
              "      <th>temperature</th>\n",
              "      <th>precipitation</th>\n",
              "      <th>lat</th>\n",
              "      <th>long</th>\n",
              "      <th>events</th>\n",
              "      <th>Location1</th>\n",
              "    </tr>\n",
              "  </thead>\n",
              "  <tbody>\n",
              "    <tr>\n",
              "      <th>16052</th>\n",
              "      <td>06/22/2018 04:00:00 AM</td>\n",
              "      <td>Brooklyn Bridge</td>\n",
              "      <td>7</td>\n",
              "      <td>4</td>\n",
              "      <td>3</td>\n",
              "      <td>partly-cloudy-night</td>\n",
              "      <td>67.0</td>\n",
              "      <td>0.0000</td>\n",
              "      <td>40.708164</td>\n",
              "      <td>-73.999509</td>\n",
              "      <td>NaN</td>\n",
              "      <td>(40.7081639691088, -73.9995087014816)</td>\n",
              "    </tr>\n",
              "    <tr>\n",
              "      <th>16053</th>\n",
              "      <td>07/19/2018 06:00:00 AM</td>\n",
              "      <td>Brooklyn Bridge</td>\n",
              "      <td>192</td>\n",
              "      <td>89</td>\n",
              "      <td>103</td>\n",
              "      <td>clear-day</td>\n",
              "      <td>65.0</td>\n",
              "      <td>0.0000</td>\n",
              "      <td>40.708164</td>\n",
              "      <td>-73.999509</td>\n",
              "      <td>NaN</td>\n",
              "      <td>(40.7081639691088, -73.9995087014816)</td>\n",
              "    </tr>\n",
              "    <tr>\n",
              "      <th>16054</th>\n",
              "      <td>06/16/2018 04:00:00 PM</td>\n",
              "      <td>Brooklyn Bridge</td>\n",
              "      <td>2623</td>\n",
              "      <td>1161</td>\n",
              "      <td>1462</td>\n",
              "      <td>clear-day</td>\n",
              "      <td>82.0</td>\n",
              "      <td>0.0000</td>\n",
              "      <td>40.708164</td>\n",
              "      <td>-73.999509</td>\n",
              "      <td>NaN</td>\n",
              "      <td>(40.7081639691088, -73.9995087014816)</td>\n",
              "    </tr>\n",
              "    <tr>\n",
              "      <th>16055</th>\n",
              "      <td>07/24/2018 06:00:00 PM</td>\n",
              "      <td>Brooklyn Bridge</td>\n",
              "      <td>2016</td>\n",
              "      <td>1069</td>\n",
              "      <td>947</td>\n",
              "      <td>partly-cloudy-day</td>\n",
              "      <td>80.0</td>\n",
              "      <td>0.0000</td>\n",
              "      <td>40.708164</td>\n",
              "      <td>-73.999509</td>\n",
              "      <td>NaN</td>\n",
              "      <td>(40.7081639691088, -73.9995087014816)</td>\n",
              "    </tr>\n",
              "    <tr>\n",
              "      <th>16056</th>\n",
              "      <td>07/23/2018 12:00:00 AM</td>\n",
              "      <td>Brooklyn Bridge</td>\n",
              "      <td>57</td>\n",
              "      <td>20</td>\n",
              "      <td>37</td>\n",
              "      <td>cloudy</td>\n",
              "      <td>75.0</td>\n",
              "      <td>0.0103</td>\n",
              "      <td>40.708164</td>\n",
              "      <td>-73.999509</td>\n",
              "      <td>NaN</td>\n",
              "      <td>(40.7081639691088, -73.9995087014816)</td>\n",
              "    </tr>\n",
              "  </tbody>\n",
              "</table>\n",
              "</div>"
            ],
            "text/plain": [
              "               hour_beginning         location  Pedestrians  \\\n",
              "16052  06/22/2018 04:00:00 AM  Brooklyn Bridge            7   \n",
              "16053  07/19/2018 06:00:00 AM  Brooklyn Bridge          192   \n",
              "16054  06/16/2018 04:00:00 PM  Brooklyn Bridge         2623   \n",
              "16055  07/24/2018 06:00:00 PM  Brooklyn Bridge         2016   \n",
              "16056  07/23/2018 12:00:00 AM  Brooklyn Bridge           57   \n",
              "\n",
              "       Towards Manhattan  Towards Brooklyn      weather_summary  temperature  \\\n",
              "16052                  4                 3  partly-cloudy-night         67.0   \n",
              "16053                 89               103            clear-day         65.0   \n",
              "16054               1161              1462            clear-day         82.0   \n",
              "16055               1069               947    partly-cloudy-day         80.0   \n",
              "16056                 20                37               cloudy         75.0   \n",
              "\n",
              "       precipitation        lat       long events  \\\n",
              "16052         0.0000  40.708164 -73.999509    NaN   \n",
              "16053         0.0000  40.708164 -73.999509    NaN   \n",
              "16054         0.0000  40.708164 -73.999509    NaN   \n",
              "16055         0.0000  40.708164 -73.999509    NaN   \n",
              "16056         0.0103  40.708164 -73.999509    NaN   \n",
              "\n",
              "                                   Location1  \n",
              "16052  (40.7081639691088, -73.9995087014816)  \n",
              "16053  (40.7081639691088, -73.9995087014816)  \n",
              "16054  (40.7081639691088, -73.9995087014816)  \n",
              "16055  (40.7081639691088, -73.9995087014816)  \n",
              "16056  (40.7081639691088, -73.9995087014816)  "
            ]
          },
          "execution_count": 4,
          "metadata": {},
          "output_type": "execute_result"
        }
      ],
      "source": [
        "df.tail()"
      ]
    },
    {
      "cell_type": "markdown",
      "id": "U0nGgUqF-pTt",
      "metadata": {
        "id": "U0nGgUqF-pTt"
      },
      "source": [
        "We can also get a few random rows:"
      ]
    },
    {
      "cell_type": "code",
      "execution_count": 7,
      "id": "OT6LiUnK-pTu",
      "metadata": {
        "id": "OT6LiUnK-pTu"
      },
      "outputs": [
        {
          "data": {
            "text/html": [
              "<div>\n",
              "<style scoped>\n",
              "    .dataframe tbody tr th:only-of-type {\n",
              "        vertical-align: middle;\n",
              "    }\n",
              "\n",
              "    .dataframe tbody tr th {\n",
              "        vertical-align: top;\n",
              "    }\n",
              "\n",
              "    .dataframe thead th {\n",
              "        text-align: right;\n",
              "    }\n",
              "</style>\n",
              "<table border=\"1\" class=\"dataframe\">\n",
              "  <thead>\n",
              "    <tr style=\"text-align: right;\">\n",
              "      <th></th>\n",
              "      <th>hour_beginning</th>\n",
              "      <th>location</th>\n",
              "      <th>Pedestrians</th>\n",
              "      <th>Towards Manhattan</th>\n",
              "      <th>Towards Brooklyn</th>\n",
              "      <th>weather_summary</th>\n",
              "      <th>temperature</th>\n",
              "      <th>precipitation</th>\n",
              "      <th>lat</th>\n",
              "      <th>long</th>\n",
              "      <th>events</th>\n",
              "      <th>Location1</th>\n",
              "    </tr>\n",
              "  </thead>\n",
              "  <tbody>\n",
              "    <tr>\n",
              "      <th>15585</th>\n",
              "      <td>06/22/2018 11:00:00 PM</td>\n",
              "      <td>Brooklyn Bridge</td>\n",
              "      <td>103</td>\n",
              "      <td>52</td>\n",
              "      <td>51</td>\n",
              "      <td>cloudy</td>\n",
              "      <td>66.0</td>\n",
              "      <td>0.0011</td>\n",
              "      <td>40.708164</td>\n",
              "      <td>-73.999509</td>\n",
              "      <td>NaN</td>\n",
              "      <td>(40.7081639691088, -73.9995087014816)</td>\n",
              "    </tr>\n",
              "    <tr>\n",
              "      <th>514</th>\n",
              "      <td>07/12/2019 06:00:00 AM</td>\n",
              "      <td>Brooklyn Bridge</td>\n",
              "      <td>167</td>\n",
              "      <td>63</td>\n",
              "      <td>104</td>\n",
              "      <td>partly-cloudy-day</td>\n",
              "      <td>72.0</td>\n",
              "      <td>0.0000</td>\n",
              "      <td>40.708164</td>\n",
              "      <td>-73.999509</td>\n",
              "      <td>NaN</td>\n",
              "      <td>(40.7081639691088, -73.9995087014816)</td>\n",
              "    </tr>\n",
              "    <tr>\n",
              "      <th>2296</th>\n",
              "      <td>07/06/2019 04:00:00 PM</td>\n",
              "      <td>Brooklyn Bridge</td>\n",
              "      <td>2631</td>\n",
              "      <td>1137</td>\n",
              "      <td>1494</td>\n",
              "      <td>partly-cloudy-day</td>\n",
              "      <td>81.0</td>\n",
              "      <td>0.0480</td>\n",
              "      <td>40.708164</td>\n",
              "      <td>-73.999509</td>\n",
              "      <td>NaN</td>\n",
              "      <td>(40.7081639691088, -73.9995087014816)</td>\n",
              "    </tr>\n",
              "    <tr>\n",
              "      <th>9840</th>\n",
              "      <td>10/17/2017 07:00:00 PM</td>\n",
              "      <td>Brooklyn Bridge</td>\n",
              "      <td>490</td>\n",
              "      <td>197</td>\n",
              "      <td>293</td>\n",
              "      <td>clear-night</td>\n",
              "      <td>54.0</td>\n",
              "      <td>0.0000</td>\n",
              "      <td>40.708164</td>\n",
              "      <td>-73.999509</td>\n",
              "      <td>NaN</td>\n",
              "      <td>(40.7081639691088, -73.9995087014816)</td>\n",
              "    </tr>\n",
              "    <tr>\n",
              "      <th>8173</th>\n",
              "      <td>04/17/2019 05:00:00 AM</td>\n",
              "      <td>Brooklyn Bridge</td>\n",
              "      <td>1</td>\n",
              "      <td>0</td>\n",
              "      <td>1</td>\n",
              "      <td>cloudy</td>\n",
              "      <td>48.0</td>\n",
              "      <td>0.0008</td>\n",
              "      <td>40.708164</td>\n",
              "      <td>-73.999509</td>\n",
              "      <td>NaN</td>\n",
              "      <td>(40.7081639691088, -73.9995087014816)</td>\n",
              "    </tr>\n",
              "  </tbody>\n",
              "</table>\n",
              "</div>"
            ],
            "text/plain": [
              "               hour_beginning         location  Pedestrians  \\\n",
              "15585  06/22/2018 11:00:00 PM  Brooklyn Bridge          103   \n",
              "514    07/12/2019 06:00:00 AM  Brooklyn Bridge          167   \n",
              "2296   07/06/2019 04:00:00 PM  Brooklyn Bridge         2631   \n",
              "9840   10/17/2017 07:00:00 PM  Brooklyn Bridge          490   \n",
              "8173   04/17/2019 05:00:00 AM  Brooklyn Bridge            1   \n",
              "\n",
              "       Towards Manhattan  Towards Brooklyn    weather_summary  temperature  \\\n",
              "15585                 52                51             cloudy         66.0   \n",
              "514                   63               104  partly-cloudy-day         72.0   \n",
              "2296                1137              1494  partly-cloudy-day         81.0   \n",
              "9840                 197               293        clear-night         54.0   \n",
              "8173                   0                 1             cloudy         48.0   \n",
              "\n",
              "       precipitation        lat       long events  \\\n",
              "15585         0.0011  40.708164 -73.999509    NaN   \n",
              "514           0.0000  40.708164 -73.999509    NaN   \n",
              "2296          0.0480  40.708164 -73.999509    NaN   \n",
              "9840          0.0000  40.708164 -73.999509    NaN   \n",
              "8173          0.0008  40.708164 -73.999509    NaN   \n",
              "\n",
              "                                   Location1  \n",
              "15585  (40.7081639691088, -73.9995087014816)  \n",
              "514    (40.7081639691088, -73.9995087014816)  \n",
              "2296   (40.7081639691088, -73.9995087014816)  \n",
              "9840   (40.7081639691088, -73.9995087014816)  \n",
              "8173   (40.7081639691088, -73.9995087014816)  "
            ]
          },
          "execution_count": 7,
          "metadata": {},
          "output_type": "execute_result"
        }
      ],
      "source": [
        "df.sample(5)"
      ]
    },
    {
      "cell_type": "markdown",
      "id": "6YqwRlxw-pTu",
      "metadata": {
        "id": "6YqwRlxw-pTu"
      },
      "source": [
        "Looking at some rows can help us spot obvious problems with data\n",
        "loading. For example, suppose we had tried to read in the data using a\n",
        "tab delimiter to separate fields on the same row, instead of a comma."
      ]
    },
    {
      "cell_type": "code",
      "execution_count": 8,
      "id": "k7m6PE0t-pTu",
      "metadata": {
        "id": "k7m6PE0t-pTu"
      },
      "outputs": [
        {
          "data": {
            "text/html": [
              "<div>\n",
              "<style scoped>\n",
              "    .dataframe tbody tr th:only-of-type {\n",
              "        vertical-align: middle;\n",
              "    }\n",
              "\n",
              "    .dataframe tbody tr th {\n",
              "        vertical-align: top;\n",
              "    }\n",
              "\n",
              "    .dataframe thead th {\n",
              "        text-align: right;\n",
              "    }\n",
              "</style>\n",
              "<table border=\"1\" class=\"dataframe\">\n",
              "  <thead>\n",
              "    <tr style=\"text-align: right;\">\n",
              "      <th></th>\n",
              "      <th>hour_beginning,location,Pedestrians,Towards Manhattan,Towards Brooklyn,weather_summary,temperature,precipitation,lat,long,events,Location1</th>\n",
              "    </tr>\n",
              "  </thead>\n",
              "  <tbody>\n",
              "    <tr>\n",
              "      <th>0</th>\n",
              "      <td>04/30/2019 12:00:00 AM,Brooklyn Bridge,3,3,0,,...</td>\n",
              "    </tr>\n",
              "    <tr>\n",
              "      <th>1</th>\n",
              "      <td>12/31/2019 10:00:00 PM,Brooklyn Bridge,10,9,1,...</td>\n",
              "    </tr>\n",
              "    <tr>\n",
              "      <th>2</th>\n",
              "      <td>12/31/2019 11:00:00 PM,Brooklyn Bridge,2,0,2,c...</td>\n",
              "    </tr>\n",
              "    <tr>\n",
              "      <th>3</th>\n",
              "      <td>12/31/2019 09:00:00 PM,Brooklyn Bridge,12,0,12...</td>\n",
              "    </tr>\n",
              "    <tr>\n",
              "      <th>4</th>\n",
              "      <td>04/01/2019 03:00:00 AM,Brooklyn Bridge,1,0,1,c...</td>\n",
              "    </tr>\n",
              "  </tbody>\n",
              "</table>\n",
              "</div>"
            ],
            "text/plain": [
              "  hour_beginning,location,Pedestrians,Towards Manhattan,Towards Brooklyn,weather_summary,temperature,precipitation,lat,long,events,Location1\n",
              "0  04/30/2019 12:00:00 AM,Brooklyn Bridge,3,3,0,,...                                                                                        \n",
              "1  12/31/2019 10:00:00 PM,Brooklyn Bridge,10,9,1,...                                                                                        \n",
              "2  12/31/2019 11:00:00 PM,Brooklyn Bridge,2,0,2,c...                                                                                        \n",
              "3  12/31/2019 09:00:00 PM,Brooklyn Bridge,12,0,12...                                                                                        \n",
              "4  04/01/2019 03:00:00 AM,Brooklyn Bridge,1,0,1,c...                                                                                        "
            ]
          },
          "execution_count": 8,
          "metadata": {},
          "output_type": "execute_result"
        }
      ],
      "source": [
        "df_bad  = pd.read_csv(url, sep='\\t')\n",
        "df_bad.head()"
      ]
    },
    {
      "cell_type": "markdown",
      "id": "7lnguspA-pTu",
      "metadata": {
        "id": "7lnguspA-pTu"
      },
      "source": [
        "This “bad” version of the `DataFrame` has only a single column (because\n",
        "it believes tabs are used to separate fields in the same row, when\n",
        "actually commas are used). The variable names are combined together into\n",
        "one long column name. By looking at the first few rows of data, we can\n",
        "spot this obvious error.\n",
        "\n",
        "Here is another example of a “bad” `DataFrame`. Suppose we tell\n",
        "`read_csv` that the data file itself does not have a header row at the\n",
        "top, with column names in it; instead, we supply column names ourselves."
      ]
    },
    {
      "cell_type": "code",
      "execution_count": 9,
      "id": "HYHMsCWy-pTv",
      "metadata": {
        "id": "HYHMsCWy-pTv"
      },
      "outputs": [
        {
          "data": {
            "text/html": [
              "<div>\n",
              "<style scoped>\n",
              "    .dataframe tbody tr th:only-of-type {\n",
              "        vertical-align: middle;\n",
              "    }\n",
              "\n",
              "    .dataframe tbody tr th {\n",
              "        vertical-align: top;\n",
              "    }\n",
              "\n",
              "    .dataframe thead th {\n",
              "        text-align: right;\n",
              "    }\n",
              "</style>\n",
              "<table border=\"1\" class=\"dataframe\">\n",
              "  <thead>\n",
              "    <tr style=\"text-align: right;\">\n",
              "      <th></th>\n",
              "      <th>hour_beginning</th>\n",
              "      <th>location</th>\n",
              "      <th>Pedestrians</th>\n",
              "      <th>Towards Manhattan</th>\n",
              "      <th>Towards Brooklyn</th>\n",
              "      <th>weather_summary</th>\n",
              "      <th>temperature</th>\n",
              "      <th>precipitation</th>\n",
              "      <th>lat</th>\n",
              "      <th>long</th>\n",
              "      <th>events</th>\n",
              "      <th>Location1</th>\n",
              "    </tr>\n",
              "  </thead>\n",
              "  <tbody>\n",
              "    <tr>\n",
              "      <th>0</th>\n",
              "      <td>hour_beginning</td>\n",
              "      <td>location</td>\n",
              "      <td>Pedestrians</td>\n",
              "      <td>Towards Manhattan</td>\n",
              "      <td>Towards Brooklyn</td>\n",
              "      <td>weather_summary</td>\n",
              "      <td>temperature</td>\n",
              "      <td>precipitation</td>\n",
              "      <td>lat</td>\n",
              "      <td>long</td>\n",
              "      <td>events</td>\n",
              "      <td>Location1</td>\n",
              "    </tr>\n",
              "    <tr>\n",
              "      <th>1</th>\n",
              "      <td>04/30/2019 12:00:00 AM</td>\n",
              "      <td>Brooklyn Bridge</td>\n",
              "      <td>3</td>\n",
              "      <td>3</td>\n",
              "      <td>0</td>\n",
              "      <td>NaN</td>\n",
              "      <td>NaN</td>\n",
              "      <td>NaN</td>\n",
              "      <td>40.7081639691088</td>\n",
              "      <td>-73.9995087014816</td>\n",
              "      <td>NaN</td>\n",
              "      <td>(40.7081639691088, -73.9995087014816)</td>\n",
              "    </tr>\n",
              "    <tr>\n",
              "      <th>2</th>\n",
              "      <td>12/31/2019 10:00:00 PM</td>\n",
              "      <td>Brooklyn Bridge</td>\n",
              "      <td>10</td>\n",
              "      <td>9</td>\n",
              "      <td>1</td>\n",
              "      <td>cloudy</td>\n",
              "      <td>42</td>\n",
              "      <td>0.0005</td>\n",
              "      <td>40.7081639691088</td>\n",
              "      <td>-73.9995087014816</td>\n",
              "      <td>NaN</td>\n",
              "      <td>(40.7081639691088, -73.9995087014816)</td>\n",
              "    </tr>\n",
              "    <tr>\n",
              "      <th>3</th>\n",
              "      <td>12/31/2019 11:00:00 PM</td>\n",
              "      <td>Brooklyn Bridge</td>\n",
              "      <td>2</td>\n",
              "      <td>0</td>\n",
              "      <td>2</td>\n",
              "      <td>cloudy</td>\n",
              "      <td>42</td>\n",
              "      <td>0.0004</td>\n",
              "      <td>40.7081639691088</td>\n",
              "      <td>-73.9995087014816</td>\n",
              "      <td>NaN</td>\n",
              "      <td>(40.7081639691088, -73.9995087014816)</td>\n",
              "    </tr>\n",
              "    <tr>\n",
              "      <th>4</th>\n",
              "      <td>12/31/2019 09:00:00 PM</td>\n",
              "      <td>Brooklyn Bridge</td>\n",
              "      <td>12</td>\n",
              "      <td>0</td>\n",
              "      <td>12</td>\n",
              "      <td>cloudy</td>\n",
              "      <td>42</td>\n",
              "      <td>0.0036</td>\n",
              "      <td>40.7081639691088</td>\n",
              "      <td>-73.9995087014816</td>\n",
              "      <td>NaN</td>\n",
              "      <td>(40.7081639691088, -73.9995087014816)</td>\n",
              "    </tr>\n",
              "  </tbody>\n",
              "</table>\n",
              "</div>"
            ],
            "text/plain": [
              "           hour_beginning         location  Pedestrians  Towards Manhattan  \\\n",
              "0          hour_beginning         location  Pedestrians  Towards Manhattan   \n",
              "1  04/30/2019 12:00:00 AM  Brooklyn Bridge            3                  3   \n",
              "2  12/31/2019 10:00:00 PM  Brooklyn Bridge           10                  9   \n",
              "3  12/31/2019 11:00:00 PM  Brooklyn Bridge            2                  0   \n",
              "4  12/31/2019 09:00:00 PM  Brooklyn Bridge           12                  0   \n",
              "\n",
              "   Towards Brooklyn  weather_summary  temperature  precipitation  \\\n",
              "0  Towards Brooklyn  weather_summary  temperature  precipitation   \n",
              "1                 0              NaN          NaN            NaN   \n",
              "2                 1           cloudy           42         0.0005   \n",
              "3                 2           cloudy           42         0.0004   \n",
              "4                12           cloudy           42         0.0036   \n",
              "\n",
              "                lat               long  events  \\\n",
              "0               lat               long  events   \n",
              "1  40.7081639691088  -73.9995087014816     NaN   \n",
              "2  40.7081639691088  -73.9995087014816     NaN   \n",
              "3  40.7081639691088  -73.9995087014816     NaN   \n",
              "4  40.7081639691088  -73.9995087014816     NaN   \n",
              "\n",
              "                               Location1  \n",
              "0                              Location1  \n",
              "1  (40.7081639691088, -73.9995087014816)  \n",
              "2  (40.7081639691088, -73.9995087014816)  \n",
              "3  (40.7081639691088, -73.9995087014816)  \n",
              "4  (40.7081639691088, -73.9995087014816)  "
            ]
          },
          "execution_count": 9,
          "metadata": {},
          "output_type": "execute_result"
        }
      ],
      "source": [
        "col_names = [\"hour_beginning\", \"location\", \"Pedestrians\", \"Towards Manhattan\",\n",
        "    \"Towards Brooklyn\", \"weather_summary\", \"temperature\", \"precipitation\",\n",
        "    \"lat\", \"long\", \"events\", \"Location1\"]\n",
        "df_bad  = pd.read_csv(url, header=None, names=col_names)\n",
        "df_bad.head()"
      ]
    },
    {
      "cell_type": "markdown",
      "id": "8-KXzVu9-pTv",
      "metadata": {
        "id": "8-KXzVu9-pTv"
      },
      "source": [
        "In this example, the first row in the file *is* actually a column\n",
        "header, and we mistakenly read it in as data. (A similar problem can\n",
        "occur in reverse - if we told `read_csv` that the first row *is* a\n",
        "header when it is not, then our “column labels” would actually be the\n",
        "first row of data.)"
      ]
    },
    {
      "cell_type": "markdown",
      "id": "sIZ_2Rt5-pTv",
      "metadata": {
        "id": "sIZ_2Rt5-pTv"
      },
      "source": [
        "We should always check the shape of the data frame - the number of rows\n",
        "and columns. This, too, should be checked against our assumptions about\n",
        "the data (in this case, what we know from the NYC Data website.)"
      ]
    },
    {
      "cell_type": "code",
      "execution_count": 10,
      "id": "8ms3fgs6-pTv",
      "metadata": {
        "id": "8ms3fgs6-pTv"
      },
      "outputs": [
        {
          "data": {
            "text/plain": [
              "(16057, 12)"
            ]
          },
          "execution_count": 10,
          "metadata": {},
          "output_type": "execute_result"
        }
      ],
      "source": [
        "df.shape"
      ]
    },
    {
      "cell_type": "markdown",
      "id": "AyPWbFMA-pTw",
      "metadata": {
        "id": "AyPWbFMA-pTw"
      },
      "source": [
        "Check the names of the columns and their data types:"
      ]
    },
    {
      "cell_type": "code",
      "execution_count": 11,
      "id": "_dYWDSkz-pTw",
      "metadata": {
        "id": "_dYWDSkz-pTw"
      },
      "outputs": [
        {
          "data": {
            "text/plain": [
              "Index(['hour_beginning', 'location', 'Pedestrians', 'Towards Manhattan',\n",
              "       'Towards Brooklyn', 'weather_summary', 'temperature', 'precipitation',\n",
              "       'lat', 'long', 'events', 'Location1'],\n",
              "      dtype='object')"
            ]
          },
          "execution_count": 11,
          "metadata": {},
          "output_type": "execute_result"
        },
        {
          "data": {
            "text/plain": [
              "hour_beginning        object\n",
              "location              object\n",
              "Pedestrians            int64\n",
              "Towards Manhattan      int64\n",
              "Towards Brooklyn       int64\n",
              "weather_summary       object\n",
              "temperature          float64\n",
              "precipitation        float64\n",
              "lat                  float64\n",
              "long                 float64\n",
              "events                object\n",
              "Location1             object\n",
              "dtype: object"
            ]
          },
          "execution_count": 11,
          "metadata": {},
          "output_type": "execute_result"
        }
      ],
      "source": [
        "df.columns\n",
        "df.dtypes"
      ]
    },
    {
      "cell_type": "markdown",
      "id": "np8-zHjt-pTw",
      "metadata": {
        "id": "np8-zHjt-pTw"
      },
      "source": [
        "The main data types we’ll see most often are `int64` (integer),\n",
        "`float64` (numeric), `bool` (True or False), or `object` (which includes\n",
        "string)."
      ]
    },
    {
      "cell_type": "markdown",
      "id": "4OPTyVLu-pTw",
      "metadata": {
        "id": "4OPTyVLu-pTw"
      },
      "source": [
        "We can also get a quick summary with `info()`;"
      ]
    },
    {
      "cell_type": "code",
      "execution_count": 12,
      "id": "IBfQwEf6-pTw",
      "metadata": {
        "id": "IBfQwEf6-pTw"
      },
      "outputs": [
        {
          "name": "stdout",
          "output_type": "stream",
          "text": [
            "<class 'pandas.core.frame.DataFrame'>\n",
            "RangeIndex: 16057 entries, 0 to 16056\n",
            "Data columns (total 12 columns):\n",
            " #   Column             Non-Null Count  Dtype  \n",
            "---  ------             --------------  -----  \n",
            " 0   hour_beginning     16057 non-null  object \n",
            " 1   location           16057 non-null  object \n",
            " 2   Pedestrians        16057 non-null  int64  \n",
            " 3   Towards Manhattan  16057 non-null  int64  \n",
            " 4   Towards Brooklyn   16057 non-null  int64  \n",
            " 5   weather_summary    16041 non-null  object \n",
            " 6   temperature        16041 non-null  float64\n",
            " 7   precipitation      16041 non-null  float64\n",
            " 8   lat                16057 non-null  float64\n",
            " 9   long               16057 non-null  float64\n",
            " 10  events             1124 non-null   object \n",
            " 11  Location1          16057 non-null  object \n",
            "dtypes: float64(4), int64(3), object(5)\n",
            "memory usage: 1.5+ MB\n"
          ]
        }
      ],
      "source": [
        "df.info()"
      ]
    },
    {
      "cell_type": "markdown",
      "id": "NoyxS-71-pTx",
      "metadata": {
        "id": "NoyxS-71-pTx"
      },
      "source": [
        "`pandas` infers the data type of each column automatically from the\n",
        "contents of the data.\n",
        "\n",
        "If the data type of a column is not what you expect it to be, this can\n",
        "often be a signal that the data needs cleaning. For example, if you\n",
        "expect a column to be numeric and it is read in as non-numeric, this\n",
        "indicates that there are probably some samples that include a\n",
        "non-numeric value in that column. (The [NYC Data\n",
        "website](https://data.cityofnewyork.us/Transportation/Brooklyn-Bridge-Automated-Pedestrian-Counts-Demons/6fi9-q3ta)\n",
        "indicates what type of data *should* be in each column, so you should\n",
        "reference that when checking this output. )"
      ]
    },
    {
      "cell_type": "markdown",
      "id": "ffZNYbRl-pTx",
      "metadata": {
        "id": "ffZNYbRl-pTx"
      },
      "source": [
        "We have a date/time column (`hour_beginning`) that was read in as a\n",
        "string. Let’s take a closer look at that. We can get one column of data\n",
        "either using a notation like a dictionary, as in\n",
        "\n",
        "``` python\n",
        "df['hour_beginning']\n",
        "```\n",
        "\n",
        "or using class attribute-like notation, as in\n",
        "\n",
        "``` python\n",
        "df.hour_beginning\n",
        "```\n",
        "\n",
        "(either one returns exactly the same thing!) (Note that if the column\n",
        "name includes spaces, you can only use the notation with the brackets,\n",
        "since it encloses the column name in quotes.)"
      ]
    },
    {
      "cell_type": "markdown",
      "id": "va3EDRgr-pTx",
      "metadata": {
        "id": "va3EDRgr-pTx"
      },
      "source": [
        "`pandas` includes a `to_datetime` function to convert this string to a\n",
        "“native” date/time format, so we can use that now:"
      ]
    },
    {
      "cell_type": "code",
      "execution_count": 13,
      "id": "2pBH9nJy-pTx",
      "metadata": {
        "id": "2pBH9nJy-pTx"
      },
      "outputs": [
        {
          "name": "stderr",
          "output_type": "stream",
          "text": [
            "C:\\Users\\redcr\\AppData\\Local\\Temp\\ipykernel_19544\\3669267125.py:1: UserWarning: Could not infer format, so each element will be parsed individually, falling back to `dateutil`. To ensure parsing is consistent and as-expected, please specify a format.\n",
            "  df['hour_beginning'] = pd.to_datetime(df['hour_beginning'])\n"
          ]
        },
        {
          "name": "stdout",
          "output_type": "stream",
          "text": [
            "<class 'pandas.core.frame.DataFrame'>\n",
            "RangeIndex: 16057 entries, 0 to 16056\n",
            "Data columns (total 12 columns):\n",
            " #   Column             Non-Null Count  Dtype         \n",
            "---  ------             --------------  -----         \n",
            " 0   hour_beginning     16057 non-null  datetime64[ns]\n",
            " 1   location           16057 non-null  object        \n",
            " 2   Pedestrians        16057 non-null  int64         \n",
            " 3   Towards Manhattan  16057 non-null  int64         \n",
            " 4   Towards Brooklyn   16057 non-null  int64         \n",
            " 5   weather_summary    16041 non-null  object        \n",
            " 6   temperature        16041 non-null  float64       \n",
            " 7   precipitation      16041 non-null  float64       \n",
            " 8   lat                16057 non-null  float64       \n",
            " 9   long               16057 non-null  float64       \n",
            " 10  events             1124 non-null   object        \n",
            " 11  Location1          16057 non-null  object        \n",
            "dtypes: datetime64[ns](1), float64(4), int64(3), object(4)\n",
            "memory usage: 1.5+ MB\n"
          ]
        }
      ],
      "source": [
        "df['hour_beginning'] = pd.to_datetime(df['hour_beginning'])\n",
        "df.info()"
      ]
    },
    {
      "cell_type": "markdown",
      "id": "9OymsIBL-pTy",
      "metadata": {
        "id": "9OymsIBL-pTy"
      },
      "source": [
        "You may notice that the `hour_beginning` variable includes the full date\n",
        "and time in one field. For our analysis, it would be more useful to have\n",
        "separate fields for the date, month, day of the week, and hour.\n",
        "\n",
        "We can create these additional fields by assigning the desired value to\n",
        "them directly - then, observe the effect:"
      ]
    },
    {
      "cell_type": "code",
      "execution_count": 14,
      "id": "PzDO6oNf-pTy",
      "metadata": {
        "id": "PzDO6oNf-pTy"
      },
      "outputs": [
        {
          "data": {
            "text/html": [
              "<div>\n",
              "<style scoped>\n",
              "    .dataframe tbody tr th:only-of-type {\n",
              "        vertical-align: middle;\n",
              "    }\n",
              "\n",
              "    .dataframe tbody tr th {\n",
              "        vertical-align: top;\n",
              "    }\n",
              "\n",
              "    .dataframe thead th {\n",
              "        text-align: right;\n",
              "    }\n",
              "</style>\n",
              "<table border=\"1\" class=\"dataframe\">\n",
              "  <thead>\n",
              "    <tr style=\"text-align: right;\">\n",
              "      <th></th>\n",
              "      <th>hour_beginning</th>\n",
              "      <th>location</th>\n",
              "      <th>Pedestrians</th>\n",
              "      <th>Towards Manhattan</th>\n",
              "      <th>Towards Brooklyn</th>\n",
              "      <th>weather_summary</th>\n",
              "      <th>temperature</th>\n",
              "      <th>precipitation</th>\n",
              "      <th>lat</th>\n",
              "      <th>long</th>\n",
              "      <th>events</th>\n",
              "      <th>Location1</th>\n",
              "      <th>hour</th>\n",
              "      <th>month</th>\n",
              "      <th>date</th>\n",
              "      <th>day_name</th>\n",
              "    </tr>\n",
              "  </thead>\n",
              "  <tbody>\n",
              "    <tr>\n",
              "      <th>0</th>\n",
              "      <td>2019-04-30 00:00:00</td>\n",
              "      <td>Brooklyn Bridge</td>\n",
              "      <td>3</td>\n",
              "      <td>3</td>\n",
              "      <td>0</td>\n",
              "      <td>NaN</td>\n",
              "      <td>NaN</td>\n",
              "      <td>NaN</td>\n",
              "      <td>40.708164</td>\n",
              "      <td>-73.999509</td>\n",
              "      <td>NaN</td>\n",
              "      <td>(40.7081639691088, -73.9995087014816)</td>\n",
              "      <td>0</td>\n",
              "      <td>4</td>\n",
              "      <td>2019-04-30</td>\n",
              "      <td>Tuesday</td>\n",
              "    </tr>\n",
              "    <tr>\n",
              "      <th>1</th>\n",
              "      <td>2019-12-31 22:00:00</td>\n",
              "      <td>Brooklyn Bridge</td>\n",
              "      <td>10</td>\n",
              "      <td>9</td>\n",
              "      <td>1</td>\n",
              "      <td>cloudy</td>\n",
              "      <td>42.0</td>\n",
              "      <td>0.0005</td>\n",
              "      <td>40.708164</td>\n",
              "      <td>-73.999509</td>\n",
              "      <td>NaN</td>\n",
              "      <td>(40.7081639691088, -73.9995087014816)</td>\n",
              "      <td>22</td>\n",
              "      <td>12</td>\n",
              "      <td>2019-12-31</td>\n",
              "      <td>Tuesday</td>\n",
              "    </tr>\n",
              "    <tr>\n",
              "      <th>2</th>\n",
              "      <td>2019-12-31 23:00:00</td>\n",
              "      <td>Brooklyn Bridge</td>\n",
              "      <td>2</td>\n",
              "      <td>0</td>\n",
              "      <td>2</td>\n",
              "      <td>cloudy</td>\n",
              "      <td>42.0</td>\n",
              "      <td>0.0004</td>\n",
              "      <td>40.708164</td>\n",
              "      <td>-73.999509</td>\n",
              "      <td>NaN</td>\n",
              "      <td>(40.7081639691088, -73.9995087014816)</td>\n",
              "      <td>23</td>\n",
              "      <td>12</td>\n",
              "      <td>2019-12-31</td>\n",
              "      <td>Tuesday</td>\n",
              "    </tr>\n",
              "    <tr>\n",
              "      <th>3</th>\n",
              "      <td>2019-12-31 21:00:00</td>\n",
              "      <td>Brooklyn Bridge</td>\n",
              "      <td>12</td>\n",
              "      <td>0</td>\n",
              "      <td>12</td>\n",
              "      <td>cloudy</td>\n",
              "      <td>42.0</td>\n",
              "      <td>0.0036</td>\n",
              "      <td>40.708164</td>\n",
              "      <td>-73.999509</td>\n",
              "      <td>NaN</td>\n",
              "      <td>(40.7081639691088, -73.9995087014816)</td>\n",
              "      <td>21</td>\n",
              "      <td>12</td>\n",
              "      <td>2019-12-31</td>\n",
              "      <td>Tuesday</td>\n",
              "    </tr>\n",
              "    <tr>\n",
              "      <th>4</th>\n",
              "      <td>2019-04-01 03:00:00</td>\n",
              "      <td>Brooklyn Bridge</td>\n",
              "      <td>1</td>\n",
              "      <td>0</td>\n",
              "      <td>1</td>\n",
              "      <td>clear-night</td>\n",
              "      <td>36.0</td>\n",
              "      <td>0.0000</td>\n",
              "      <td>40.708164</td>\n",
              "      <td>-73.999509</td>\n",
              "      <td>NaN</td>\n",
              "      <td>(40.7081639691088, -73.9995087014816)</td>\n",
              "      <td>3</td>\n",
              "      <td>4</td>\n",
              "      <td>2019-04-01</td>\n",
              "      <td>Monday</td>\n",
              "    </tr>\n",
              "  </tbody>\n",
              "</table>\n",
              "</div>"
            ],
            "text/plain": [
              "       hour_beginning         location  Pedestrians  Towards Manhattan  \\\n",
              "0 2019-04-30 00:00:00  Brooklyn Bridge            3                  3   \n",
              "1 2019-12-31 22:00:00  Brooklyn Bridge           10                  9   \n",
              "2 2019-12-31 23:00:00  Brooklyn Bridge            2                  0   \n",
              "3 2019-12-31 21:00:00  Brooklyn Bridge           12                  0   \n",
              "4 2019-04-01 03:00:00  Brooklyn Bridge            1                  0   \n",
              "\n",
              "   Towards Brooklyn weather_summary  temperature  precipitation        lat  \\\n",
              "0                 0             NaN          NaN            NaN  40.708164   \n",
              "1                 1          cloudy         42.0         0.0005  40.708164   \n",
              "2                 2          cloudy         42.0         0.0004  40.708164   \n",
              "3                12          cloudy         42.0         0.0036  40.708164   \n",
              "4                 1     clear-night         36.0         0.0000  40.708164   \n",
              "\n",
              "        long events                              Location1  hour  month  \\\n",
              "0 -73.999509    NaN  (40.7081639691088, -73.9995087014816)     0      4   \n",
              "1 -73.999509    NaN  (40.7081639691088, -73.9995087014816)    22     12   \n",
              "2 -73.999509    NaN  (40.7081639691088, -73.9995087014816)    23     12   \n",
              "3 -73.999509    NaN  (40.7081639691088, -73.9995087014816)    21     12   \n",
              "4 -73.999509    NaN  (40.7081639691088, -73.9995087014816)     3      4   \n",
              "\n",
              "         date day_name  \n",
              "0  2019-04-30  Tuesday  \n",
              "1  2019-12-31  Tuesday  \n",
              "2  2019-12-31  Tuesday  \n",
              "3  2019-12-31  Tuesday  \n",
              "4  2019-04-01   Monday  "
            ]
          },
          "execution_count": 14,
          "metadata": {},
          "output_type": "execute_result"
        }
      ],
      "source": [
        "df['hour'] = df['hour_beginning'].dt.hour\n",
        "df['month'] = df['hour_beginning'].dt.month\n",
        "df['date'] = df['hour_beginning'].dt.date\n",
        "df['day_name'] = df['hour_beginning'].dt.day_name()\n",
        "\n",
        "df.head()"
      ]
    },
    {
      "cell_type": "markdown",
      "id": "AUCrS8ls-pTz",
      "metadata": {
        "id": "AUCrS8ls-pTz"
      },
      "source": [
        "### Inspect (and possibly clean/filter) the data\n",
        "\n",
        "Now we are ready to inspect the data.\n",
        "\n",
        "Some examples of the things we’ll look for include:\n",
        "\n",
        "-   Are there missing values? There may be rows *in* the data where some\n",
        "    or all fields are missing (which can be denoted as None, NaN, or\n",
        "    even 0 or -1 - which can be misleading when 0 or -1 are also valid\n",
        "    values for that field.) There may also be rows *not in* the data,\n",
        "    that we expect *should be* in the data.\n",
        "-   For numeric fields: Is the min and max of each field consistent with\n",
        "    our expectation? Is the median consistent with our expectation?\n",
        "-   For non-numeric fields: Are the number of unique values in each\n",
        "    field consistent with our expectations? Are the values of the factor\n",
        "    levels (where these can reasonably be assessed) described\n",
        "    consistently throughout the data?\n",
        "-   Are the relationships *between* variables consistent with our\n",
        "    expectations? (We can evaluate this visually, and also by looking at\n",
        "    summary statistics.)\n",
        "-   If the data is a time series, is the trend of each variable over\n",
        "    time consistent with our expectations?\n",
        "\n",
        "For many of these “sanity checks”, we will need some *domain knowledge*.\n",
        "It’s hard to have reasonable expectations about the values in the data\n",
        "if you do not understand the topic that the data relates to."
      ]
    },
    {
      "cell_type": "markdown",
      "id": "CuJC5Ryd-pTz",
      "metadata": {
        "id": "CuJC5Ryd-pTz"
      },
      "source": [
        "#### Check whether data is complete"
      ]
    },
    {
      "cell_type": "markdown",
      "id": "N_M-WiRm-pTz",
      "metadata": {
        "id": "N_M-WiRm-pTz"
      },
      "source": [
        "Let us start by checking whether the data is complete. First, we’ll\n",
        "check whether there are any rows in the data where some or all fields\n",
        "are missing.\n",
        "\n",
        "We can see the number of missing values in each column by summing up all\n",
        "the instances where the `isnull` function returns a True value:"
      ]
    },
    {
      "cell_type": "code",
      "execution_count": 15,
      "id": "wKkEeMUf-pTz",
      "metadata": {
        "id": "wKkEeMUf-pTz"
      },
      "outputs": [
        {
          "data": {
            "text/plain": [
              "hour_beginning           0\n",
              "location                 0\n",
              "Pedestrians              0\n",
              "Towards Manhattan        0\n",
              "Towards Brooklyn         0\n",
              "weather_summary         16\n",
              "temperature             16\n",
              "precipitation           16\n",
              "lat                      0\n",
              "long                     0\n",
              "events               14933\n",
              "Location1                0\n",
              "hour                     0\n",
              "month                    0\n",
              "date                     0\n",
              "day_name                 0\n",
              "dtype: int64"
            ]
          },
          "execution_count": 15,
          "metadata": {},
          "output_type": "execute_result"
        }
      ],
      "source": [
        "df.isnull().sum()"
      ]
    },
    {
      "cell_type": "markdown",
      "id": "9PdA03Ul-pTz",
      "metadata": {
        "id": "9PdA03Ul-pTz"
      },
      "source": [
        "(Note that this only tells us about missing values that are explicitly\n",
        "denoted as such - for example, explicit `NaN` values. If a missing value\n",
        "is coded as something else - like a 0 or -1 - we wouldn’t know unless we\n",
        "noticed an unusually high frequency of 0 or -1 values.)"
      ]
    },
    {
      "cell_type": "markdown",
      "id": "bRkEM4M5-pT0",
      "metadata": {
        "id": "bRkEM4M5-pT0"
      },
      "source": [
        "We notice that the majority of rows are missing a value in the `events`\n",
        "field, which is used to mark dates that are holidays or other special\n",
        "events. This is reasonable, since most dates do not have any remarkable\n",
        "events.\n",
        "\n",
        "Let’s look at the rows that *do* have a value in the `events` field. To\n",
        "filter a dataframe, we’ll use the `.loc[]` operator. This accepts either\n",
        "an index (for example, we can do `df.loc[0]` to see the first record in\n",
        "the dataframe), an array of indices (for example, `df.loc[[0,1,2]]`), or\n",
        "an array of boolean values the length of the entire dataframe. That’s\n",
        "what we’ll use here."
      ]
    },
    {
      "cell_type": "code",
      "execution_count": 16,
      "id": "eGyyPbDV-pT0",
      "metadata": {
        "id": "eGyyPbDV-pT0"
      },
      "outputs": [
        {
          "data": {
            "text/html": [
              "<div>\n",
              "<style scoped>\n",
              "    .dataframe tbody tr th:only-of-type {\n",
              "        vertical-align: middle;\n",
              "    }\n",
              "\n",
              "    .dataframe tbody tr th {\n",
              "        vertical-align: top;\n",
              "    }\n",
              "\n",
              "    .dataframe thead th {\n",
              "        text-align: right;\n",
              "    }\n",
              "</style>\n",
              "<table border=\"1\" class=\"dataframe\">\n",
              "  <thead>\n",
              "    <tr style=\"text-align: right;\">\n",
              "      <th></th>\n",
              "      <th>hour_beginning</th>\n",
              "      <th>location</th>\n",
              "      <th>Pedestrians</th>\n",
              "      <th>Towards Manhattan</th>\n",
              "      <th>Towards Brooklyn</th>\n",
              "      <th>weather_summary</th>\n",
              "      <th>temperature</th>\n",
              "      <th>precipitation</th>\n",
              "      <th>lat</th>\n",
              "      <th>long</th>\n",
              "      <th>events</th>\n",
              "      <th>Location1</th>\n",
              "      <th>hour</th>\n",
              "      <th>month</th>\n",
              "      <th>date</th>\n",
              "      <th>day_name</th>\n",
              "    </tr>\n",
              "  </thead>\n",
              "  <tbody>\n",
              "    <tr>\n",
              "      <th>5</th>\n",
              "      <td>2019-12-25 14:00:00</td>\n",
              "      <td>Brooklyn Bridge</td>\n",
              "      <td>3171</td>\n",
              "      <td>1685</td>\n",
              "      <td>1486</td>\n",
              "      <td>clear-day</td>\n",
              "      <td>44.0</td>\n",
              "      <td>0.0000</td>\n",
              "      <td>40.708164</td>\n",
              "      <td>-73.999509</td>\n",
              "      <td>Christmas Day</td>\n",
              "      <td>(40.7081639691088, -73.9995087014816)</td>\n",
              "      <td>14</td>\n",
              "      <td>12</td>\n",
              "      <td>2019-12-25</td>\n",
              "      <td>Wednesday</td>\n",
              "    </tr>\n",
              "    <tr>\n",
              "      <th>65</th>\n",
              "      <td>2019-10-31 00:00:00</td>\n",
              "      <td>Brooklyn Bridge</td>\n",
              "      <td>13</td>\n",
              "      <td>11</td>\n",
              "      <td>2</td>\n",
              "      <td>cloudy</td>\n",
              "      <td>61.0</td>\n",
              "      <td>0.0000</td>\n",
              "      <td>40.708164</td>\n",
              "      <td>-73.999509</td>\n",
              "      <td>Halloween</td>\n",
              "      <td>(40.7081639691088, -73.9995087014816)</td>\n",
              "      <td>0</td>\n",
              "      <td>10</td>\n",
              "      <td>2019-10-31</td>\n",
              "      <td>Thursday</td>\n",
              "    </tr>\n",
              "    <tr>\n",
              "      <th>76</th>\n",
              "      <td>2019-03-17 23:00:00</td>\n",
              "      <td>Brooklyn Bridge</td>\n",
              "      <td>1</td>\n",
              "      <td>0</td>\n",
              "      <td>1</td>\n",
              "      <td>clear-night</td>\n",
              "      <td>37.0</td>\n",
              "      <td>0.0000</td>\n",
              "      <td>40.708164</td>\n",
              "      <td>-73.999509</td>\n",
              "      <td>St. Patrick's Day</td>\n",
              "      <td>(40.7081639691088, -73.9995087014816)</td>\n",
              "      <td>23</td>\n",
              "      <td>3</td>\n",
              "      <td>2019-03-17</td>\n",
              "      <td>Sunday</td>\n",
              "    </tr>\n",
              "    <tr>\n",
              "      <th>78</th>\n",
              "      <td>2019-02-18 16:00:00</td>\n",
              "      <td>Brooklyn Bridge</td>\n",
              "      <td>1439</td>\n",
              "      <td>622</td>\n",
              "      <td>817</td>\n",
              "      <td>partly-cloudy-day</td>\n",
              "      <td>40.0</td>\n",
              "      <td>0.0002</td>\n",
              "      <td>40.708164</td>\n",
              "      <td>-73.999509</td>\n",
              "      <td>Presidents' Day (regional holiday)</td>\n",
              "      <td>(40.7081639691088, -73.9995087014816)</td>\n",
              "      <td>16</td>\n",
              "      <td>2</td>\n",
              "      <td>2019-02-18</td>\n",
              "      <td>Monday</td>\n",
              "    </tr>\n",
              "    <tr>\n",
              "      <th>89</th>\n",
              "      <td>2019-09-02 01:00:00</td>\n",
              "      <td>Brooklyn Bridge</td>\n",
              "      <td>0</td>\n",
              "      <td>0</td>\n",
              "      <td>0</td>\n",
              "      <td>partly-cloudy-night</td>\n",
              "      <td>69.0</td>\n",
              "      <td>0.0000</td>\n",
              "      <td>40.708164</td>\n",
              "      <td>-73.999509</td>\n",
              "      <td>Labor Day</td>\n",
              "      <td>(40.7081639691088, -73.9995087014816)</td>\n",
              "      <td>1</td>\n",
              "      <td>9</td>\n",
              "      <td>2019-09-02</td>\n",
              "      <td>Monday</td>\n",
              "    </tr>\n",
              "    <tr>\n",
              "      <th>...</th>\n",
              "      <td>...</td>\n",
              "      <td>...</td>\n",
              "      <td>...</td>\n",
              "      <td>...</td>\n",
              "      <td>...</td>\n",
              "      <td>...</td>\n",
              "      <td>...</td>\n",
              "      <td>...</td>\n",
              "      <td>...</td>\n",
              "      <td>...</td>\n",
              "      <td>...</td>\n",
              "      <td>...</td>\n",
              "      <td>...</td>\n",
              "      <td>...</td>\n",
              "      <td>...</td>\n",
              "      <td>...</td>\n",
              "    </tr>\n",
              "    <tr>\n",
              "      <th>15962</th>\n",
              "      <td>2018-07-04 16:00:00</td>\n",
              "      <td>Brooklyn Bridge</td>\n",
              "      <td>2726</td>\n",
              "      <td>2726</td>\n",
              "      <td>0</td>\n",
              "      <td>partly-cloudy-day</td>\n",
              "      <td>82.0</td>\n",
              "      <td>0.0133</td>\n",
              "      <td>40.708164</td>\n",
              "      <td>-73.999509</td>\n",
              "      <td>Independence Day</td>\n",
              "      <td>(40.7081639691088, -73.9995087014816)</td>\n",
              "      <td>16</td>\n",
              "      <td>7</td>\n",
              "      <td>2018-07-04</td>\n",
              "      <td>Wednesday</td>\n",
              "    </tr>\n",
              "    <tr>\n",
              "      <th>15990</th>\n",
              "      <td>2018-07-04 12:00:00</td>\n",
              "      <td>Brooklyn Bridge</td>\n",
              "      <td>2010</td>\n",
              "      <td>1073</td>\n",
              "      <td>937</td>\n",
              "      <td>partly-cloudy-day</td>\n",
              "      <td>84.0</td>\n",
              "      <td>0.0000</td>\n",
              "      <td>40.708164</td>\n",
              "      <td>-73.999509</td>\n",
              "      <td>Independence Day</td>\n",
              "      <td>(40.7081639691088, -73.9995087014816)</td>\n",
              "      <td>12</td>\n",
              "      <td>7</td>\n",
              "      <td>2018-07-04</td>\n",
              "      <td>Wednesday</td>\n",
              "    </tr>\n",
              "    <tr>\n",
              "      <th>15997</th>\n",
              "      <td>2018-06-17 23:00:00</td>\n",
              "      <td>Brooklyn Bridge</td>\n",
              "      <td>353</td>\n",
              "      <td>168</td>\n",
              "      <td>185</td>\n",
              "      <td>clear-night</td>\n",
              "      <td>74.0</td>\n",
              "      <td>0.0000</td>\n",
              "      <td>40.708164</td>\n",
              "      <td>-73.999509</td>\n",
              "      <td>Father's Day</td>\n",
              "      <td>(40.7081639691088, -73.9995087014816)</td>\n",
              "      <td>23</td>\n",
              "      <td>6</td>\n",
              "      <td>2018-06-17</td>\n",
              "      <td>Sunday</td>\n",
              "    </tr>\n",
              "    <tr>\n",
              "      <th>16017</th>\n",
              "      <td>2018-06-17 03:00:00</td>\n",
              "      <td>Brooklyn Bridge</td>\n",
              "      <td>16</td>\n",
              "      <td>11</td>\n",
              "      <td>5</td>\n",
              "      <td>clear-night</td>\n",
              "      <td>66.0</td>\n",
              "      <td>0.0000</td>\n",
              "      <td>40.708164</td>\n",
              "      <td>-73.999509</td>\n",
              "      <td>Father's Day</td>\n",
              "      <td>(40.7081639691088, -73.9995087014816)</td>\n",
              "      <td>3</td>\n",
              "      <td>6</td>\n",
              "      <td>2018-06-17</td>\n",
              "      <td>Sunday</td>\n",
              "    </tr>\n",
              "    <tr>\n",
              "      <th>16024</th>\n",
              "      <td>2018-06-17 14:00:00</td>\n",
              "      <td>Brooklyn Bridge</td>\n",
              "      <td>2038</td>\n",
              "      <td>897</td>\n",
              "      <td>1141</td>\n",
              "      <td>clear-day</td>\n",
              "      <td>86.0</td>\n",
              "      <td>0.0000</td>\n",
              "      <td>40.708164</td>\n",
              "      <td>-73.999509</td>\n",
              "      <td>Father's Day</td>\n",
              "      <td>(40.7081639691088, -73.9995087014816)</td>\n",
              "      <td>14</td>\n",
              "      <td>6</td>\n",
              "      <td>2018-06-17</td>\n",
              "      <td>Sunday</td>\n",
              "    </tr>\n",
              "  </tbody>\n",
              "</table>\n",
              "<p>1124 rows × 16 columns</p>\n",
              "</div>"
            ],
            "text/plain": [
              "           hour_beginning         location  Pedestrians  Towards Manhattan  \\\n",
              "5     2019-12-25 14:00:00  Brooklyn Bridge         3171               1685   \n",
              "65    2019-10-31 00:00:00  Brooklyn Bridge           13                 11   \n",
              "76    2019-03-17 23:00:00  Brooklyn Bridge            1                  0   \n",
              "78    2019-02-18 16:00:00  Brooklyn Bridge         1439                622   \n",
              "89    2019-09-02 01:00:00  Brooklyn Bridge            0                  0   \n",
              "...                   ...              ...          ...                ...   \n",
              "15962 2018-07-04 16:00:00  Brooklyn Bridge         2726               2726   \n",
              "15990 2018-07-04 12:00:00  Brooklyn Bridge         2010               1073   \n",
              "15997 2018-06-17 23:00:00  Brooklyn Bridge          353                168   \n",
              "16017 2018-06-17 03:00:00  Brooklyn Bridge           16                 11   \n",
              "16024 2018-06-17 14:00:00  Brooklyn Bridge         2038                897   \n",
              "\n",
              "       Towards Brooklyn      weather_summary  temperature  precipitation  \\\n",
              "5                  1486            clear-day         44.0         0.0000   \n",
              "65                    2               cloudy         61.0         0.0000   \n",
              "76                    1          clear-night         37.0         0.0000   \n",
              "78                  817    partly-cloudy-day         40.0         0.0002   \n",
              "89                    0  partly-cloudy-night         69.0         0.0000   \n",
              "...                 ...                  ...          ...            ...   \n",
              "15962                 0    partly-cloudy-day         82.0         0.0133   \n",
              "15990               937    partly-cloudy-day         84.0         0.0000   \n",
              "15997               185          clear-night         74.0         0.0000   \n",
              "16017                 5          clear-night         66.0         0.0000   \n",
              "16024              1141            clear-day         86.0         0.0000   \n",
              "\n",
              "             lat       long                              events  \\\n",
              "5      40.708164 -73.999509                       Christmas Day   \n",
              "65     40.708164 -73.999509                           Halloween   \n",
              "76     40.708164 -73.999509                   St. Patrick's Day   \n",
              "78     40.708164 -73.999509  Presidents' Day (regional holiday)   \n",
              "89     40.708164 -73.999509                           Labor Day   \n",
              "...          ...        ...                                 ...   \n",
              "15962  40.708164 -73.999509                    Independence Day   \n",
              "15990  40.708164 -73.999509                    Independence Day   \n",
              "15997  40.708164 -73.999509                        Father's Day   \n",
              "16017  40.708164 -73.999509                        Father's Day   \n",
              "16024  40.708164 -73.999509                        Father's Day   \n",
              "\n",
              "                                   Location1  hour  month        date  \\\n",
              "5      (40.7081639691088, -73.9995087014816)    14     12  2019-12-25   \n",
              "65     (40.7081639691088, -73.9995087014816)     0     10  2019-10-31   \n",
              "76     (40.7081639691088, -73.9995087014816)    23      3  2019-03-17   \n",
              "78     (40.7081639691088, -73.9995087014816)    16      2  2019-02-18   \n",
              "89     (40.7081639691088, -73.9995087014816)     1      9  2019-09-02   \n",
              "...                                      ...   ...    ...         ...   \n",
              "15962  (40.7081639691088, -73.9995087014816)    16      7  2018-07-04   \n",
              "15990  (40.7081639691088, -73.9995087014816)    12      7  2018-07-04   \n",
              "15997  (40.7081639691088, -73.9995087014816)    23      6  2018-06-17   \n",
              "16017  (40.7081639691088, -73.9995087014816)     3      6  2018-06-17   \n",
              "16024  (40.7081639691088, -73.9995087014816)    14      6  2018-06-17   \n",
              "\n",
              "        day_name  \n",
              "5      Wednesday  \n",
              "65      Thursday  \n",
              "76        Sunday  \n",
              "78        Monday  \n",
              "89        Monday  \n",
              "...          ...  \n",
              "15962  Wednesday  \n",
              "15990  Wednesday  \n",
              "15997     Sunday  \n",
              "16017     Sunday  \n",
              "16024     Sunday  \n",
              "\n",
              "[1124 rows x 16 columns]"
            ]
          },
          "execution_count": 16,
          "metadata": {},
          "output_type": "execute_result"
        }
      ],
      "source": [
        "df.loc[df['events'].notnull()]"
      ]
    },
    {
      "cell_type": "markdown",
      "id": "uXw50lWI-pT0",
      "metadata": {
        "id": "uXw50lWI-pT0"
      },
      "source": [
        "We also notice a small number of rows missing weather information. It’s\n",
        "not clear why these are missing. Let’s take a closer look at some of\n",
        "those rows, by *filtering* the dataframe to only rows that meet a\n",
        "specific condition - in this case, that the `temperature` field is\n",
        "missing."
      ]
    },
    {
      "cell_type": "code",
      "execution_count": 17,
      "id": "bNuZyS-H-pT1",
      "metadata": {
        "id": "bNuZyS-H-pT1"
      },
      "outputs": [
        {
          "data": {
            "text/html": [
              "<div>\n",
              "<style scoped>\n",
              "    .dataframe tbody tr th:only-of-type {\n",
              "        vertical-align: middle;\n",
              "    }\n",
              "\n",
              "    .dataframe tbody tr th {\n",
              "        vertical-align: top;\n",
              "    }\n",
              "\n",
              "    .dataframe thead th {\n",
              "        text-align: right;\n",
              "    }\n",
              "</style>\n",
              "<table border=\"1\" class=\"dataframe\">\n",
              "  <thead>\n",
              "    <tr style=\"text-align: right;\">\n",
              "      <th></th>\n",
              "      <th>hour_beginning</th>\n",
              "      <th>location</th>\n",
              "      <th>Pedestrians</th>\n",
              "      <th>Towards Manhattan</th>\n",
              "      <th>Towards Brooklyn</th>\n",
              "      <th>weather_summary</th>\n",
              "      <th>temperature</th>\n",
              "      <th>precipitation</th>\n",
              "      <th>lat</th>\n",
              "      <th>long</th>\n",
              "      <th>events</th>\n",
              "      <th>Location1</th>\n",
              "      <th>hour</th>\n",
              "      <th>month</th>\n",
              "      <th>date</th>\n",
              "      <th>day_name</th>\n",
              "    </tr>\n",
              "  </thead>\n",
              "  <tbody>\n",
              "    <tr>\n",
              "      <th>0</th>\n",
              "      <td>2019-04-30 00:00:00</td>\n",
              "      <td>Brooklyn Bridge</td>\n",
              "      <td>3</td>\n",
              "      <td>3</td>\n",
              "      <td>0</td>\n",
              "      <td>NaN</td>\n",
              "      <td>NaN</td>\n",
              "      <td>NaN</td>\n",
              "      <td>40.708164</td>\n",
              "      <td>-73.999509</td>\n",
              "      <td>NaN</td>\n",
              "      <td>(40.7081639691088, -73.9995087014816)</td>\n",
              "      <td>0</td>\n",
              "      <td>4</td>\n",
              "      <td>2019-04-30</td>\n",
              "      <td>Tuesday</td>\n",
              "    </tr>\n",
              "    <tr>\n",
              "      <th>482</th>\n",
              "      <td>2019-01-06 00:00:00</td>\n",
              "      <td>Brooklyn Bridge</td>\n",
              "      <td>3</td>\n",
              "      <td>3</td>\n",
              "      <td>0</td>\n",
              "      <td>NaN</td>\n",
              "      <td>NaN</td>\n",
              "      <td>NaN</td>\n",
              "      <td>40.708164</td>\n",
              "      <td>-73.999509</td>\n",
              "      <td>NaN</td>\n",
              "      <td>(40.7081639691088, -73.9995087014816)</td>\n",
              "      <td>0</td>\n",
              "      <td>1</td>\n",
              "      <td>2019-01-06</td>\n",
              "      <td>Sunday</td>\n",
              "    </tr>\n",
              "    <tr>\n",
              "      <th>701</th>\n",
              "      <td>2019-11-03 01:00:00</td>\n",
              "      <td>Brooklyn Bridge</td>\n",
              "      <td>0</td>\n",
              "      <td>0</td>\n",
              "      <td>0</td>\n",
              "      <td>NaN</td>\n",
              "      <td>NaN</td>\n",
              "      <td>NaN</td>\n",
              "      <td>40.708164</td>\n",
              "      <td>-73.999509</td>\n",
              "      <td>Daylight Saving Time ends</td>\n",
              "      <td>(40.7081639691088, -73.9995087014816)</td>\n",
              "      <td>1</td>\n",
              "      <td>11</td>\n",
              "      <td>2019-11-03</td>\n",
              "      <td>Sunday</td>\n",
              "    </tr>\n",
              "    <tr>\n",
              "      <th>2140</th>\n",
              "      <td>2019-01-14 00:00:00</td>\n",
              "      <td>Brooklyn Bridge</td>\n",
              "      <td>0</td>\n",
              "      <td>0</td>\n",
              "      <td>0</td>\n",
              "      <td>NaN</td>\n",
              "      <td>NaN</td>\n",
              "      <td>NaN</td>\n",
              "      <td>40.708164</td>\n",
              "      <td>-73.999509</td>\n",
              "      <td>NaN</td>\n",
              "      <td>(40.7081639691088, -73.9995087014816)</td>\n",
              "      <td>0</td>\n",
              "      <td>1</td>\n",
              "      <td>2019-01-14</td>\n",
              "      <td>Monday</td>\n",
              "    </tr>\n",
              "    <tr>\n",
              "      <th>2604</th>\n",
              "      <td>2019-01-09 00:00:00</td>\n",
              "      <td>Brooklyn Bridge</td>\n",
              "      <td>3</td>\n",
              "      <td>3</td>\n",
              "      <td>0</td>\n",
              "      <td>NaN</td>\n",
              "      <td>NaN</td>\n",
              "      <td>NaN</td>\n",
              "      <td>40.708164</td>\n",
              "      <td>-73.999509</td>\n",
              "      <td>NaN</td>\n",
              "      <td>(40.7081639691088, -73.9995087014816)</td>\n",
              "      <td>0</td>\n",
              "      <td>1</td>\n",
              "      <td>2019-01-09</td>\n",
              "      <td>Wednesday</td>\n",
              "    </tr>\n",
              "    <tr>\n",
              "      <th>2944</th>\n",
              "      <td>2019-03-10 02:00:00</td>\n",
              "      <td>Brooklyn Bridge</td>\n",
              "      <td>0</td>\n",
              "      <td>0</td>\n",
              "      <td>0</td>\n",
              "      <td>NaN</td>\n",
              "      <td>NaN</td>\n",
              "      <td>NaN</td>\n",
              "      <td>40.708164</td>\n",
              "      <td>-73.999509</td>\n",
              "      <td>Daylight Saving Time starts</td>\n",
              "      <td>(40.7081639691088, -73.9995087014816)</td>\n",
              "      <td>2</td>\n",
              "      <td>3</td>\n",
              "      <td>2019-03-10</td>\n",
              "      <td>Sunday</td>\n",
              "    </tr>\n",
              "    <tr>\n",
              "      <th>3951</th>\n",
              "      <td>2019-01-16 00:00:00</td>\n",
              "      <td>Brooklyn Bridge</td>\n",
              "      <td>7</td>\n",
              "      <td>2</td>\n",
              "      <td>5</td>\n",
              "      <td>NaN</td>\n",
              "      <td>NaN</td>\n",
              "      <td>NaN</td>\n",
              "      <td>40.708164</td>\n",
              "      <td>-73.999509</td>\n",
              "      <td>NaN</td>\n",
              "      <td>(40.7081639691088, -73.9995087014816)</td>\n",
              "      <td>0</td>\n",
              "      <td>1</td>\n",
              "      <td>2019-01-16</td>\n",
              "      <td>Wednesday</td>\n",
              "    </tr>\n",
              "    <tr>\n",
              "      <th>4198</th>\n",
              "      <td>2019-05-02 00:00:00</td>\n",
              "      <td>Brooklyn Bridge</td>\n",
              "      <td>3</td>\n",
              "      <td>2</td>\n",
              "      <td>1</td>\n",
              "      <td>NaN</td>\n",
              "      <td>NaN</td>\n",
              "      <td>NaN</td>\n",
              "      <td>40.708164</td>\n",
              "      <td>-73.999509</td>\n",
              "      <td>NaN</td>\n",
              "      <td>(40.7081639691088, -73.9995087014816)</td>\n",
              "      <td>0</td>\n",
              "      <td>5</td>\n",
              "      <td>2019-05-02</td>\n",
              "      <td>Thursday</td>\n",
              "    </tr>\n",
              "    <tr>\n",
              "      <th>5206</th>\n",
              "      <td>2019-09-17 00:00:00</td>\n",
              "      <td>Brooklyn Bridge</td>\n",
              "      <td>2</td>\n",
              "      <td>2</td>\n",
              "      <td>0</td>\n",
              "      <td>NaN</td>\n",
              "      <td>NaN</td>\n",
              "      <td>NaN</td>\n",
              "      <td>40.708164</td>\n",
              "      <td>-73.999509</td>\n",
              "      <td>NaN</td>\n",
              "      <td>(40.7081639691088, -73.9995087014816)</td>\n",
              "      <td>0</td>\n",
              "      <td>9</td>\n",
              "      <td>2019-09-17</td>\n",
              "      <td>Tuesday</td>\n",
              "    </tr>\n",
              "    <tr>\n",
              "      <th>5277</th>\n",
              "      <td>2019-06-17 01:00:00</td>\n",
              "      <td>Brooklyn Bridge</td>\n",
              "      <td>0</td>\n",
              "      <td>0</td>\n",
              "      <td>0</td>\n",
              "      <td>NaN</td>\n",
              "      <td>NaN</td>\n",
              "      <td>NaN</td>\n",
              "      <td>40.708164</td>\n",
              "      <td>-73.999509</td>\n",
              "      <td>NaN</td>\n",
              "      <td>(40.7081639691088, -73.9995087014816)</td>\n",
              "      <td>1</td>\n",
              "      <td>6</td>\n",
              "      <td>2019-06-17</td>\n",
              "      <td>Monday</td>\n",
              "    </tr>\n",
              "    <tr>\n",
              "      <th>5562</th>\n",
              "      <td>2019-02-02 00:00:00</td>\n",
              "      <td>Brooklyn Bridge</td>\n",
              "      <td>0</td>\n",
              "      <td>0</td>\n",
              "      <td>0</td>\n",
              "      <td>NaN</td>\n",
              "      <td>NaN</td>\n",
              "      <td>NaN</td>\n",
              "      <td>40.708164</td>\n",
              "      <td>-73.999509</td>\n",
              "      <td>NaN</td>\n",
              "      <td>(40.7081639691088, -73.9995087014816)</td>\n",
              "      <td>0</td>\n",
              "      <td>2</td>\n",
              "      <td>2019-02-02</td>\n",
              "      <td>Saturday</td>\n",
              "    </tr>\n",
              "    <tr>\n",
              "      <th>5934</th>\n",
              "      <td>2019-09-06 00:00:00</td>\n",
              "      <td>Brooklyn Bridge</td>\n",
              "      <td>2</td>\n",
              "      <td>1</td>\n",
              "      <td>1</td>\n",
              "      <td>NaN</td>\n",
              "      <td>NaN</td>\n",
              "      <td>NaN</td>\n",
              "      <td>40.708164</td>\n",
              "      <td>-73.999509</td>\n",
              "      <td>NaN</td>\n",
              "      <td>(40.7081639691088, -73.9995087014816)</td>\n",
              "      <td>0</td>\n",
              "      <td>9</td>\n",
              "      <td>2019-09-06</td>\n",
              "      <td>Friday</td>\n",
              "    </tr>\n",
              "    <tr>\n",
              "      <th>5962</th>\n",
              "      <td>2019-05-08 00:00:00</td>\n",
              "      <td>Brooklyn Bridge</td>\n",
              "      <td>3</td>\n",
              "      <td>2</td>\n",
              "      <td>1</td>\n",
              "      <td>NaN</td>\n",
              "      <td>NaN</td>\n",
              "      <td>NaN</td>\n",
              "      <td>40.708164</td>\n",
              "      <td>-73.999509</td>\n",
              "      <td>NaN</td>\n",
              "      <td>(40.7081639691088, -73.9995087014816)</td>\n",
              "      <td>0</td>\n",
              "      <td>5</td>\n",
              "      <td>2019-05-08</td>\n",
              "      <td>Wednesday</td>\n",
              "    </tr>\n",
              "    <tr>\n",
              "      <th>7696</th>\n",
              "      <td>2019-03-05 00:00:00</td>\n",
              "      <td>Brooklyn Bridge</td>\n",
              "      <td>2</td>\n",
              "      <td>0</td>\n",
              "      <td>2</td>\n",
              "      <td>NaN</td>\n",
              "      <td>NaN</td>\n",
              "      <td>NaN</td>\n",
              "      <td>40.708164</td>\n",
              "      <td>-73.999509</td>\n",
              "      <td>NaN</td>\n",
              "      <td>(40.7081639691088, -73.9995087014816)</td>\n",
              "      <td>0</td>\n",
              "      <td>3</td>\n",
              "      <td>2019-03-05</td>\n",
              "      <td>Tuesday</td>\n",
              "    </tr>\n",
              "    <tr>\n",
              "      <th>12271</th>\n",
              "      <td>2018-03-11 02:00:00</td>\n",
              "      <td>Brooklyn Bridge</td>\n",
              "      <td>0</td>\n",
              "      <td>0</td>\n",
              "      <td>0</td>\n",
              "      <td>NaN</td>\n",
              "      <td>NaN</td>\n",
              "      <td>NaN</td>\n",
              "      <td>40.708164</td>\n",
              "      <td>-73.999509</td>\n",
              "      <td>Daylight Saving Time starts</td>\n",
              "      <td>(40.7081639691088, -73.9995087014816)</td>\n",
              "      <td>2</td>\n",
              "      <td>3</td>\n",
              "      <td>2018-03-11</td>\n",
              "      <td>Sunday</td>\n",
              "    </tr>\n",
              "    <tr>\n",
              "      <th>12796</th>\n",
              "      <td>2018-05-13 00:00:00</td>\n",
              "      <td>Brooklyn Bridge</td>\n",
              "      <td>98</td>\n",
              "      <td>69</td>\n",
              "      <td>29</td>\n",
              "      <td>NaN</td>\n",
              "      <td>NaN</td>\n",
              "      <td>NaN</td>\n",
              "      <td>40.708164</td>\n",
              "      <td>-73.999509</td>\n",
              "      <td>Mother's Day</td>\n",
              "      <td>(40.7081639691088, -73.9995087014816)</td>\n",
              "      <td>0</td>\n",
              "      <td>5</td>\n",
              "      <td>2018-05-13</td>\n",
              "      <td>Sunday</td>\n",
              "    </tr>\n",
              "  </tbody>\n",
              "</table>\n",
              "</div>"
            ],
            "text/plain": [
              "           hour_beginning         location  Pedestrians  Towards Manhattan  \\\n",
              "0     2019-04-30 00:00:00  Brooklyn Bridge            3                  3   \n",
              "482   2019-01-06 00:00:00  Brooklyn Bridge            3                  3   \n",
              "701   2019-11-03 01:00:00  Brooklyn Bridge            0                  0   \n",
              "2140  2019-01-14 00:00:00  Brooklyn Bridge            0                  0   \n",
              "2604  2019-01-09 00:00:00  Brooklyn Bridge            3                  3   \n",
              "2944  2019-03-10 02:00:00  Brooklyn Bridge            0                  0   \n",
              "3951  2019-01-16 00:00:00  Brooklyn Bridge            7                  2   \n",
              "4198  2019-05-02 00:00:00  Brooklyn Bridge            3                  2   \n",
              "5206  2019-09-17 00:00:00  Brooklyn Bridge            2                  2   \n",
              "5277  2019-06-17 01:00:00  Brooklyn Bridge            0                  0   \n",
              "5562  2019-02-02 00:00:00  Brooklyn Bridge            0                  0   \n",
              "5934  2019-09-06 00:00:00  Brooklyn Bridge            2                  1   \n",
              "5962  2019-05-08 00:00:00  Brooklyn Bridge            3                  2   \n",
              "7696  2019-03-05 00:00:00  Brooklyn Bridge            2                  0   \n",
              "12271 2018-03-11 02:00:00  Brooklyn Bridge            0                  0   \n",
              "12796 2018-05-13 00:00:00  Brooklyn Bridge           98                 69   \n",
              "\n",
              "       Towards Brooklyn weather_summary  temperature  precipitation  \\\n",
              "0                     0             NaN          NaN            NaN   \n",
              "482                   0             NaN          NaN            NaN   \n",
              "701                   0             NaN          NaN            NaN   \n",
              "2140                  0             NaN          NaN            NaN   \n",
              "2604                  0             NaN          NaN            NaN   \n",
              "2944                  0             NaN          NaN            NaN   \n",
              "3951                  5             NaN          NaN            NaN   \n",
              "4198                  1             NaN          NaN            NaN   \n",
              "5206                  0             NaN          NaN            NaN   \n",
              "5277                  0             NaN          NaN            NaN   \n",
              "5562                  0             NaN          NaN            NaN   \n",
              "5934                  1             NaN          NaN            NaN   \n",
              "5962                  1             NaN          NaN            NaN   \n",
              "7696                  2             NaN          NaN            NaN   \n",
              "12271                 0             NaN          NaN            NaN   \n",
              "12796                29             NaN          NaN            NaN   \n",
              "\n",
              "             lat       long                       events  \\\n",
              "0      40.708164 -73.999509                          NaN   \n",
              "482    40.708164 -73.999509                          NaN   \n",
              "701    40.708164 -73.999509    Daylight Saving Time ends   \n",
              "2140   40.708164 -73.999509                          NaN   \n",
              "2604   40.708164 -73.999509                          NaN   \n",
              "2944   40.708164 -73.999509  Daylight Saving Time starts   \n",
              "3951   40.708164 -73.999509                          NaN   \n",
              "4198   40.708164 -73.999509                          NaN   \n",
              "5206   40.708164 -73.999509                          NaN   \n",
              "5277   40.708164 -73.999509                          NaN   \n",
              "5562   40.708164 -73.999509                          NaN   \n",
              "5934   40.708164 -73.999509                          NaN   \n",
              "5962   40.708164 -73.999509                          NaN   \n",
              "7696   40.708164 -73.999509                          NaN   \n",
              "12271  40.708164 -73.999509  Daylight Saving Time starts   \n",
              "12796  40.708164 -73.999509                 Mother's Day   \n",
              "\n",
              "                                   Location1  hour  month        date  \\\n",
              "0      (40.7081639691088, -73.9995087014816)     0      4  2019-04-30   \n",
              "482    (40.7081639691088, -73.9995087014816)     0      1  2019-01-06   \n",
              "701    (40.7081639691088, -73.9995087014816)     1     11  2019-11-03   \n",
              "2140   (40.7081639691088, -73.9995087014816)     0      1  2019-01-14   \n",
              "2604   (40.7081639691088, -73.9995087014816)     0      1  2019-01-09   \n",
              "2944   (40.7081639691088, -73.9995087014816)     2      3  2019-03-10   \n",
              "3951   (40.7081639691088, -73.9995087014816)     0      1  2019-01-16   \n",
              "4198   (40.7081639691088, -73.9995087014816)     0      5  2019-05-02   \n",
              "5206   (40.7081639691088, -73.9995087014816)     0      9  2019-09-17   \n",
              "5277   (40.7081639691088, -73.9995087014816)     1      6  2019-06-17   \n",
              "5562   (40.7081639691088, -73.9995087014816)     0      2  2019-02-02   \n",
              "5934   (40.7081639691088, -73.9995087014816)     0      9  2019-09-06   \n",
              "5962   (40.7081639691088, -73.9995087014816)     0      5  2019-05-08   \n",
              "7696   (40.7081639691088, -73.9995087014816)     0      3  2019-03-05   \n",
              "12271  (40.7081639691088, -73.9995087014816)     2      3  2018-03-11   \n",
              "12796  (40.7081639691088, -73.9995087014816)     0      5  2018-05-13   \n",
              "\n",
              "        day_name  \n",
              "0        Tuesday  \n",
              "482       Sunday  \n",
              "701       Sunday  \n",
              "2140      Monday  \n",
              "2604   Wednesday  \n",
              "2944      Sunday  \n",
              "3951   Wednesday  \n",
              "4198    Thursday  \n",
              "5206     Tuesday  \n",
              "5277      Monday  \n",
              "5562    Saturday  \n",
              "5934      Friday  \n",
              "5962   Wednesday  \n",
              "7696     Tuesday  \n",
              "12271     Sunday  \n",
              "12796     Sunday  "
            ]
          },
          "execution_count": 17,
          "metadata": {},
          "output_type": "execute_result"
        }
      ],
      "source": [
        "df.loc[df.temperature.isnull()]"
      ]
    },
    {
      "cell_type": "markdown",
      "id": "keGC-pH--pT1",
      "metadata": {
        "id": "keGC-pH--pT1"
      },
      "source": [
        "We can see that for these particular instances, all of the weather\n",
        "information is missing. There’s no obvious reason or pattern. We’ll deal\n",
        "with these soon, when we try to clean/filter the data."
      ]
    },
    {
      "cell_type": "markdown",
      "id": "_KA_YKVR-pT1",
      "metadata": {
        "id": "_KA_YKVR-pT1"
      },
      "source": [
        "Before we do that, though, let’s check for the *other* kind of missing\n",
        "data: rows that are missing completely, that we expect *should* be\n",
        "present.\n",
        "\n",
        "In this example, the data is a time series, and we expect that there is\n",
        "exactly one row of data for every single hour over the time period in\n",
        "which this data was collected."
      ]
    },
    {
      "cell_type": "markdown",
      "id": "sDMOyV_m-pT1",
      "metadata": {
        "id": "sDMOyV_m-pT1"
      },
      "source": [
        "Let’s see if the data is complete, or if there are gaps in time.\n",
        "\n",
        "First, we will use\n",
        "[`pd.date_range`](https://pandas.pydata.org/pandas-docs/stable/reference/api/pandas.date_range.html)\n",
        "to get the list of hour intervals that we expect to find in the dataset.\n",
        "Then, we will find the difference between this list and the actual list\n",
        "of hour intervals in the dataset - these are missing intervals."
      ]
    },
    {
      "cell_type": "code",
      "execution_count": 18,
      "id": "JheosvdQ-pT1",
      "metadata": {
        "id": "JheosvdQ-pT1"
      },
      "outputs": [
        {
          "name": "stdout",
          "output_type": "stream",
          "text": [
            "2017-10-01 00:00:00\n",
            "2019-12-31 23:00:00\n"
          ]
        }
      ],
      "source": [
        "# get beginning and end of date range\n",
        "min_dt = df.hour_beginning.min()\n",
        "max_dt = df.hour_beginning.max()\n",
        "print(min_dt)\n",
        "print(max_dt)"
      ]
    },
    {
      "cell_type": "code",
      "execution_count": 19,
      "id": "ocY5qEOX-pT1",
      "metadata": {
        "id": "ocY5qEOX-pT1"
      },
      "outputs": [
        {
          "name": "stderr",
          "output_type": "stream",
          "text": [
            "C:\\Users\\redcr\\AppData\\Local\\Temp\\ipykernel_19544\\2540638331.py:1: FutureWarning: 'H' is deprecated and will be removed in a future version, please use 'h' instead.\n",
            "  expected_range = pd.date_range(start = min_dt, end = max_dt, freq='H' )\n"
          ]
        },
        {
          "data": {
            "text/plain": [
              "DatetimeIndex(['2017-10-01 00:00:00', '2017-10-01 01:00:00',\n",
              "               '2017-10-01 02:00:00', '2017-10-01 03:00:00',\n",
              "               '2017-10-01 04:00:00', '2017-10-01 05:00:00',\n",
              "               '2017-10-01 06:00:00', '2017-10-01 07:00:00',\n",
              "               '2017-10-01 08:00:00', '2017-10-01 09:00:00',\n",
              "               ...\n",
              "               '2019-12-31 14:00:00', '2019-12-31 15:00:00',\n",
              "               '2019-12-31 16:00:00', '2019-12-31 17:00:00',\n",
              "               '2019-12-31 18:00:00', '2019-12-31 19:00:00',\n",
              "               '2019-12-31 20:00:00', '2019-12-31 21:00:00',\n",
              "               '2019-12-31 22:00:00', '2019-12-31 23:00:00'],\n",
              "              dtype='datetime64[ns]', length=19728, freq='h')"
            ]
          },
          "execution_count": 19,
          "metadata": {},
          "output_type": "execute_result"
        }
      ],
      "source": [
        "expected_range = pd.date_range(start = min_dt, end = max_dt, freq='H' )\n",
        "expected_range"
      ]
    },
    {
      "cell_type": "code",
      "execution_count": 20,
      "id": "z6XKAb8e-pT2",
      "metadata": {
        "id": "z6XKAb8e-pT2"
      },
      "outputs": [
        {
          "name": "stdout",
          "output_type": "stream",
          "text": [
            "DatetimeIndex(['2018-08-01 00:00:00', '2018-08-01 01:00:00',\n",
            "               '2018-08-01 02:00:00', '2018-08-01 03:00:00',\n",
            "               '2018-08-01 04:00:00', '2018-08-01 05:00:00',\n",
            "               '2018-08-01 06:00:00', '2018-08-01 07:00:00',\n",
            "               '2018-08-01 08:00:00', '2018-08-01 09:00:00',\n",
            "               ...\n",
            "               '2018-12-31 14:00:00', '2018-12-31 15:00:00',\n",
            "               '2018-12-31 16:00:00', '2018-12-31 17:00:00',\n",
            "               '2018-12-31 18:00:00', '2018-12-31 19:00:00',\n",
            "               '2018-12-31 20:00:00', '2018-12-31 21:00:00',\n",
            "               '2018-12-31 22:00:00', '2018-12-31 23:00:00'],\n",
            "              dtype='datetime64[ns]', length=3672, freq='h')\n"
          ]
        }
      ],
      "source": [
        "# then identify the missing hours\n",
        "missing_hours = expected_range.difference(df['hour_beginning'])\n",
        "print(missing_hours)"
      ]
    },
    {
      "cell_type": "markdown",
      "id": "NdCVDx78-pT2",
      "metadata": {
        "id": "NdCVDx78-pT2"
      },
      "source": [
        "We had the expected number of rows (the output of `shape` matched the\n",
        "description of the data on the NYC Data website), but the data seems to\n",
        "be missing samples from August 2018 through December 2018, which is\n",
        "worth keeping in mind if we decide to use it:"
      ]
    },
    {
      "cell_type": "code",
      "execution_count": 21,
      "id": "hUZw8V9k-pT2",
      "metadata": {
        "id": "hUZw8V9k-pT2"
      },
      "outputs": [
        {
          "data": {
            "text/plain": [
              "array([datetime.date(2018, 8, 1), datetime.date(2018, 8, 2),\n",
              "       datetime.date(2018, 8, 3), datetime.date(2018, 8, 4),\n",
              "       datetime.date(2018, 8, 5), datetime.date(2018, 8, 6),\n",
              "       datetime.date(2018, 8, 7), datetime.date(2018, 8, 8),\n",
              "       datetime.date(2018, 8, 9), datetime.date(2018, 8, 10),\n",
              "       datetime.date(2018, 8, 11), datetime.date(2018, 8, 12),\n",
              "       datetime.date(2018, 8, 13), datetime.date(2018, 8, 14),\n",
              "       datetime.date(2018, 8, 15), datetime.date(2018, 8, 16),\n",
              "       datetime.date(2018, 8, 17), datetime.date(2018, 8, 18),\n",
              "       datetime.date(2018, 8, 19), datetime.date(2018, 8, 20),\n",
              "       datetime.date(2018, 8, 21), datetime.date(2018, 8, 22),\n",
              "       datetime.date(2018, 8, 23), datetime.date(2018, 8, 24),\n",
              "       datetime.date(2018, 8, 25), datetime.date(2018, 8, 26),\n",
              "       datetime.date(2018, 8, 27), datetime.date(2018, 8, 28),\n",
              "       datetime.date(2018, 8, 29), datetime.date(2018, 8, 30),\n",
              "       datetime.date(2018, 8, 31), datetime.date(2018, 9, 1),\n",
              "       datetime.date(2018, 9, 2), datetime.date(2018, 9, 3),\n",
              "       datetime.date(2018, 9, 4), datetime.date(2018, 9, 5),\n",
              "       datetime.date(2018, 9, 6), datetime.date(2018, 9, 7),\n",
              "       datetime.date(2018, 9, 8), datetime.date(2018, 9, 9),\n",
              "       datetime.date(2018, 9, 10), datetime.date(2018, 9, 11),\n",
              "       datetime.date(2018, 9, 12), datetime.date(2018, 9, 13),\n",
              "       datetime.date(2018, 9, 14), datetime.date(2018, 9, 15),\n",
              "       datetime.date(2018, 9, 16), datetime.date(2018, 9, 17),\n",
              "       datetime.date(2018, 9, 18), datetime.date(2018, 9, 19),\n",
              "       datetime.date(2018, 9, 20), datetime.date(2018, 9, 21),\n",
              "       datetime.date(2018, 9, 22), datetime.date(2018, 9, 23),\n",
              "       datetime.date(2018, 9, 24), datetime.date(2018, 9, 25),\n",
              "       datetime.date(2018, 9, 26), datetime.date(2018, 9, 27),\n",
              "       datetime.date(2018, 9, 28), datetime.date(2018, 9, 29),\n",
              "       datetime.date(2018, 9, 30), datetime.date(2018, 10, 1),\n",
              "       datetime.date(2018, 10, 2), datetime.date(2018, 10, 3),\n",
              "       datetime.date(2018, 10, 4), datetime.date(2018, 10, 5),\n",
              "       datetime.date(2018, 10, 6), datetime.date(2018, 10, 7),\n",
              "       datetime.date(2018, 10, 8), datetime.date(2018, 10, 9),\n",
              "       datetime.date(2018, 10, 10), datetime.date(2018, 10, 11),\n",
              "       datetime.date(2018, 10, 12), datetime.date(2018, 10, 13),\n",
              "       datetime.date(2018, 10, 14), datetime.date(2018, 10, 15),\n",
              "       datetime.date(2018, 10, 16), datetime.date(2018, 10, 17),\n",
              "       datetime.date(2018, 10, 18), datetime.date(2018, 10, 19),\n",
              "       datetime.date(2018, 10, 20), datetime.date(2018, 10, 21),\n",
              "       datetime.date(2018, 10, 22), datetime.date(2018, 10, 23),\n",
              "       datetime.date(2018, 10, 24), datetime.date(2018, 10, 25),\n",
              "       datetime.date(2018, 10, 26), datetime.date(2018, 10, 27),\n",
              "       datetime.date(2018, 10, 28), datetime.date(2018, 10, 29),\n",
              "       datetime.date(2018, 10, 30), datetime.date(2018, 10, 31),\n",
              "       datetime.date(2018, 11, 1), datetime.date(2018, 11, 2),\n",
              "       datetime.date(2018, 11, 3), datetime.date(2018, 11, 4),\n",
              "       datetime.date(2018, 11, 5), datetime.date(2018, 11, 6),\n",
              "       datetime.date(2018, 11, 7), datetime.date(2018, 11, 8),\n",
              "       datetime.date(2018, 11, 9), datetime.date(2018, 11, 10),\n",
              "       datetime.date(2018, 11, 11), datetime.date(2018, 11, 12),\n",
              "       datetime.date(2018, 11, 13), datetime.date(2018, 11, 14),\n",
              "       datetime.date(2018, 11, 15), datetime.date(2018, 11, 16),\n",
              "       datetime.date(2018, 11, 17), datetime.date(2018, 11, 18),\n",
              "       datetime.date(2018, 11, 19), datetime.date(2018, 11, 20),\n",
              "       datetime.date(2018, 11, 21), datetime.date(2018, 11, 22),\n",
              "       datetime.date(2018, 11, 23), datetime.date(2018, 11, 24),\n",
              "       datetime.date(2018, 11, 25), datetime.date(2018, 11, 26),\n",
              "       datetime.date(2018, 11, 27), datetime.date(2018, 11, 28),\n",
              "       datetime.date(2018, 11, 29), datetime.date(2018, 11, 30),\n",
              "       datetime.date(2018, 12, 1), datetime.date(2018, 12, 2),\n",
              "       datetime.date(2018, 12, 3), datetime.date(2018, 12, 4),\n",
              "       datetime.date(2018, 12, 5), datetime.date(2018, 12, 6),\n",
              "       datetime.date(2018, 12, 7), datetime.date(2018, 12, 8),\n",
              "       datetime.date(2018, 12, 9), datetime.date(2018, 12, 10),\n",
              "       datetime.date(2018, 12, 11), datetime.date(2018, 12, 12),\n",
              "       datetime.date(2018, 12, 13), datetime.date(2018, 12, 14),\n",
              "       datetime.date(2018, 12, 15), datetime.date(2018, 12, 16),\n",
              "       datetime.date(2018, 12, 17), datetime.date(2018, 12, 18),\n",
              "       datetime.date(2018, 12, 19), datetime.date(2018, 12, 20),\n",
              "       datetime.date(2018, 12, 21), datetime.date(2018, 12, 22),\n",
              "       datetime.date(2018, 12, 23), datetime.date(2018, 12, 24),\n",
              "       datetime.date(2018, 12, 25), datetime.date(2018, 12, 26),\n",
              "       datetime.date(2018, 12, 27), datetime.date(2018, 12, 28),\n",
              "       datetime.date(2018, 12, 29), datetime.date(2018, 12, 30),\n",
              "       datetime.date(2018, 12, 31)], dtype=object)"
            ]
          },
          "execution_count": 21,
          "metadata": {},
          "output_type": "execute_result"
        }
      ],
      "source": [
        "pd.unique(missing_hours.date)"
      ]
    },
    {
      "cell_type": "markdown",
      "id": "beltzX8M-pT3",
      "metadata": {
        "id": "beltzX8M-pT3"
      },
      "source": [
        "Let’s also check if any hour appears more than once in the data. We can\n",
        "use `pandas`’s `value_counts` function to find out how many times each\n",
        "unique value appears in the data:"
      ]
    },
    {
      "cell_type": "code",
      "execution_count": 22,
      "id": "BJXsj7wB-pT3",
      "metadata": {
        "id": "BJXsj7wB-pT3"
      },
      "outputs": [
        {
          "data": {
            "text/plain": [
              "hour_beginning\n",
              "2019-11-03 01:00:00    2\n",
              "2019-04-01 03:00:00    1\n",
              "2019-12-25 14:00:00    1\n",
              "2019-01-27 21:00:00    1\n",
              "2019-02-07 04:00:00    1\n",
              "                      ..\n",
              "2018-06-25 22:00:00    1\n",
              "2018-07-02 18:00:00    1\n",
              "2018-07-15 23:00:00    1\n",
              "2018-06-26 13:00:00    1\n",
              "2019-12-31 21:00:00    1\n",
              "Name: count, Length: 16056, dtype: int64"
            ]
          },
          "execution_count": 22,
          "metadata": {},
          "output_type": "execute_result"
        }
      ],
      "source": [
        "df['hour_beginning'].value_counts()"
      ]
    },
    {
      "cell_type": "markdown",
      "id": "ufopMDih-pT3",
      "metadata": {
        "id": "ufopMDih-pT3"
      },
      "source": [
        "It looks like at least one hour appears twice in the data, which is\n",
        "unexpected! Let’s use filtering again to find out all of the instances\n",
        "where that occurs:"
      ]
    },
    {
      "cell_type": "code",
      "execution_count": 23,
      "id": "LaRE7-u7-pT3",
      "metadata": {
        "id": "LaRE7-u7-pT3"
      },
      "outputs": [
        {
          "data": {
            "text/plain": [
              "hour_beginning\n",
              "2019-11-03 01:00:00    2\n",
              "Name: count, dtype: int64"
            ]
          },
          "execution_count": 23,
          "metadata": {},
          "output_type": "execute_result"
        }
      ],
      "source": [
        "hour_counts = df['hour_beginning'].value_counts()\n",
        "hour_counts.loc[hour_counts > 1]"
      ]
    },
    {
      "cell_type": "markdown",
      "id": "zceIWPW9-pT7",
      "metadata": {
        "id": "zceIWPW9-pT7"
      },
      "source": [
        "It seems to happen exactly once. Let’s filter the dataframe to find the\n",
        "rows corresponding to the duplicate day.\n",
        "\n",
        "Here’s a useful clue - we can see that this hour appears twice because\n",
        "the clock is shifted for Daylight Savings time. (It’s not clear why\n",
        "there is no duplicate hour for that same event in 2017. Perhaps only one\n",
        "of those hours is recorded.)"
      ]
    },
    {
      "cell_type": "code",
      "execution_count": 24,
      "id": "t65xLpHl-pT7",
      "metadata": {
        "id": "t65xLpHl-pT7"
      },
      "outputs": [
        {
          "data": {
            "text/html": [
              "<div>\n",
              "<style scoped>\n",
              "    .dataframe tbody tr th:only-of-type {\n",
              "        vertical-align: middle;\n",
              "    }\n",
              "\n",
              "    .dataframe tbody tr th {\n",
              "        vertical-align: top;\n",
              "    }\n",
              "\n",
              "    .dataframe thead th {\n",
              "        text-align: right;\n",
              "    }\n",
              "</style>\n",
              "<table border=\"1\" class=\"dataframe\">\n",
              "  <thead>\n",
              "    <tr style=\"text-align: right;\">\n",
              "      <th></th>\n",
              "      <th>hour_beginning</th>\n",
              "      <th>location</th>\n",
              "      <th>Pedestrians</th>\n",
              "      <th>Towards Manhattan</th>\n",
              "      <th>Towards Brooklyn</th>\n",
              "      <th>weather_summary</th>\n",
              "      <th>temperature</th>\n",
              "      <th>precipitation</th>\n",
              "      <th>lat</th>\n",
              "      <th>long</th>\n",
              "      <th>events</th>\n",
              "      <th>Location1</th>\n",
              "      <th>hour</th>\n",
              "      <th>month</th>\n",
              "      <th>date</th>\n",
              "      <th>day_name</th>\n",
              "    </tr>\n",
              "  </thead>\n",
              "  <tbody>\n",
              "    <tr>\n",
              "      <th>701</th>\n",
              "      <td>2019-11-03 01:00:00</td>\n",
              "      <td>Brooklyn Bridge</td>\n",
              "      <td>0</td>\n",
              "      <td>0</td>\n",
              "      <td>0</td>\n",
              "      <td>NaN</td>\n",
              "      <td>NaN</td>\n",
              "      <td>NaN</td>\n",
              "      <td>40.708164</td>\n",
              "      <td>-73.999509</td>\n",
              "      <td>Daylight Saving Time ends</td>\n",
              "      <td>(40.7081639691088, -73.9995087014816)</td>\n",
              "      <td>1</td>\n",
              "      <td>11</td>\n",
              "      <td>2019-11-03</td>\n",
              "      <td>Sunday</td>\n",
              "    </tr>\n",
              "    <tr>\n",
              "      <th>3019</th>\n",
              "      <td>2019-11-03 01:00:00</td>\n",
              "      <td>Brooklyn Bridge</td>\n",
              "      <td>1</td>\n",
              "      <td>0</td>\n",
              "      <td>1</td>\n",
              "      <td>clear-night</td>\n",
              "      <td>44.0</td>\n",
              "      <td>0.0</td>\n",
              "      <td>40.708164</td>\n",
              "      <td>-73.999509</td>\n",
              "      <td>Daylight Saving Time ends</td>\n",
              "      <td>(40.7081639691088, -73.9995087014816)</td>\n",
              "      <td>1</td>\n",
              "      <td>11</td>\n",
              "      <td>2019-11-03</td>\n",
              "      <td>Sunday</td>\n",
              "    </tr>\n",
              "  </tbody>\n",
              "</table>\n",
              "</div>"
            ],
            "text/plain": [
              "          hour_beginning         location  Pedestrians  Towards Manhattan  \\\n",
              "701  2019-11-03 01:00:00  Brooklyn Bridge            0                  0   \n",
              "3019 2019-11-03 01:00:00  Brooklyn Bridge            1                  0   \n",
              "\n",
              "      Towards Brooklyn weather_summary  temperature  precipitation        lat  \\\n",
              "701                  0             NaN          NaN            NaN  40.708164   \n",
              "3019                 1     clear-night         44.0            0.0  40.708164   \n",
              "\n",
              "           long                     events  \\\n",
              "701  -73.999509  Daylight Saving Time ends   \n",
              "3019 -73.999509  Daylight Saving Time ends   \n",
              "\n",
              "                                  Location1  hour  month        date day_name  \n",
              "701   (40.7081639691088, -73.9995087014816)     1     11  2019-11-03   Sunday  \n",
              "3019  (40.7081639691088, -73.9995087014816)     1     11  2019-11-03   Sunday  "
            ]
          },
          "execution_count": 24,
          "metadata": {},
          "output_type": "execute_result"
        }
      ],
      "source": [
        "df.loc[df['hour_beginning']==\"2019-11-03 01:00:00\"]"
      ]
    },
    {
      "cell_type": "markdown",
      "id": "nLFKcS8x-pT8",
      "metadata": {
        "id": "nLFKcS8x-pT8"
      },
      "source": [
        "#### Handle missing values"
      ]
    },
    {
      "cell_type": "markdown",
      "id": "4QmXQl6C-pT8",
      "metadata": {
        "id": "4QmXQl6C-pT8"
      },
      "source": [
        "Now that we have evaluated the “completeness” of our data, we have to\n",
        "decide what to do about missing values.\n",
        "\n",
        "Some machine learning models cannot tolerate data with missing values.\n",
        "Depending on what *type* of data is missing and *why* it is missing, we\n",
        "can\n",
        "\n",
        "-   drop rows with missing values from the dataset\n",
        "-   fill in (“impute”) the missing values with some value: a 0, the mode\n",
        "    of that column, the median of that column, or forward/back fill data\n",
        "    from the nearest row that is not missing"
      ]
    },
    {
      "cell_type": "markdown",
      "id": "lJ0T51t--pT8",
      "metadata": {
        "id": "lJ0T51t--pT8"
      },
      "source": [
        "For this data, let’s try the forward/back fill method. This makes some\n",
        "sense because the data has a logical order in time, and the missing\n",
        "value - weather - changes relatively slowly with respect to time. We can\n",
        "expect that the weather at any given hour is probably similar to the\n",
        "weather in the previous (or next) hour.\n",
        "\n",
        "For this to work, we’ll first have to sort the data by time. (Note that\n",
        "the data was not sorted originally.)"
      ]
    },
    {
      "cell_type": "code",
      "execution_count": 25,
      "id": "IEGmEtaY-pT8",
      "metadata": {
        "id": "IEGmEtaY-pT8"
      },
      "outputs": [
        {
          "data": {
            "text/html": [
              "<div>\n",
              "<style scoped>\n",
              "    .dataframe tbody tr th:only-of-type {\n",
              "        vertical-align: middle;\n",
              "    }\n",
              "\n",
              "    .dataframe tbody tr th {\n",
              "        vertical-align: top;\n",
              "    }\n",
              "\n",
              "    .dataframe thead th {\n",
              "        text-align: right;\n",
              "    }\n",
              "</style>\n",
              "<table border=\"1\" class=\"dataframe\">\n",
              "  <thead>\n",
              "    <tr style=\"text-align: right;\">\n",
              "      <th></th>\n",
              "      <th>hour_beginning</th>\n",
              "      <th>location</th>\n",
              "      <th>Pedestrians</th>\n",
              "      <th>Towards Manhattan</th>\n",
              "      <th>Towards Brooklyn</th>\n",
              "      <th>weather_summary</th>\n",
              "      <th>temperature</th>\n",
              "      <th>precipitation</th>\n",
              "      <th>lat</th>\n",
              "      <th>long</th>\n",
              "      <th>events</th>\n",
              "      <th>Location1</th>\n",
              "      <th>hour</th>\n",
              "      <th>month</th>\n",
              "      <th>date</th>\n",
              "      <th>day_name</th>\n",
              "    </tr>\n",
              "  </thead>\n",
              "  <tbody>\n",
              "    <tr>\n",
              "      <th>8846</th>\n",
              "      <td>2017-10-01 00:00:00</td>\n",
              "      <td>Brooklyn Bridge</td>\n",
              "      <td>44</td>\n",
              "      <td>30</td>\n",
              "      <td>14</td>\n",
              "      <td>clear-night</td>\n",
              "      <td>52.0</td>\n",
              "      <td>0.0001</td>\n",
              "      <td>40.708164</td>\n",
              "      <td>-73.999509</td>\n",
              "      <td>NaN</td>\n",
              "      <td>(40.7081639691088, -73.9995087014816)</td>\n",
              "      <td>0</td>\n",
              "      <td>10</td>\n",
              "      <td>2017-10-01</td>\n",
              "      <td>Sunday</td>\n",
              "    </tr>\n",
              "    <tr>\n",
              "      <th>9473</th>\n",
              "      <td>2017-10-01 01:00:00</td>\n",
              "      <td>Brooklyn Bridge</td>\n",
              "      <td>30</td>\n",
              "      <td>17</td>\n",
              "      <td>13</td>\n",
              "      <td>partly-cloudy-night</td>\n",
              "      <td>53.0</td>\n",
              "      <td>0.0002</td>\n",
              "      <td>40.708164</td>\n",
              "      <td>-73.999509</td>\n",
              "      <td>NaN</td>\n",
              "      <td>(40.7081639691088, -73.9995087014816)</td>\n",
              "      <td>1</td>\n",
              "      <td>10</td>\n",
              "      <td>2017-10-01</td>\n",
              "      <td>Sunday</td>\n",
              "    </tr>\n",
              "    <tr>\n",
              "      <th>10098</th>\n",
              "      <td>2017-10-01 02:00:00</td>\n",
              "      <td>Brooklyn Bridge</td>\n",
              "      <td>25</td>\n",
              "      <td>13</td>\n",
              "      <td>12</td>\n",
              "      <td>partly-cloudy-night</td>\n",
              "      <td>52.0</td>\n",
              "      <td>0.0000</td>\n",
              "      <td>40.708164</td>\n",
              "      <td>-73.999509</td>\n",
              "      <td>NaN</td>\n",
              "      <td>(40.7081639691088, -73.9995087014816)</td>\n",
              "      <td>2</td>\n",
              "      <td>10</td>\n",
              "      <td>2017-10-01</td>\n",
              "      <td>Sunday</td>\n",
              "    </tr>\n",
              "    <tr>\n",
              "      <th>10733</th>\n",
              "      <td>2017-10-01 03:00:00</td>\n",
              "      <td>Brooklyn Bridge</td>\n",
              "      <td>20</td>\n",
              "      <td>11</td>\n",
              "      <td>9</td>\n",
              "      <td>partly-cloudy-night</td>\n",
              "      <td>51.0</td>\n",
              "      <td>0.0000</td>\n",
              "      <td>40.708164</td>\n",
              "      <td>-73.999509</td>\n",
              "      <td>NaN</td>\n",
              "      <td>(40.7081639691088, -73.9995087014816)</td>\n",
              "      <td>3</td>\n",
              "      <td>10</td>\n",
              "      <td>2017-10-01</td>\n",
              "      <td>Sunday</td>\n",
              "    </tr>\n",
              "    <tr>\n",
              "      <th>11527</th>\n",
              "      <td>2017-10-01 04:00:00</td>\n",
              "      <td>Brooklyn Bridge</td>\n",
              "      <td>18</td>\n",
              "      <td>10</td>\n",
              "      <td>8</td>\n",
              "      <td>partly-cloudy-night</td>\n",
              "      <td>51.0</td>\n",
              "      <td>0.0000</td>\n",
              "      <td>40.708164</td>\n",
              "      <td>-73.999509</td>\n",
              "      <td>NaN</td>\n",
              "      <td>(40.7081639691088, -73.9995087014816)</td>\n",
              "      <td>4</td>\n",
              "      <td>10</td>\n",
              "      <td>2017-10-01</td>\n",
              "      <td>Sunday</td>\n",
              "    </tr>\n",
              "  </tbody>\n",
              "</table>\n",
              "</div>"
            ],
            "text/plain": [
              "           hour_beginning         location  Pedestrians  Towards Manhattan  \\\n",
              "8846  2017-10-01 00:00:00  Brooklyn Bridge           44                 30   \n",
              "9473  2017-10-01 01:00:00  Brooklyn Bridge           30                 17   \n",
              "10098 2017-10-01 02:00:00  Brooklyn Bridge           25                 13   \n",
              "10733 2017-10-01 03:00:00  Brooklyn Bridge           20                 11   \n",
              "11527 2017-10-01 04:00:00  Brooklyn Bridge           18                 10   \n",
              "\n",
              "       Towards Brooklyn      weather_summary  temperature  precipitation  \\\n",
              "8846                 14          clear-night         52.0         0.0001   \n",
              "9473                 13  partly-cloudy-night         53.0         0.0002   \n",
              "10098                12  partly-cloudy-night         52.0         0.0000   \n",
              "10733                 9  partly-cloudy-night         51.0         0.0000   \n",
              "11527                 8  partly-cloudy-night         51.0         0.0000   \n",
              "\n",
              "             lat       long events                              Location1  \\\n",
              "8846   40.708164 -73.999509    NaN  (40.7081639691088, -73.9995087014816)   \n",
              "9473   40.708164 -73.999509    NaN  (40.7081639691088, -73.9995087014816)   \n",
              "10098  40.708164 -73.999509    NaN  (40.7081639691088, -73.9995087014816)   \n",
              "10733  40.708164 -73.999509    NaN  (40.7081639691088, -73.9995087014816)   \n",
              "11527  40.708164 -73.999509    NaN  (40.7081639691088, -73.9995087014816)   \n",
              "\n",
              "       hour  month        date day_name  \n",
              "8846      0     10  2017-10-01   Sunday  \n",
              "9473      1     10  2017-10-01   Sunday  \n",
              "10098     2     10  2017-10-01   Sunday  \n",
              "10733     3     10  2017-10-01   Sunday  \n",
              "11527     4     10  2017-10-01   Sunday  "
            ]
          },
          "execution_count": 25,
          "metadata": {},
          "output_type": "execute_result"
        }
      ],
      "source": [
        "df = df.sort_values(by='hour_beginning')\n",
        "df.head()"
      ]
    },
    {
      "cell_type": "markdown",
      "id": "M61WqDG3-pT8",
      "metadata": {
        "id": "M61WqDG3-pT8"
      },
      "source": [
        "We can also “reset” the index now, so that if we ask for `df.loc[0]`\n",
        "we’ll get the first row in time, and so on."
      ]
    },
    {
      "cell_type": "code",
      "execution_count": null,
      "id": "VnvVEGag-pT8",
      "metadata": {
        "id": "VnvVEGag-pT8"
      },
      "outputs": [],
      "source": [
        "df.reset_index(drop=True, inplace=True)\n",
        "df.head()"
      ]
    },
    {
      "cell_type": "markdown",
      "id": "8mkH8HTT-pT9",
      "metadata": {
        "id": "8mkH8HTT-pT9"
      },
      "source": [
        "Now we can fill in missing data using the `fillna` function\n",
        "([reference](https://pandas.pydata.org/pandas-docs/stable/reference/api/pandas.DataFrame.fillna.html)).\n",
        "We will fill the missing weather data using the “forward fill” method,\n",
        "which caries the last valid observation forward to fill in NAs."
      ]
    },
    {
      "cell_type": "code",
      "execution_count": null,
      "id": "9bDAK2qt-pT9",
      "metadata": {
        "id": "9bDAK2qt-pT9"
      },
      "outputs": [],
      "source": [
        "df['temperature'] = df['temperature'].fillna(method=\"ffill\")\n",
        "df['precipitation'] = df['precipitation'].fillna(method=\"ffill\")\n",
        "df['weather_summary'] = df['weather_summary'].fillna(method=\"ffill\")\n"
      ]
    },
    {
      "cell_type": "markdown",
      "id": "CsgU-IFz-pT9",
      "metadata": {
        "id": "CsgU-IFz-pT9"
      },
      "source": [
        "Having imputed missing vaules in the weather-related columns, we can\n",
        "count the NAs again and find that there are only missing values in the\n",
        "`events` column."
      ]
    },
    {
      "cell_type": "code",
      "execution_count": null,
      "id": "5hvh_eue-pT9",
      "metadata": {
        "id": "5hvh_eue-pT9"
      },
      "outputs": [],
      "source": [
        "df.isnull().sum()"
      ]
    },
    {
      "cell_type": "markdown",
      "id": "mXq4KtfG-pT9",
      "metadata": {
        "id": "mXq4KtfG-pT9"
      },
      "source": [
        "#### Validating expectations"
      ]
    },
    {
      "cell_type": "markdown",
      "id": "iucEkqg7-pT-",
      "metadata": {
        "id": "iucEkqg7-pT-"
      },
      "source": [
        "Now that we have some idea of the completeness of the data, let’s look\n",
        "at whether the data values are consistent with our expectations.\n",
        "\n",
        "To start, let’s look at summary statistics. The “five number summary” -\n",
        "extremes (min and max), median, and quartiles -can help us gain a better\n",
        "understanding of numeric fields in the data, and see whether they have\n",
        "reasonable values. We can use the `describe` function in `pandas` to\n",
        "compute this summary."
      ]
    },
    {
      "cell_type": "code",
      "execution_count": null,
      "id": "kNUbTaBV-pT-",
      "metadata": {
        "id": "kNUbTaBV-pT-"
      },
      "outputs": [],
      "source": [
        "df.describe()"
      ]
    },
    {
      "cell_type": "markdown",
      "id": "taphdMV3-pT-",
      "metadata": {
        "id": "taphdMV3-pT-"
      },
      "source": [
        "We can only compute those summary statistics for numerical variables.\n",
        "For categorical variables, we can use `value_counts()` to get frequency\n",
        "of each value.\n",
        "\n",
        "For example, let’s see how often each `weather` condition occurs, and\n",
        "whether it is reasonable for NYC:"
      ]
    },
    {
      "cell_type": "code",
      "execution_count": null,
      "id": "l11MHMTt-pT-",
      "metadata": {
        "id": "l11MHMTt-pT-"
      },
      "outputs": [],
      "source": [
        "df.weather_summary.value_counts()"
      ]
    },
    {
      "cell_type": "markdown",
      "id": "Oot7Y8gE-pT-",
      "metadata": {
        "id": "Oot7Y8gE-pT-"
      },
      "source": [
        "It’s also useful to verify expected relationships.\n",
        "\n",
        "For example, we expect to see precipitation when the weather is rainy.\n",
        "We can use `groupby` in `pandas` to capture the effect between a\n",
        "categorical variable (`weather_summary`) and a numerical one,\n",
        "`precipitation`:"
      ]
    },
    {
      "cell_type": "code",
      "execution_count": null,
      "id": "0GJc7dsf-pT-",
      "metadata": {
        "id": "0GJc7dsf-pT-"
      },
      "outputs": [],
      "source": [
        "df.groupby('weather_summary')['precipitation'].describe()"
      ]
    },
    {
      "cell_type": "markdown",
      "id": "nOdMUEF2-pT_",
      "metadata": {
        "id": "nOdMUEF2-pT_"
      },
      "source": [
        "Make special note of the `count` column, which shows us the prevalence\n",
        "of different weather conditions in this dataset. There are some weather\n",
        "conditions for which we have very few examples."
      ]
    },
    {
      "cell_type": "markdown",
      "id": "svaAnzjq-pT_",
      "metadata": {
        "id": "svaAnzjq-pT_"
      },
      "source": [
        "Similarly, we can validate our expectation of hotter weather in the\n",
        "summer months:"
      ]
    },
    {
      "cell_type": "code",
      "execution_count": null,
      "id": "oUlErdMG-pT_",
      "metadata": {
        "id": "oUlErdMG-pT_"
      },
      "outputs": [],
      "source": [
        "df.groupby('month')['temperature'].describe()"
      ]
    },
    {
      "cell_type": "markdown",
      "id": "gSv4O2k5-pT_",
      "metadata": {
        "id": "gSv4O2k5-pT_"
      },
      "source": [
        "as well as during the middle of the day:"
      ]
    },
    {
      "cell_type": "code",
      "execution_count": null,
      "id": "-tfc4rcG-pT_",
      "metadata": {
        "id": "-tfc4rcG-pT_"
      },
      "outputs": [],
      "source": [
        "df.groupby('hour')['temperature'].describe()"
      ]
    },
    {
      "cell_type": "markdown",
      "id": "9s7frYS--pUA",
      "metadata": {
        "id": "9s7frYS--pUA"
      },
      "source": [
        "#### Create a pairplot"
      ]
    },
    {
      "cell_type": "markdown",
      "id": "BKvY-ubz-pUA",
      "metadata": {
        "id": "BKvY-ubz-pUA"
      },
      "source": [
        "For tabular data with multiple numeric features, it is often useful to\n",
        "create a *pairplot*. A pairplot shows pairwise relationships between all\n",
        "numerical variables. It is a useful way to identify variables that have\n",
        "a relationship."
      ]
    },
    {
      "cell_type": "markdown",
      "id": "sjqSrnah-pUA",
      "metadata": {
        "id": "sjqSrnah-pUA"
      },
      "source": [
        "We can create a “default” pairplot with"
      ]
    },
    {
      "cell_type": "code",
      "execution_count": null,
      "id": "izHkLDjA-pUA",
      "metadata": {
        "id": "izHkLDjA-pUA"
      },
      "outputs": [],
      "source": [
        "sns.pairplot(df)"
      ]
    },
    {
      "cell_type": "markdown",
      "id": "VgggNZOQ-pUA",
      "metadata": {
        "id": "VgggNZOQ-pUA"
      },
      "source": [
        "Here, each pane shows one numerical variable on the x-axis and another\n",
        "numerical variable on the y-axis, so that we can see if a relationship\n",
        "exists between them. The panes along the diagonal shows the empirical\n",
        "distribution of values for each feature in this data."
      ]
    },
    {
      "cell_type": "markdown",
      "id": "A-vsziYa-pUA",
      "metadata": {
        "id": "A-vsziYa-pUA"
      },
      "source": [
        "But, it is difficult to see anything useful because there is so much\n",
        "going on in this plot. We can improve things somewhat by:\n",
        "\n",
        "-   specifying only the variables we want to include, and exluding\n",
        "    variables that don’t contain useful information, such as `lat` and\n",
        "    `long`, and\n",
        "-   making the points on the plot smaller and partially transparent, to\n",
        "    help with the overplotting.\n",
        "\n",
        "We’ll also change the histograms on the diagonal, which show the\n",
        "frequency of values for each variable, into a density plot which shows\n",
        "the same information in a more useful format."
      ]
    },
    {
      "cell_type": "code",
      "execution_count": null,
      "id": "PTNtR3vC-pUB",
      "metadata": {
        "id": "PTNtR3vC-pUB"
      },
      "outputs": [],
      "source": [
        "sns.pairplot(df,\n",
        "             vars=['Pedestrians', 'temperature', 'precipitation', 'hour', 'month'],\n",
        "             diag_kind = 'kde',\n",
        "             plot_kws={'alpha':0.5, 'size': 0.1})"
      ]
    },
    {
      "cell_type": "markdown",
      "id": "BU0kGOiP-pUB",
      "metadata": {
        "id": "BU0kGOiP-pUB"
      },
      "source": [
        "This plot validates the relationship between `temperature` and `hour`,\n",
        "and between `temperature` and `month`. However, we can also use this\n",
        "plot to identify useful features - features that appear to be related to\n",
        "the `target` variable."
      ]
    },
    {
      "cell_type": "markdown",
      "id": "c2M4YmGh-pUB",
      "metadata": {
        "id": "c2M4YmGh-pUB"
      },
      "source": [
        "### Explore relationships and identify target variable and features"
      ]
    },
    {
      "cell_type": "markdown",
      "id": "Yq5tgJBb-pUB",
      "metadata": {
        "id": "Yq5tgJBb-pUB"
      },
      "source": [
        "Finally, since our goal is to train a machine learning model, we want to\n",
        "identify:\n",
        "\n",
        "-   an appropriate target variable - something on which to train our\n",
        "    model. (Either a direct target variable, or a proxy.)\n",
        "-   features that are predictive - if there is any noticeable\n",
        "    relationship between the target variable and any other variable,\n",
        "    this is likely to be a useful feature.\n",
        "-   features that are correlated with one another - if two features are\n",
        "    highly correlated, this presents some difficulty to certain types of\n",
        "    models, so we’ll want to know about it."
      ]
    },
    {
      "cell_type": "markdown",
      "id": "k3l55L26-pUC",
      "metadata": {
        "id": "k3l55L26-pUC"
      },
      "source": [
        "The `Pedestrians` variable is the obvious target variable for this\n",
        "learning problem: it’s exactly the quantity we want to predict."
      ]
    },
    {
      "cell_type": "markdown",
      "id": "ZyJbhM2p-pUD",
      "metadata": {
        "id": "ZyJbhM2p-pUD"
      },
      "source": [
        "To identify potential predictive features among the numeric variables in\n",
        "the data, we can use the pairplot. Look at the row of the pairplot in\n",
        "which `Pedestrians` is on the vertical axis, and each of the other\n",
        "variables in turn is on the horizontal axis. Which of these seem to show\n",
        "a relationship? (Note: the relationship does not necessarily need to be\n",
        "a linear relationship.)"
      ]
    },
    {
      "cell_type": "markdown",
      "id": "KI8cKOuK-pUD",
      "metadata": {
        "id": "KI8cKOuK-pUD"
      },
      "source": [
        "We will also want to evaluate the categorical variables. For example, to\n",
        "look for a relationship between day of the week and pedestrian volume,\n",
        "we can group by `day_name`, then call the `describe` function on the\n",
        "`Pedestrians` column:"
      ]
    },
    {
      "cell_type": "code",
      "execution_count": null,
      "id": "aE1yWbvJ-pUE",
      "metadata": {
        "id": "aE1yWbvJ-pUE"
      },
      "outputs": [],
      "source": [
        "df.groupby('day_name')['Pedestrians'].describe()"
      ]
    },
    {
      "cell_type": "markdown",
      "id": "PP128dC3-pUE",
      "metadata": {
        "id": "PP128dC3-pUE"
      },
      "source": [
        "Similarly, we can see the effect of weather:"
      ]
    },
    {
      "cell_type": "code",
      "execution_count": null,
      "id": "452sLr2I-pUE",
      "metadata": {
        "id": "452sLr2I-pUE"
      },
      "outputs": [],
      "source": [
        "df.groupby('weather_summary')['Pedestrians'].describe()"
      ]
    },
    {
      "cell_type": "markdown",
      "id": "_32MnFVB-pUE",
      "metadata": {
        "id": "_32MnFVB-pUE"
      },
      "source": [
        "And the effect of various holidays:"
      ]
    },
    {
      "cell_type": "code",
      "execution_count": null,
      "id": "zQhrT_Xi-pUE",
      "metadata": {
        "id": "zQhrT_Xi-pUE"
      },
      "outputs": [],
      "source": [
        "df.groupby('events')['Pedestrians'].describe()"
      ]
    },
    {
      "cell_type": "markdown",
      "id": "BoGCQtld-pUF",
      "metadata": {
        "id": "BoGCQtld-pUF"
      },
      "source": [
        "Now armed with information about these relationships, we can identify\n",
        "good candidate features for a machine learning model."
      ]
    }
  ],
  "metadata": {
    "colab": {
      "include_colab_link": true,
      "provenance": []
    },
    "kernelspec": {
      "display_name": "Python 3",
      "language": "python",
      "name": "python3"
    },
    "language_info": {
      "codemirror_mode": {
        "name": "ipython",
        "version": 3
      },
      "file_extension": ".py",
      "mimetype": "text/x-python",
      "name": "python",
      "nbconvert_exporter": "python",
      "pygments_lexer": "ipython3",
      "version": "3.9.13"
    }
  },
  "nbformat": 4,
  "nbformat_minor": 5
}
