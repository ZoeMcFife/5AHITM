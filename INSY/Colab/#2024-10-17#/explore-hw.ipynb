{
  "cells": [
    {
      "cell_type": "markdown",
      "metadata": {
        "colab_type": "text",
        "id": "view-in-github"
      },
      "source": [
        "<a href=\"https://colab.research.google.com/github/ZoeMcFife/5AHITM/blob/main/INSY/Colab/%232024-10-17%23/explore-hw.ipynb\" target=\"_parent\"><img src=\"https://colab.research.google.com/assets/colab-badge.svg\" alt=\"Open In Colab\"/></a>"
      ]
    },
    {
      "cell_type": "markdown",
      "id": "Vu0Ev3_i4JBE",
      "metadata": {
        "id": "Vu0Ev3_i4JBE"
      },
      "source": [
        "Assignment: Exploratory data analysis\n",
        "=====================================\n",
        "\n",
        "**TODO**: Edit this cell to fill in your name:\n",
        "\n",
        "-   **Name**: Bunea"
      ]
    },
    {
      "cell_type": "markdown",
      "id": "7_oAb8_w4JBF",
      "metadata": {
        "id": "7_oAb8_w4JBF"
      },
      "source": [
        "Introduction\n",
        "------------\n",
        "\n",
        "In this assignment, we will practice using exploratory data analysis on\n",
        "Google’s COVID-19 Community Mobility data.\n",
        "\n",
        "This data was collected from Google Maps users around the world over the\n",
        "last few months - including you, *if* you have Google Maps on your phone\n",
        "and have turned on the Location History setting. It combines location\n",
        "history from a large number of users to capture the overall increase or\n",
        "decrease in time spent in places such as: retail and recreation\n",
        "facilities, groceries and pharmacies, parks, transit stations,\n",
        "workplaces, and residences.\n",
        "\n",
        "The data shows how users’ mobility patterns - what types of places they\n",
        "spend time in - varied over the course of the COVID-19 pandemic.\n",
        "\n",
        "As you work through this notebook, you will see that some text and code\n",
        "cells are marked with a “TODO” at the top. You’ll have to edit these\n",
        "cells to fill in the code or answer the questions as indicated.\n",
        "\n",
        "When you are finished, make sure you have run all of the cells in the\n",
        "notebook (in order), and then create a PDF from it. Submit the PDF on\n",
        "Gradescope.\n",
        "\n",
        "**Important note**: You won’t necessarily have learned or seen in\n",
        "advance how to use all the Python commands and library functions you\n",
        "need to complete this assignment. That’s OK. Part of the learning\n",
        "objective here is to practice finding and applying that kind of new\n",
        "information as you go! Use the library documentation, search the\n",
        "Internet, or ask questions on Ed if you need any help."
      ]
    },
    {
      "cell_type": "markdown",
      "id": "KOJASB7E4JBG",
      "metadata": {
        "id": "KOJASB7E4JBG"
      },
      "source": [
        "Learn about the data\n",
        "--------------------\n",
        "\n",
        "First, it is worthwhile to learn more about the data: how it is\n",
        "collected, what is included, how Google gets consent to collect this\n",
        "data, and how user privacy is protected. Google provides several\n",
        "resources for learning about the data:\n",
        "\n",
        "-   [Blog\n",
        "    post](https://www.blog.google/technology/health/covid-19-community-mobility-reports?hl=en)\n",
        "-   [About this\n",
        "    data](https://www.google.com/covid19/mobility/data_documentation.html?hl=en#about-this-data)\n",
        "-   [Understand the\n",
        "    data](https://support.google.com/covid19-mobility/answer/9825414?hl=en&ref_topic=9822927)"
      ]
    },
    {
      "cell_type": "markdown",
      "id": "_E5qwAw74JBH",
      "metadata": {
        "id": "_E5qwAw74JBH"
      },
      "source": [
        "Read in data\n",
        "------------\n",
        "\n",
        "Now you are ready to read the data into your notebook.\n",
        "\n",
        "Visit Google’s web page for the [COVID-19 Community\n",
        "Mobility](https://www.google.com/covid19/mobility/) project to get the\n",
        "URL for the data.\n",
        "\n",
        "(Specific instructions will depend on your browser and operating system,\n",
        "but on my laptop, I can get the URL by right-clicking on the button that\n",
        "says “Download global CSV” and choosing “Copy Link Address”.)\n",
        "\n",
        "Then, in the following cells, use that URL to read the data into a\n",
        "pandas Data Frame called `df`. (You can follow the example in the\n",
        "“Exploratory data analysis” notebook from this week’s lesson.)"
      ]
    },
    {
      "cell_type": "code",
      "execution_count": 1,
      "id": "sgSiYVh04JBH",
      "metadata": {
        "id": "sgSiYVh04JBH"
      },
      "outputs": [],
      "source": [
        "import pandas as pd\n",
        "import seaborn as sns\n",
        "import matplotlib.pyplot as plt"
      ]
    },
    {
      "cell_type": "code",
      "execution_count": 2,
      "id": "OhVh6ynR4JBI",
      "metadata": {
        "id": "OhVh6ynR4JBI"
      },
      "outputs": [
        {
          "ename": "KeyboardInterrupt",
          "evalue": "",
          "output_type": "error",
          "traceback": [
            "\u001b[1;31m---------------------------------------------------------------------------\u001b[0m",
            "\u001b[1;31mKeyboardInterrupt\u001b[0m                         Traceback (most recent call last)",
            "Cell \u001b[1;32mIn[2], line 3\u001b[0m\n\u001b[0;32m      1\u001b[0m \u001b[38;5;66;03m# TODO Q1\u001b[39;00m\n\u001b[0;32m      2\u001b[0m url \u001b[38;5;241m=\u001b[39m \u001b[38;5;124m\"\u001b[39m\u001b[38;5;124mhttps://www.gstatic.com/covid19/mobility/Global_Mobility_Report.csv\u001b[39m\u001b[38;5;124m\"\u001b[39m\n\u001b[1;32m----> 3\u001b[0m df \u001b[38;5;241m=\u001b[39m \u001b[43mpd\u001b[49m\u001b[38;5;241;43m.\u001b[39;49m\u001b[43mread_csv\u001b[49m\u001b[43m(\u001b[49m\u001b[43murl\u001b[49m\u001b[43m)\u001b[49m\n",
            "File \u001b[1;32m~\\AppData\\Local\\Packages\\PythonSoftwareFoundation.Python.3.9_qbz5n2kfra8p0\\LocalCache\\local-packages\\Python39\\site-packages\\pandas\\io\\parsers\\readers.py:1026\u001b[0m, in \u001b[0;36mread_csv\u001b[1;34m(filepath_or_buffer, sep, delimiter, header, names, index_col, usecols, dtype, engine, converters, true_values, false_values, skipinitialspace, skiprows, skipfooter, nrows, na_values, keep_default_na, na_filter, verbose, skip_blank_lines, parse_dates, infer_datetime_format, keep_date_col, date_parser, date_format, dayfirst, cache_dates, iterator, chunksize, compression, thousands, decimal, lineterminator, quotechar, quoting, doublequote, escapechar, comment, encoding, encoding_errors, dialect, on_bad_lines, delim_whitespace, low_memory, memory_map, float_precision, storage_options, dtype_backend)\u001b[0m\n\u001b[0;32m   1013\u001b[0m kwds_defaults \u001b[38;5;241m=\u001b[39m _refine_defaults_read(\n\u001b[0;32m   1014\u001b[0m     dialect,\n\u001b[0;32m   1015\u001b[0m     delimiter,\n\u001b[1;32m   (...)\u001b[0m\n\u001b[0;32m   1022\u001b[0m     dtype_backend\u001b[38;5;241m=\u001b[39mdtype_backend,\n\u001b[0;32m   1023\u001b[0m )\n\u001b[0;32m   1024\u001b[0m kwds\u001b[38;5;241m.\u001b[39mupdate(kwds_defaults)\n\u001b[1;32m-> 1026\u001b[0m \u001b[38;5;28;01mreturn\u001b[39;00m \u001b[43m_read\u001b[49m\u001b[43m(\u001b[49m\u001b[43mfilepath_or_buffer\u001b[49m\u001b[43m,\u001b[49m\u001b[43m \u001b[49m\u001b[43mkwds\u001b[49m\u001b[43m)\u001b[49m\n",
            "File \u001b[1;32m~\\AppData\\Local\\Packages\\PythonSoftwareFoundation.Python.3.9_qbz5n2kfra8p0\\LocalCache\\local-packages\\Python39\\site-packages\\pandas\\io\\parsers\\readers.py:620\u001b[0m, in \u001b[0;36m_read\u001b[1;34m(filepath_or_buffer, kwds)\u001b[0m\n\u001b[0;32m    617\u001b[0m _validate_names(kwds\u001b[38;5;241m.\u001b[39mget(\u001b[38;5;124m\"\u001b[39m\u001b[38;5;124mnames\u001b[39m\u001b[38;5;124m\"\u001b[39m, \u001b[38;5;28;01mNone\u001b[39;00m))\n\u001b[0;32m    619\u001b[0m \u001b[38;5;66;03m# Create the parser.\u001b[39;00m\n\u001b[1;32m--> 620\u001b[0m parser \u001b[38;5;241m=\u001b[39m TextFileReader(filepath_or_buffer, \u001b[38;5;241m*\u001b[39m\u001b[38;5;241m*\u001b[39mkwds)\n\u001b[0;32m    622\u001b[0m \u001b[38;5;28;01mif\u001b[39;00m chunksize \u001b[38;5;129;01mor\u001b[39;00m iterator:\n\u001b[0;32m    623\u001b[0m     \u001b[38;5;28;01mreturn\u001b[39;00m parser\n",
            "File \u001b[1;32m~\\AppData\\Local\\Packages\\PythonSoftwareFoundation.Python.3.9_qbz5n2kfra8p0\\LocalCache\\local-packages\\Python39\\site-packages\\pandas\\io\\parsers\\readers.py:1620\u001b[0m, in \u001b[0;36mTextFileReader.__init__\u001b[1;34m(self, f, engine, **kwds)\u001b[0m\n\u001b[0;32m   1617\u001b[0m     \u001b[38;5;28mself\u001b[39m\u001b[38;5;241m.\u001b[39moptions[\u001b[38;5;124m\"\u001b[39m\u001b[38;5;124mhas_index_names\u001b[39m\u001b[38;5;124m\"\u001b[39m] \u001b[38;5;241m=\u001b[39m kwds[\u001b[38;5;124m\"\u001b[39m\u001b[38;5;124mhas_index_names\u001b[39m\u001b[38;5;124m\"\u001b[39m]\n\u001b[0;32m   1619\u001b[0m \u001b[38;5;28mself\u001b[39m\u001b[38;5;241m.\u001b[39mhandles: IOHandles \u001b[38;5;241m|\u001b[39m \u001b[38;5;28;01mNone\u001b[39;00m \u001b[38;5;241m=\u001b[39m \u001b[38;5;28;01mNone\u001b[39;00m\n\u001b[1;32m-> 1620\u001b[0m \u001b[38;5;28mself\u001b[39m\u001b[38;5;241m.\u001b[39m_engine \u001b[38;5;241m=\u001b[39m \u001b[38;5;28;43mself\u001b[39;49m\u001b[38;5;241;43m.\u001b[39;49m\u001b[43m_make_engine\u001b[49m\u001b[43m(\u001b[49m\u001b[43mf\u001b[49m\u001b[43m,\u001b[49m\u001b[43m \u001b[49m\u001b[38;5;28;43mself\u001b[39;49m\u001b[38;5;241;43m.\u001b[39;49m\u001b[43mengine\u001b[49m\u001b[43m)\u001b[49m\n",
            "File \u001b[1;32m~\\AppData\\Local\\Packages\\PythonSoftwareFoundation.Python.3.9_qbz5n2kfra8p0\\LocalCache\\local-packages\\Python39\\site-packages\\pandas\\io\\parsers\\readers.py:1880\u001b[0m, in \u001b[0;36mTextFileReader._make_engine\u001b[1;34m(self, f, engine)\u001b[0m\n\u001b[0;32m   1878\u001b[0m     \u001b[38;5;28;01mif\u001b[39;00m \u001b[38;5;124m\"\u001b[39m\u001b[38;5;124mb\u001b[39m\u001b[38;5;124m\"\u001b[39m \u001b[38;5;129;01mnot\u001b[39;00m \u001b[38;5;129;01min\u001b[39;00m mode:\n\u001b[0;32m   1879\u001b[0m         mode \u001b[38;5;241m+\u001b[39m\u001b[38;5;241m=\u001b[39m \u001b[38;5;124m\"\u001b[39m\u001b[38;5;124mb\u001b[39m\u001b[38;5;124m\"\u001b[39m\n\u001b[1;32m-> 1880\u001b[0m \u001b[38;5;28mself\u001b[39m\u001b[38;5;241m.\u001b[39mhandles \u001b[38;5;241m=\u001b[39m \u001b[43mget_handle\u001b[49m\u001b[43m(\u001b[49m\n\u001b[0;32m   1881\u001b[0m \u001b[43m    \u001b[49m\u001b[43mf\u001b[49m\u001b[43m,\u001b[49m\n\u001b[0;32m   1882\u001b[0m \u001b[43m    \u001b[49m\u001b[43mmode\u001b[49m\u001b[43m,\u001b[49m\n\u001b[0;32m   1883\u001b[0m \u001b[43m    \u001b[49m\u001b[43mencoding\u001b[49m\u001b[38;5;241;43m=\u001b[39;49m\u001b[38;5;28;43mself\u001b[39;49m\u001b[38;5;241;43m.\u001b[39;49m\u001b[43moptions\u001b[49m\u001b[38;5;241;43m.\u001b[39;49m\u001b[43mget\u001b[49m\u001b[43m(\u001b[49m\u001b[38;5;124;43m\"\u001b[39;49m\u001b[38;5;124;43mencoding\u001b[39;49m\u001b[38;5;124;43m\"\u001b[39;49m\u001b[43m,\u001b[49m\u001b[43m \u001b[49m\u001b[38;5;28;43;01mNone\u001b[39;49;00m\u001b[43m)\u001b[49m\u001b[43m,\u001b[49m\n\u001b[0;32m   1884\u001b[0m \u001b[43m    \u001b[49m\u001b[43mcompression\u001b[49m\u001b[38;5;241;43m=\u001b[39;49m\u001b[38;5;28;43mself\u001b[39;49m\u001b[38;5;241;43m.\u001b[39;49m\u001b[43moptions\u001b[49m\u001b[38;5;241;43m.\u001b[39;49m\u001b[43mget\u001b[49m\u001b[43m(\u001b[49m\u001b[38;5;124;43m\"\u001b[39;49m\u001b[38;5;124;43mcompression\u001b[39;49m\u001b[38;5;124;43m\"\u001b[39;49m\u001b[43m,\u001b[49m\u001b[43m \u001b[49m\u001b[38;5;28;43;01mNone\u001b[39;49;00m\u001b[43m)\u001b[49m\u001b[43m,\u001b[49m\n\u001b[0;32m   1885\u001b[0m \u001b[43m    \u001b[49m\u001b[43mmemory_map\u001b[49m\u001b[38;5;241;43m=\u001b[39;49m\u001b[38;5;28;43mself\u001b[39;49m\u001b[38;5;241;43m.\u001b[39;49m\u001b[43moptions\u001b[49m\u001b[38;5;241;43m.\u001b[39;49m\u001b[43mget\u001b[49m\u001b[43m(\u001b[49m\u001b[38;5;124;43m\"\u001b[39;49m\u001b[38;5;124;43mmemory_map\u001b[39;49m\u001b[38;5;124;43m\"\u001b[39;49m\u001b[43m,\u001b[49m\u001b[43m \u001b[49m\u001b[38;5;28;43;01mFalse\u001b[39;49;00m\u001b[43m)\u001b[49m\u001b[43m,\u001b[49m\n\u001b[0;32m   1886\u001b[0m \u001b[43m    \u001b[49m\u001b[43mis_text\u001b[49m\u001b[38;5;241;43m=\u001b[39;49m\u001b[43mis_text\u001b[49m\u001b[43m,\u001b[49m\n\u001b[0;32m   1887\u001b[0m \u001b[43m    \u001b[49m\u001b[43merrors\u001b[49m\u001b[38;5;241;43m=\u001b[39;49m\u001b[38;5;28;43mself\u001b[39;49m\u001b[38;5;241;43m.\u001b[39;49m\u001b[43moptions\u001b[49m\u001b[38;5;241;43m.\u001b[39;49m\u001b[43mget\u001b[49m\u001b[43m(\u001b[49m\u001b[38;5;124;43m\"\u001b[39;49m\u001b[38;5;124;43mencoding_errors\u001b[39;49m\u001b[38;5;124;43m\"\u001b[39;49m\u001b[43m,\u001b[49m\u001b[43m \u001b[49m\u001b[38;5;124;43m\"\u001b[39;49m\u001b[38;5;124;43mstrict\u001b[39;49m\u001b[38;5;124;43m\"\u001b[39;49m\u001b[43m)\u001b[49m\u001b[43m,\u001b[49m\n\u001b[0;32m   1888\u001b[0m \u001b[43m    \u001b[49m\u001b[43mstorage_options\u001b[49m\u001b[38;5;241;43m=\u001b[39;49m\u001b[38;5;28;43mself\u001b[39;49m\u001b[38;5;241;43m.\u001b[39;49m\u001b[43moptions\u001b[49m\u001b[38;5;241;43m.\u001b[39;49m\u001b[43mget\u001b[49m\u001b[43m(\u001b[49m\u001b[38;5;124;43m\"\u001b[39;49m\u001b[38;5;124;43mstorage_options\u001b[39;49m\u001b[38;5;124;43m\"\u001b[39;49m\u001b[43m,\u001b[49m\u001b[43m \u001b[49m\u001b[38;5;28;43;01mNone\u001b[39;49;00m\u001b[43m)\u001b[49m\u001b[43m,\u001b[49m\n\u001b[0;32m   1889\u001b[0m \u001b[43m\u001b[49m\u001b[43m)\u001b[49m\n\u001b[0;32m   1890\u001b[0m \u001b[38;5;28;01massert\u001b[39;00m \u001b[38;5;28mself\u001b[39m\u001b[38;5;241m.\u001b[39mhandles \u001b[38;5;129;01mis\u001b[39;00m \u001b[38;5;129;01mnot\u001b[39;00m \u001b[38;5;28;01mNone\u001b[39;00m\n\u001b[0;32m   1891\u001b[0m f \u001b[38;5;241m=\u001b[39m \u001b[38;5;28mself\u001b[39m\u001b[38;5;241m.\u001b[39mhandles\u001b[38;5;241m.\u001b[39mhandle\n",
            "File \u001b[1;32m~\\AppData\\Local\\Packages\\PythonSoftwareFoundation.Python.3.9_qbz5n2kfra8p0\\LocalCache\\local-packages\\Python39\\site-packages\\pandas\\io\\common.py:728\u001b[0m, in \u001b[0;36mget_handle\u001b[1;34m(path_or_buf, mode, encoding, compression, memory_map, is_text, errors, storage_options)\u001b[0m\n\u001b[0;32m    725\u001b[0m     codecs\u001b[38;5;241m.\u001b[39mlookup_error(errors)\n\u001b[0;32m    727\u001b[0m \u001b[38;5;66;03m# open URLs\u001b[39;00m\n\u001b[1;32m--> 728\u001b[0m ioargs \u001b[38;5;241m=\u001b[39m \u001b[43m_get_filepath_or_buffer\u001b[49m\u001b[43m(\u001b[49m\n\u001b[0;32m    729\u001b[0m \u001b[43m    \u001b[49m\u001b[43mpath_or_buf\u001b[49m\u001b[43m,\u001b[49m\n\u001b[0;32m    730\u001b[0m \u001b[43m    \u001b[49m\u001b[43mencoding\u001b[49m\u001b[38;5;241;43m=\u001b[39;49m\u001b[43mencoding\u001b[49m\u001b[43m,\u001b[49m\n\u001b[0;32m    731\u001b[0m \u001b[43m    \u001b[49m\u001b[43mcompression\u001b[49m\u001b[38;5;241;43m=\u001b[39;49m\u001b[43mcompression\u001b[49m\u001b[43m,\u001b[49m\n\u001b[0;32m    732\u001b[0m \u001b[43m    \u001b[49m\u001b[43mmode\u001b[49m\u001b[38;5;241;43m=\u001b[39;49m\u001b[43mmode\u001b[49m\u001b[43m,\u001b[49m\n\u001b[0;32m    733\u001b[0m \u001b[43m    \u001b[49m\u001b[43mstorage_options\u001b[49m\u001b[38;5;241;43m=\u001b[39;49m\u001b[43mstorage_options\u001b[49m\u001b[43m,\u001b[49m\n\u001b[0;32m    734\u001b[0m \u001b[43m\u001b[49m\u001b[43m)\u001b[49m\n\u001b[0;32m    736\u001b[0m handle \u001b[38;5;241m=\u001b[39m ioargs\u001b[38;5;241m.\u001b[39mfilepath_or_buffer\n\u001b[0;32m    737\u001b[0m handles: \u001b[38;5;28mlist\u001b[39m[BaseBuffer]\n",
            "File \u001b[1;32m~\\AppData\\Local\\Packages\\PythonSoftwareFoundation.Python.3.9_qbz5n2kfra8p0\\LocalCache\\local-packages\\Python39\\site-packages\\pandas\\io\\common.py:389\u001b[0m, in \u001b[0;36m_get_filepath_or_buffer\u001b[1;34m(filepath_or_buffer, encoding, compression, mode, storage_options)\u001b[0m\n\u001b[0;32m    386\u001b[0m         \u001b[38;5;28;01mif\u001b[39;00m content_encoding \u001b[38;5;241m==\u001b[39m \u001b[38;5;124m\"\u001b[39m\u001b[38;5;124mgzip\u001b[39m\u001b[38;5;124m\"\u001b[39m:\n\u001b[0;32m    387\u001b[0m             \u001b[38;5;66;03m# Override compression based on Content-Encoding header\u001b[39;00m\n\u001b[0;32m    388\u001b[0m             compression \u001b[38;5;241m=\u001b[39m {\u001b[38;5;124m\"\u001b[39m\u001b[38;5;124mmethod\u001b[39m\u001b[38;5;124m\"\u001b[39m: \u001b[38;5;124m\"\u001b[39m\u001b[38;5;124mgzip\u001b[39m\u001b[38;5;124m\"\u001b[39m}\n\u001b[1;32m--> 389\u001b[0m         reader \u001b[38;5;241m=\u001b[39m BytesIO(\u001b[43mreq\u001b[49m\u001b[38;5;241;43m.\u001b[39;49m\u001b[43mread\u001b[49m\u001b[43m(\u001b[49m\u001b[43m)\u001b[49m)\n\u001b[0;32m    390\u001b[0m     \u001b[38;5;28;01mreturn\u001b[39;00m IOArgs(\n\u001b[0;32m    391\u001b[0m         filepath_or_buffer\u001b[38;5;241m=\u001b[39mreader,\n\u001b[0;32m    392\u001b[0m         encoding\u001b[38;5;241m=\u001b[39mencoding,\n\u001b[1;32m   (...)\u001b[0m\n\u001b[0;32m    395\u001b[0m         mode\u001b[38;5;241m=\u001b[39mfsspec_mode,\n\u001b[0;32m    396\u001b[0m     )\n\u001b[0;32m    398\u001b[0m \u001b[38;5;28;01mif\u001b[39;00m is_fsspec_url(filepath_or_buffer):\n",
            "File \u001b[1;32mC:\\Program Files\\WindowsApps\\PythonSoftwareFoundation.Python.3.9_3.9.3568.0_x64__qbz5n2kfra8p0\\lib\\http\\client.py:476\u001b[0m, in \u001b[0;36mHTTPResponse.read\u001b[1;34m(self, amt)\u001b[0m\n\u001b[0;32m    474\u001b[0m \u001b[38;5;28;01melse\u001b[39;00m:\n\u001b[0;32m    475\u001b[0m     \u001b[38;5;28;01mtry\u001b[39;00m:\n\u001b[1;32m--> 476\u001b[0m         s \u001b[38;5;241m=\u001b[39m \u001b[38;5;28;43mself\u001b[39;49m\u001b[38;5;241;43m.\u001b[39;49m\u001b[43m_safe_read\u001b[49m\u001b[43m(\u001b[49m\u001b[38;5;28;43mself\u001b[39;49m\u001b[38;5;241;43m.\u001b[39;49m\u001b[43mlength\u001b[49m\u001b[43m)\u001b[49m\n\u001b[0;32m    477\u001b[0m     \u001b[38;5;28;01mexcept\u001b[39;00m IncompleteRead:\n\u001b[0;32m    478\u001b[0m         \u001b[38;5;28mself\u001b[39m\u001b[38;5;241m.\u001b[39m_close_conn()\n",
            "File \u001b[1;32mC:\\Program Files\\WindowsApps\\PythonSoftwareFoundation.Python.3.9_3.9.3568.0_x64__qbz5n2kfra8p0\\lib\\http\\client.py:626\u001b[0m, in \u001b[0;36mHTTPResponse._safe_read\u001b[1;34m(self, amt)\u001b[0m\n\u001b[0;32m    624\u001b[0m s \u001b[38;5;241m=\u001b[39m []\n\u001b[0;32m    625\u001b[0m \u001b[38;5;28;01mwhile\u001b[39;00m amt \u001b[38;5;241m>\u001b[39m \u001b[38;5;241m0\u001b[39m:\n\u001b[1;32m--> 626\u001b[0m     chunk \u001b[38;5;241m=\u001b[39m \u001b[38;5;28;43mself\u001b[39;49m\u001b[38;5;241;43m.\u001b[39;49m\u001b[43mfp\u001b[49m\u001b[38;5;241;43m.\u001b[39;49m\u001b[43mread\u001b[49m\u001b[43m(\u001b[49m\u001b[38;5;28;43mmin\u001b[39;49m\u001b[43m(\u001b[49m\u001b[43mamt\u001b[49m\u001b[43m,\u001b[49m\u001b[43m \u001b[49m\u001b[43mMAXAMOUNT\u001b[49m\u001b[43m)\u001b[49m\u001b[43m)\u001b[49m\n\u001b[0;32m    627\u001b[0m     \u001b[38;5;28;01mif\u001b[39;00m \u001b[38;5;129;01mnot\u001b[39;00m chunk:\n\u001b[0;32m    628\u001b[0m         \u001b[38;5;28;01mraise\u001b[39;00m IncompleteRead(\u001b[38;5;124mb\u001b[39m\u001b[38;5;124m'\u001b[39m\u001b[38;5;124m'\u001b[39m\u001b[38;5;241m.\u001b[39mjoin(s), amt)\n",
            "File \u001b[1;32mC:\\Program Files\\WindowsApps\\PythonSoftwareFoundation.Python.3.9_3.9.3568.0_x64__qbz5n2kfra8p0\\lib\\socket.py:704\u001b[0m, in \u001b[0;36mSocketIO.readinto\u001b[1;34m(self, b)\u001b[0m\n\u001b[0;32m    702\u001b[0m \u001b[38;5;28;01mwhile\u001b[39;00m \u001b[38;5;28;01mTrue\u001b[39;00m:\n\u001b[0;32m    703\u001b[0m     \u001b[38;5;28;01mtry\u001b[39;00m:\n\u001b[1;32m--> 704\u001b[0m         \u001b[38;5;28;01mreturn\u001b[39;00m \u001b[38;5;28;43mself\u001b[39;49m\u001b[38;5;241;43m.\u001b[39;49m\u001b[43m_sock\u001b[49m\u001b[38;5;241;43m.\u001b[39;49m\u001b[43mrecv_into\u001b[49m\u001b[43m(\u001b[49m\u001b[43mb\u001b[49m\u001b[43m)\u001b[49m\n\u001b[0;32m    705\u001b[0m     \u001b[38;5;28;01mexcept\u001b[39;00m timeout:\n\u001b[0;32m    706\u001b[0m         \u001b[38;5;28mself\u001b[39m\u001b[38;5;241m.\u001b[39m_timeout_occurred \u001b[38;5;241m=\u001b[39m \u001b[38;5;28;01mTrue\u001b[39;00m\n",
            "File \u001b[1;32mC:\\Program Files\\WindowsApps\\PythonSoftwareFoundation.Python.3.9_3.9.3568.0_x64__qbz5n2kfra8p0\\lib\\ssl.py:1242\u001b[0m, in \u001b[0;36mSSLSocket.recv_into\u001b[1;34m(self, buffer, nbytes, flags)\u001b[0m\n\u001b[0;32m   1238\u001b[0m     \u001b[38;5;28;01mif\u001b[39;00m flags \u001b[38;5;241m!=\u001b[39m \u001b[38;5;241m0\u001b[39m:\n\u001b[0;32m   1239\u001b[0m         \u001b[38;5;28;01mraise\u001b[39;00m \u001b[38;5;167;01mValueError\u001b[39;00m(\n\u001b[0;32m   1240\u001b[0m           \u001b[38;5;124m\"\u001b[39m\u001b[38;5;124mnon-zero flags not allowed in calls to recv_into() on \u001b[39m\u001b[38;5;132;01m%s\u001b[39;00m\u001b[38;5;124m\"\u001b[39m \u001b[38;5;241m%\u001b[39m\n\u001b[0;32m   1241\u001b[0m           \u001b[38;5;28mself\u001b[39m\u001b[38;5;241m.\u001b[39m\u001b[38;5;18m__class__\u001b[39m)\n\u001b[1;32m-> 1242\u001b[0m     \u001b[38;5;28;01mreturn\u001b[39;00m \u001b[38;5;28;43mself\u001b[39;49m\u001b[38;5;241;43m.\u001b[39;49m\u001b[43mread\u001b[49m\u001b[43m(\u001b[49m\u001b[43mnbytes\u001b[49m\u001b[43m,\u001b[49m\u001b[43m \u001b[49m\u001b[43mbuffer\u001b[49m\u001b[43m)\u001b[49m\n\u001b[0;32m   1243\u001b[0m \u001b[38;5;28;01melse\u001b[39;00m:\n\u001b[0;32m   1244\u001b[0m     \u001b[38;5;28;01mreturn\u001b[39;00m \u001b[38;5;28msuper\u001b[39m()\u001b[38;5;241m.\u001b[39mrecv_into(buffer, nbytes, flags)\n",
            "File \u001b[1;32mC:\\Program Files\\WindowsApps\\PythonSoftwareFoundation.Python.3.9_3.9.3568.0_x64__qbz5n2kfra8p0\\lib\\ssl.py:1100\u001b[0m, in \u001b[0;36mSSLSocket.read\u001b[1;34m(self, len, buffer)\u001b[0m\n\u001b[0;32m   1098\u001b[0m \u001b[38;5;28;01mtry\u001b[39;00m:\n\u001b[0;32m   1099\u001b[0m     \u001b[38;5;28;01mif\u001b[39;00m buffer \u001b[38;5;129;01mis\u001b[39;00m \u001b[38;5;129;01mnot\u001b[39;00m \u001b[38;5;28;01mNone\u001b[39;00m:\n\u001b[1;32m-> 1100\u001b[0m         \u001b[38;5;28;01mreturn\u001b[39;00m \u001b[38;5;28;43mself\u001b[39;49m\u001b[38;5;241;43m.\u001b[39;49m\u001b[43m_sslobj\u001b[49m\u001b[38;5;241;43m.\u001b[39;49m\u001b[43mread\u001b[49m\u001b[43m(\u001b[49m\u001b[38;5;28;43mlen\u001b[39;49m\u001b[43m,\u001b[49m\u001b[43m \u001b[49m\u001b[43mbuffer\u001b[49m\u001b[43m)\u001b[49m\n\u001b[0;32m   1101\u001b[0m     \u001b[38;5;28;01melse\u001b[39;00m:\n\u001b[0;32m   1102\u001b[0m         \u001b[38;5;28;01mreturn\u001b[39;00m \u001b[38;5;28mself\u001b[39m\u001b[38;5;241m.\u001b[39m_sslobj\u001b[38;5;241m.\u001b[39mread(\u001b[38;5;28mlen\u001b[39m)\n",
            "\u001b[1;31mKeyboardInterrupt\u001b[0m: "
          ]
        }
      ],
      "source": [
        "# TODO Q1\n",
        "url = \"https://www.gstatic.com/covid19/mobility/Global_Mobility_Report.csv\"\n",
        "df = pd.read_csv(url)"
      ]
    },
    {
      "cell_type": "markdown",
      "id": "Gk8nMDfC4JBJ",
      "metadata": {
        "id": "Gk8nMDfC4JBJ"
      },
      "source": [
        "Use the `info()` and `head()` functions to show some basic information\n",
        "about the data and to look at the first few samples."
      ]
    },
    {
      "cell_type": "code",
      "execution_count": null,
      "id": "zP6FW-uc4JBJ",
      "metadata": {
        "id": "zP6FW-uc4JBJ"
      },
      "outputs": [],
      "source": [
        "# TODO Q2\n",
        "# use info()\n",
        "df.info()"
      ]
    },
    {
      "cell_type": "code",
      "execution_count": null,
      "id": "7tEa9ztf4JBK",
      "metadata": {
        "id": "7tEa9ztf4JBK"
      },
      "outputs": [],
      "source": [
        "# TODO Q3\n",
        "# use head()\n",
        "df.head()"
      ]
    },
    {
      "cell_type": "markdown",
      "id": "Td1I1Dmh4JBM",
      "metadata": {
        "id": "Td1I1Dmh4JBM"
      },
      "source": [
        "Basic data manipulations\n",
        "------------------------"
      ]
    },
    {
      "cell_type": "markdown",
      "id": "cvuWyRf84JBM",
      "metadata": {
        "id": "cvuWyRf84JBM"
      },
      "source": [
        "The data includes a date field, but it may have been read in as a\n",
        "string, rather than as a `datetime`. If that’s the case, use\n",
        "`to_datetime()` to convert the field into a datetime format. (You can\n",
        "follow the example in the “Exploratory data analysis” notebook from this\n",
        "week’s lesson.)\n",
        "\n",
        "Then, use `info()` again to make sure your change was applied. Note the\n",
        "difference in the output, relative to the cell above."
      ]
    },
    {
      "cell_type": "code",
      "execution_count": null,
      "id": "DUbqPw8T4JBN",
      "metadata": {
        "id": "DUbqPw8T4JBN"
      },
      "outputs": [],
      "source": [
        "# TODO Q4\n",
        "# df['date'] = ...\n"
      ]
    },
    {
      "cell_type": "markdown",
      "id": "eX37MmR94JBN",
      "metadata": {
        "id": "eX37MmR94JBN"
      },
      "source": [
        "Next, you are going to extract the subset of data for the U.S. state of\n",
        "your choice. You can choose any location *except* New York.\n",
        "\n",
        "The data is reported for different regions, with different levels of\n",
        "granularity available. This is best explained by example:\n",
        "\n",
        "Suppose I want the overall trend from the entire U.S. I would use the\n",
        "subset of data where `country_region` is equal to “United States” and\n",
        "`sub_region_1` is null:\n",
        "\n",
        "    df_subset = df[(df['country_region'].eq(\"United States\")) & (df['sub_region_1'].isnull())]\n",
        "\n",
        "Suppose I want the overall trend from the entire state of New York: I\n",
        "would use the subset of data where `country_region` is equal to “United\n",
        "States”, `sub_region_1` is equal to “New York”, and `sub_region_2` is\n",
        "null:\n",
        "\n",
        "    df_subset = df[(df['country_region'].eq(\"United States\")) & (df['sub_region_1'].eq(\"New York\")) & (df['sub_region_2'].isnull())]\n",
        "\n",
        "Suppose I want the overall trend from Brooklyn, New York (Kings County):\n",
        "I would use the subset of data where `country_region` is equal to\n",
        "“United States”, `sub_region_1` is equal to “New York”, and\n",
        "`sub_region_2` is equal to “Kings County”:\n",
        "\n",
        "    df_subset = df[(df['country_region'].eq(\"United States\")) & (df['sub_region_1'].eq(\"New York\")) & (df['sub_region_2'].eq(\"Kings County\"))]\n",
        "\n",
        "In the following cell(s), fill in the code to create a data frame\n",
        "`df_subset` with data from a single U.S. state (but *not* New York)."
      ]
    },
    {
      "cell_type": "code",
      "execution_count": null,
      "id": "ViX1XhhN4JBN",
      "metadata": {
        "id": "ViX1XhhN4JBN"
      },
      "outputs": [],
      "source": [
        "# TODO Q5\n",
        "# df_subset ="
      ]
    },
    {
      "cell_type": "markdown",
      "id": "IBcCzAaj4JBO",
      "metadata": {
        "id": "IBcCzAaj4JBO"
      },
      "source": [
        "Is the data complete, or is some data not available for the location you\n",
        "have chosen? In the following cell, write code to check for missing data\n",
        "in the `...percent_change_from_baseline` fields.\n",
        "\n",
        "Also check whether there are any missing rows of data. What date range\n",
        "is represented in this data? Is every day within that range included in\n",
        "the data?"
      ]
    },
    {
      "cell_type": "code",
      "execution_count": null,
      "id": "swhHNg4u4JBO",
      "metadata": {
        "id": "swhHNg4u4JBO"
      },
      "outputs": [],
      "source": [
        "# TODO Q6\n",
        "# df_subset"
      ]
    },
    {
      "cell_type": "markdown",
      "id": "XrhImqx-4JBO",
      "metadata": {
        "id": "XrhImqx-4JBO"
      },
      "source": [
        "**TODO** Q7: Edit this cell to answer the following question: Is the\n",
        "data complete, or is some relevant data missing? Why would some\n",
        "locations only have partial data available (missing some\n",
        "`...percent_change_from_baseline` fields for some dates)? (Even if, for\n",
        "the U.S. state you have chosen, the data is complete, explain why some\n",
        "data may be missing for other regions.)\n",
        "\n",
        "**Include a short quote from the material you read in the “Learn about\n",
        "the data” section to answer this question. Indicate that it is a quote\n",
        "using quotation marks or a block quote, and cite the source, including a\n",
        "URL.**"
      ]
    },
    {
      "cell_type": "markdown",
      "id": "Vms_thGz4JBO",
      "metadata": {
        "id": "Vms_thGz4JBO"
      },
      "source": [
        "To track trends in cases and vaccinations alongside mobility trends, we\n",
        "can also read in data from several other sources. For example,\n",
        "\n",
        "-   Our World in Data distributes data about COVID-19 vaccination status\n",
        "    over time for U.S. states in their [Github\n",
        "    repository](https://github.com/owid/covid-19-data).\n",
        "-   The New York Times distributes data about COVID-19 cumulative cases\n",
        "    over time for U.S. states in their [Github\n",
        "    repository](https://github.com/nytimes/covid-19-data).\n",
        "\n",
        "You can choose whether to look at vaccination trends or case trends for\n",
        "the U.S. state you have selected. Use one of the following cells to read\n",
        "in the data, convert the `date` field to a `datetime`, and get the\n",
        "subset of the data that applies to the specific U.S. state for which you\n",
        "are exploring mobility data.\n",
        "\n",
        "Then, use `pandas` functions to check your new data frame and look at\n",
        "the first few rows of data."
      ]
    },
    {
      "cell_type": "code",
      "execution_count": null,
      "id": "M6668L024JBP",
      "metadata": {
        "id": "M6668L024JBP"
      },
      "outputs": [],
      "source": [
        "# TODO Q8 - Vaccinations option\n",
        "\n",
        "url_vax = 'https://github.com/owid/covid-19-data/raw/master/public/data/vaccinations/us_state_vaccinations.csv'\n",
        "# df_vax = ...\n",
        "# df_vax['date'] = ...\n",
        "# df_vax_subset = ...\n",
        "# check the data frame and look at a few rows"
      ]
    },
    {
      "cell_type": "code",
      "execution_count": null,
      "id": "aEOadont4JBP",
      "metadata": {
        "id": "aEOadont4JBP"
      },
      "outputs": [],
      "source": [
        "# TODO Q8 - Cases option\n",
        "\n",
        "url_cases = 'https://github.com/nytimes/covid-19-data/raw/master/us-states.csv'\n",
        "# df_cases = ...\n",
        "# df_cases['date'] = ...\n",
        "# df_cases_subset = ...\n",
        "# check the data frame and look at a few rows"
      ]
    },
    {
      "cell_type": "markdown",
      "id": "ZTVR57Yb4JBP",
      "metadata": {
        "id": "ZTVR57Yb4JBP"
      },
      "source": [
        "Visualize data\n",
        "--------------\n",
        "\n",
        "Finally, we are going to visualize the changes in human mobility over\n",
        "this time, for the location you have chosen, alongside either\n",
        "vaccination trends or cases trends.\n",
        "\n",
        "In the following cell, create a figure with seven subplots, arranged\n",
        "vertically. (You can refer to the example in the “Python + numpy”\n",
        "notebook from this week’s lesson.) On the horizontal axis, put the date.\n",
        "On the vertical axes, show (as a line):\n",
        "\n",
        "-   `retail_and_recreation_percent_change_from_baseline` in the top\n",
        "    subplot\n",
        "-   `grocery_and_pharmacy_percent_change_from_baseline` in the next\n",
        "    subplot\n",
        "-   `parks_percent_change_from_baseline` in the next subplot\n",
        "-   `transit_stations_percent_change_from_baseline` in the next subplot\n",
        "-   `workplaces_percent_change_from_baseline` in the next subplot\n",
        "-   `residential_percent_change_from_baseline` in the next subplot\n",
        "-   either COVID-19 cases or vaccinations in the bottom subplot\n",
        "\n",
        "Make sure to clearly label each axis. Use `matplotlib` library\n",
        "documentation to adjust your figures and make your plot look nice!"
      ]
    },
    {
      "cell_type": "code",
      "execution_count": null,
      "id": "i-4Ospzz4JBP",
      "metadata": {
        "id": "i-4Ospzz4JBP"
      },
      "outputs": [],
      "source": [
        "# TODO Q9\n",
        "# create visualization"
      ]
    },
    {
      "cell_type": "markdown",
      "id": "rV5rAlJt4JBQ",
      "metadata": {
        "id": "rV5rAlJt4JBQ"
      },
      "source": [
        "**TODO** Q10: Answer the following questions:\n",
        "\n",
        "-   Do the results seem to satisfy “common sense”?\n",
        "-   Make sure to explain any trends, patterns, or notable anomalies\n",
        "    observed in your mobility data.\n",
        "-   Which trends, patterns, or notable anomalies in the mobility data\n",
        "    are likely related to COVID-19 cases, non-pharmaceutical\n",
        "    interventions such as stay-at-home orders, or vaccinations?\n",
        "-   Which trends, patterns, or notable anomalies in the mobility data\n",
        "    are likely related to other factors?\n",
        "-   Cite specific evidence from your plot to support your answer.\n",
        "\n",
        "**TODO** Q11: In the [Calibrate\n",
        "Region](https://support.google.com/covid19-mobility/checklist/9834261?hl=en&ref_topic=9822927)\n",
        "checklist, Google suggests a number of reasons why their mobility data\n",
        "might *not* be useful for understanding the effect of COVID-19-related\n",
        "interventions, or why the data might be misleading.\n",
        "\n",
        "-   For the U.S. state you have chosen, briefly answer *all* of the\n",
        "    questions in that checklist, and explain how your answer affects the\n",
        "    validity of the data.\n",
        "\n",
        "-   Based on your answers, do you think there are any serious problems\n",
        "    associated with using this data for understanding user mobility\n",
        "    changes due to COVID-19?"
      ]
    }
  ],
  "metadata": {
    "colab": {
      "include_colab_link": true,
      "provenance": []
    },
    "kernelspec": {
      "display_name": "Python 3",
      "language": "python",
      "name": "python3"
    },
    "language_info": {
      "codemirror_mode": {
        "name": "ipython",
        "version": 3
      },
      "file_extension": ".py",
      "mimetype": "text/x-python",
      "name": "python",
      "nbconvert_exporter": "python",
      "pygments_lexer": "ipython3",
      "version": "3.9.13"
    }
  },
  "nbformat": 4,
  "nbformat_minor": 5
}
