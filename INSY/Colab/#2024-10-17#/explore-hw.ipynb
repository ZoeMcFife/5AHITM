{
  "cells": [
    {
      "cell_type": "markdown",
      "metadata": {
        "colab_type": "text",
        "id": "view-in-github"
      },
      "source": [
        "<a href=\"https://colab.research.google.com/github/ZoeMcFife/5AHITM/blob/main/INSY/Colab/%232024-10-17%23/explore-hw.ipynb\" target=\"_parent\"><img src=\"https://colab.research.google.com/assets/colab-badge.svg\" alt=\"Open In Colab\"/></a>"
      ]
    },
    {
      "cell_type": "markdown",
      "id": "Vu0Ev3_i4JBE",
      "metadata": {
        "id": "Vu0Ev3_i4JBE"
      },
      "source": [
        "Assignment: Exploratory data analysis\n",
        "=====================================\n",
        "\n",
        "**TODO**: Edit this cell to fill in your name:\n",
        "\n",
        "-   **Name**: Bunea"
      ]
    },
    {
      "cell_type": "markdown",
      "id": "7_oAb8_w4JBF",
      "metadata": {
        "id": "7_oAb8_w4JBF"
      },
      "source": [
        "Introduction\n",
        "------------\n",
        "\n",
        "In this assignment, we will practice using exploratory data analysis on\n",
        "Google’s COVID-19 Community Mobility data.\n",
        "\n",
        "This data was collected from Google Maps users around the world over the\n",
        "last few months - including you, *if* you have Google Maps on your phone\n",
        "and have turned on the Location History setting. It combines location\n",
        "history from a large number of users to capture the overall increase or\n",
        "decrease in time spent in places such as: retail and recreation\n",
        "facilities, groceries and pharmacies, parks, transit stations,\n",
        "workplaces, and residences.\n",
        "\n",
        "The data shows how users’ mobility patterns - what types of places they\n",
        "spend time in - varied over the course of the COVID-19 pandemic.\n",
        "\n",
        "As you work through this notebook, you will see that some text and code\n",
        "cells are marked with a “TODO” at the top. You’ll have to edit these\n",
        "cells to fill in the code or answer the questions as indicated.\n",
        "\n",
        "When you are finished, make sure you have run all of the cells in the\n",
        "notebook (in order), and then create a PDF from it. Submit the PDF on\n",
        "Gradescope.\n",
        "\n",
        "**Important note**: You won’t necessarily have learned or seen in\n",
        "advance how to use all the Python commands and library functions you\n",
        "need to complete this assignment. That’s OK. Part of the learning\n",
        "objective here is to practice finding and applying that kind of new\n",
        "information as you go! Use the library documentation, search the\n",
        "Internet, or ask questions on Ed if you need any help."
      ]
    },
    {
      "cell_type": "markdown",
      "id": "KOJASB7E4JBG",
      "metadata": {
        "id": "KOJASB7E4JBG"
      },
      "source": [
        "Learn about the data\n",
        "--------------------\n",
        "\n",
        "First, it is worthwhile to learn more about the data: how it is\n",
        "collected, what is included, how Google gets consent to collect this\n",
        "data, and how user privacy is protected. Google provides several\n",
        "resources for learning about the data:\n",
        "\n",
        "-   [Blog\n",
        "    post](https://www.blog.google/technology/health/covid-19-community-mobility-reports?hl=en)\n",
        "-   [About this\n",
        "    data](https://www.google.com/covid19/mobility/data_documentation.html?hl=en#about-this-data)\n",
        "-   [Understand the\n",
        "    data](https://support.google.com/covid19-mobility/answer/9825414?hl=en&ref_topic=9822927)"
      ]
    },
    {
      "cell_type": "markdown",
      "id": "_E5qwAw74JBH",
      "metadata": {
        "id": "_E5qwAw74JBH"
      },
      "source": [
        "Read in data\n",
        "------------\n",
        "\n",
        "Now you are ready to read the data into your notebook.\n",
        "\n",
        "Visit Google’s web page for the [COVID-19 Community\n",
        "Mobility](https://www.google.com/covid19/mobility/) project to get the\n",
        "URL for the data.\n",
        "\n",
        "(Specific instructions will depend on your browser and operating system,\n",
        "but on my laptop, I can get the URL by right-clicking on the button that\n",
        "says “Download global CSV” and choosing “Copy Link Address”.)\n",
        "\n",
        "Then, in the following cells, use that URL to read the data into a\n",
        "pandas Data Frame called `df`. (You can follow the example in the\n",
        "“Exploratory data analysis” notebook from this week’s lesson.)"
      ]
    },
    {
      "cell_type": "code",
      "execution_count": 1,
      "id": "sgSiYVh04JBH",
      "metadata": {
        "id": "sgSiYVh04JBH"
      },
      "outputs": [],
      "source": [
        "import pandas as pd\n",
        "import seaborn as sns\n",
        "import matplotlib.pyplot as plt"
      ]
    },
    {
      "cell_type": "code",
      "execution_count": null,
      "id": "OhVh6ynR4JBI",
      "metadata": {
        "id": "OhVh6ynR4JBI"
      },
      "outputs": [],
      "source": [
        "# TODO Q1\n",
        "# url = ...\n",
        "# df = ..."
      ]
    },
    {
      "cell_type": "markdown",
      "id": "Gk8nMDfC4JBJ",
      "metadata": {
        "id": "Gk8nMDfC4JBJ"
      },
      "source": [
        "Use the `info()` and `head()` functions to show some basic information\n",
        "about the data and to look at the first few samples."
      ]
    },
    {
      "cell_type": "code",
      "execution_count": null,
      "id": "zP6FW-uc4JBJ",
      "metadata": {
        "id": "zP6FW-uc4JBJ"
      },
      "outputs": [],
      "source": [
        "# TODO Q2\n",
        "# use info()"
      ]
    },
    {
      "cell_type": "code",
      "execution_count": null,
      "id": "7tEa9ztf4JBK",
      "metadata": {
        "id": "7tEa9ztf4JBK"
      },
      "outputs": [],
      "source": [
        "# TODO Q3\n",
        "# use head()"
      ]
    },
    {
      "cell_type": "markdown",
      "id": "Td1I1Dmh4JBM",
      "metadata": {
        "id": "Td1I1Dmh4JBM"
      },
      "source": [
        "Basic data manipulations\n",
        "------------------------"
      ]
    },
    {
      "cell_type": "markdown",
      "id": "cvuWyRf84JBM",
      "metadata": {
        "id": "cvuWyRf84JBM"
      },
      "source": [
        "The data includes a date field, but it may have been read in as a\n",
        "string, rather than as a `datetime`. If that’s the case, use\n",
        "`to_datetime()` to convert the field into a datetime format. (You can\n",
        "follow the example in the “Exploratory data analysis” notebook from this\n",
        "week’s lesson.)\n",
        "\n",
        "Then, use `info()` again to make sure your change was applied. Note the\n",
        "difference in the output, relative to the cell above."
      ]
    },
    {
      "cell_type": "code",
      "execution_count": null,
      "id": "DUbqPw8T4JBN",
      "metadata": {
        "id": "DUbqPw8T4JBN"
      },
      "outputs": [],
      "source": [
        "# TODO Q4\n",
        "# df['date'] = ...\n"
      ]
    },
    {
      "cell_type": "markdown",
      "id": "eX37MmR94JBN",
      "metadata": {
        "id": "eX37MmR94JBN"
      },
      "source": [
        "Next, you are going to extract the subset of data for the U.S. state of\n",
        "your choice. You can choose any location *except* New York.\n",
        "\n",
        "The data is reported for different regions, with different levels of\n",
        "granularity available. This is best explained by example:\n",
        "\n",
        "Suppose I want the overall trend from the entire U.S. I would use the\n",
        "subset of data where `country_region` is equal to “United States” and\n",
        "`sub_region_1` is null:\n",
        "\n",
        "    df_subset = df[(df['country_region'].eq(\"United States\")) & (df['sub_region_1'].isnull())]\n",
        "\n",
        "Suppose I want the overall trend from the entire state of New York: I\n",
        "would use the subset of data where `country_region` is equal to “United\n",
        "States”, `sub_region_1` is equal to “New York”, and `sub_region_2` is\n",
        "null:\n",
        "\n",
        "    df_subset = df[(df['country_region'].eq(\"United States\")) & (df['sub_region_1'].eq(\"New York\")) & (df['sub_region_2'].isnull())]\n",
        "\n",
        "Suppose I want the overall trend from Brooklyn, New York (Kings County):\n",
        "I would use the subset of data where `country_region` is equal to\n",
        "“United States”, `sub_region_1` is equal to “New York”, and\n",
        "`sub_region_2` is equal to “Kings County”:\n",
        "\n",
        "    df_subset = df[(df['country_region'].eq(\"United States\")) & (df['sub_region_1'].eq(\"New York\")) & (df['sub_region_2'].eq(\"Kings County\"))]\n",
        "\n",
        "In the following cell(s), fill in the code to create a data frame\n",
        "`df_subset` with data from a single U.S. state (but *not* New York)."
      ]
    },
    {
      "cell_type": "code",
      "execution_count": null,
      "id": "ViX1XhhN4JBN",
      "metadata": {
        "id": "ViX1XhhN4JBN"
      },
      "outputs": [],
      "source": [
        "# TODO Q5\n",
        "# df_subset ="
      ]
    },
    {
      "cell_type": "markdown",
      "id": "IBcCzAaj4JBO",
      "metadata": {
        "id": "IBcCzAaj4JBO"
      },
      "source": [
        "Is the data complete, or is some data not available for the location you\n",
        "have chosen? In the following cell, write code to check for missing data\n",
        "in the `...percent_change_from_baseline` fields.\n",
        "\n",
        "Also check whether there are any missing rows of data. What date range\n",
        "is represented in this data? Is every day within that range included in\n",
        "the data?"
      ]
    },
    {
      "cell_type": "code",
      "execution_count": null,
      "id": "swhHNg4u4JBO",
      "metadata": {
        "id": "swhHNg4u4JBO"
      },
      "outputs": [],
      "source": [
        "# TODO Q6\n",
        "# df_subset"
      ]
    },
    {
      "cell_type": "markdown",
      "id": "XrhImqx-4JBO",
      "metadata": {
        "id": "XrhImqx-4JBO"
      },
      "source": [
        "**TODO** Q7: Edit this cell to answer the following question: Is the\n",
        "data complete, or is some relevant data missing? Why would some\n",
        "locations only have partial data available (missing some\n",
        "`...percent_change_from_baseline` fields for some dates)? (Even if, for\n",
        "the U.S. state you have chosen, the data is complete, explain why some\n",
        "data may be missing for other regions.)\n",
        "\n",
        "**Include a short quote from the material you read in the “Learn about\n",
        "the data” section to answer this question. Indicate that it is a quote\n",
        "using quotation marks or a block quote, and cite the source, including a\n",
        "URL.**"
      ]
    },
    {
      "cell_type": "markdown",
      "id": "Vms_thGz4JBO",
      "metadata": {
        "id": "Vms_thGz4JBO"
      },
      "source": [
        "To track trends in cases and vaccinations alongside mobility trends, we\n",
        "can also read in data from several other sources. For example,\n",
        "\n",
        "-   Our World in Data distributes data about COVID-19 vaccination status\n",
        "    over time for U.S. states in their [Github\n",
        "    repository](https://github.com/owid/covid-19-data).\n",
        "-   The New York Times distributes data about COVID-19 cumulative cases\n",
        "    over time for U.S. states in their [Github\n",
        "    repository](https://github.com/nytimes/covid-19-data).\n",
        "\n",
        "You can choose whether to look at vaccination trends or case trends for\n",
        "the U.S. state you have selected. Use one of the following cells to read\n",
        "in the data, convert the `date` field to a `datetime`, and get the\n",
        "subset of the data that applies to the specific U.S. state for which you\n",
        "are exploring mobility data.\n",
        "\n",
        "Then, use `pandas` functions to check your new data frame and look at\n",
        "the first few rows of data."
      ]
    },
    {
      "cell_type": "code",
      "execution_count": null,
      "id": "M6668L024JBP",
      "metadata": {
        "id": "M6668L024JBP"
      },
      "outputs": [],
      "source": [
        "# TODO Q8 - Vaccinations option\n",
        "\n",
        "url_vax = 'https://github.com/owid/covid-19-data/raw/master/public/data/vaccinations/us_state_vaccinations.csv'\n",
        "# df_vax = ...\n",
        "# df_vax['date'] = ...\n",
        "# df_vax_subset = ...\n",
        "# check the data frame and look at a few rows"
      ]
    },
    {
      "cell_type": "code",
      "execution_count": null,
      "id": "aEOadont4JBP",
      "metadata": {
        "id": "aEOadont4JBP"
      },
      "outputs": [],
      "source": [
        "# TODO Q8 - Cases option\n",
        "\n",
        "url_cases = 'https://github.com/nytimes/covid-19-data/raw/master/us-states.csv'\n",
        "# df_cases = ...\n",
        "# df_cases['date'] = ...\n",
        "# df_cases_subset = ...\n",
        "# check the data frame and look at a few rows"
      ]
    },
    {
      "cell_type": "markdown",
      "id": "ZTVR57Yb4JBP",
      "metadata": {
        "id": "ZTVR57Yb4JBP"
      },
      "source": [
        "Visualize data\n",
        "--------------\n",
        "\n",
        "Finally, we are going to visualize the changes in human mobility over\n",
        "this time, for the location you have chosen, alongside either\n",
        "vaccination trends or cases trends.\n",
        "\n",
        "In the following cell, create a figure with seven subplots, arranged\n",
        "vertically. (You can refer to the example in the “Python + numpy”\n",
        "notebook from this week’s lesson.) On the horizontal axis, put the date.\n",
        "On the vertical axes, show (as a line):\n",
        "\n",
        "-   `retail_and_recreation_percent_change_from_baseline` in the top\n",
        "    subplot\n",
        "-   `grocery_and_pharmacy_percent_change_from_baseline` in the next\n",
        "    subplot\n",
        "-   `parks_percent_change_from_baseline` in the next subplot\n",
        "-   `transit_stations_percent_change_from_baseline` in the next subplot\n",
        "-   `workplaces_percent_change_from_baseline` in the next subplot\n",
        "-   `residential_percent_change_from_baseline` in the next subplot\n",
        "-   either COVID-19 cases or vaccinations in the bottom subplot\n",
        "\n",
        "Make sure to clearly label each axis. Use `matplotlib` library\n",
        "documentation to adjust your figures and make your plot look nice!"
      ]
    },
    {
      "cell_type": "code",
      "execution_count": null,
      "id": "i-4Ospzz4JBP",
      "metadata": {
        "id": "i-4Ospzz4JBP"
      },
      "outputs": [],
      "source": [
        "# TODO Q9\n",
        "# create visualization"
      ]
    },
    {
      "cell_type": "markdown",
      "id": "rV5rAlJt4JBQ",
      "metadata": {
        "id": "rV5rAlJt4JBQ"
      },
      "source": [
        "**TODO** Q10: Answer the following questions:\n",
        "\n",
        "-   Do the results seem to satisfy “common sense”?\n",
        "-   Make sure to explain any trends, patterns, or notable anomalies\n",
        "    observed in your mobility data.\n",
        "-   Which trends, patterns, or notable anomalies in the mobility data\n",
        "    are likely related to COVID-19 cases, non-pharmaceutical\n",
        "    interventions such as stay-at-home orders, or vaccinations?\n",
        "-   Which trends, patterns, or notable anomalies in the mobility data\n",
        "    are likely related to other factors?\n",
        "-   Cite specific evidence from your plot to support your answer.\n",
        "\n",
        "**TODO** Q11: In the [Calibrate\n",
        "Region](https://support.google.com/covid19-mobility/checklist/9834261?hl=en&ref_topic=9822927)\n",
        "checklist, Google suggests a number of reasons why their mobility data\n",
        "might *not* be useful for understanding the effect of COVID-19-related\n",
        "interventions, or why the data might be misleading.\n",
        "\n",
        "-   For the U.S. state you have chosen, briefly answer *all* of the\n",
        "    questions in that checklist, and explain how your answer affects the\n",
        "    validity of the data.\n",
        "\n",
        "-   Based on your answers, do you think there are any serious problems\n",
        "    associated with using this data for understanding user mobility\n",
        "    changes due to COVID-19?"
      ]
    }
  ],
  "metadata": {
    "colab": {
      "include_colab_link": true,
      "provenance": []
    },
    "kernelspec": {
      "display_name": "Python 3",
      "language": "python",
      "name": "python3"
    },
    "language_info": {
      "codemirror_mode": {
        "name": "ipython",
        "version": 3
      },
      "file_extension": ".py",
      "mimetype": "text/x-python",
      "name": "python",
      "nbconvert_exporter": "python",
      "pygments_lexer": "ipython3",
      "version": "3.9.13"
    }
  },
  "nbformat": 4,
  "nbformat_minor": 5
}
